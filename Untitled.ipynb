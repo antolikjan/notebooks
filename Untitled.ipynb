{
 "cells": [
  {
   "cell_type": "code",
   "execution_count": 8,
   "metadata": {},
   "outputs": [],
   "source": [
    "from pyNN.random import NumpyRNG\n",
    "from parameters.random import ParameterDist\n",
    "from mozaik.tools.distribution_parametrization import MozaikExtendedParameterSet, load_parameters,PyNNDistribution\n",
    "from pyNN.random import RandomDistribution\n",
    "from parameters.random import *\n",
    "\n",
    "f = open('/home/antolikjan/remote/MS/DATA/LSV1M_FINAL/parameters','rt')\n",
    "f1 = open('/home/antolikjan/remote/MS/DATA/LSV1M_FINAL/parameters1','rt')\n",
    "\n",
    "s = f.read()\n",
    "s1 = f1.read()\n",
    "\n",
    "d = eval(s)\n",
    "d1 = eval(s1)\n",
    "f.close()\n",
    "f1.close()\n"
   ]
  },
  {
   "cell_type": "code",
   "execution_count": 2,
   "metadata": {},
   "outputs": [
    {
     "data": {
      "text/plain": [
       "{'mpi_seed', 'pynn_seed'}"
      ]
     },
     "execution_count": 2,
     "metadata": {},
     "output_type": "execute_result"
    }
   ],
   "source": []
  },
  {
   "cell_type": "code",
   "execution_count": 5,
   "metadata": {},
   "outputs": [],
   "source": [
    "def cmp(a,b,key):\n",
    "    if (type(a) == dict) and (type(b) == dict):\n",
    "       if set(a.keys()) != set(b.keys()):\n",
    "          print \"different keys:\" , set(a.keys()).symmetric_difference(set(b.keys()))\n",
    "       for k in  set(a.keys()).intersection(set(b.keys())):\n",
    "           cmp(a[k],b[k],k)\n",
    "    elif a != b:\n",
    "       print \"DIFF \" ,str(key), a,b\n",
    "    "
   ]
  },
  {
   "cell_type": "code",
   "execution_count": 11,
   "metadata": {},
   "outputs": [
    {
     "name": "stdout",
     "output_type": "stream",
     "text": [
      "different keys: set(['trial'])\n",
      "DIFF  results_dir /home/antolikjan/dev/pkg/mozaikold/contrib/LSV1M_IDV/20201123-071604[param_final.defaults]CombinationParamSearch{sheets.trial:[1]}// /home/jantolik/projects/mozaikold/contrib/New/20180910-115949[new_std_orf_large.defaults]CombinationParamSearch{15}//\n",
      "different keys: set(['trial'])\n",
      "DIFF  tau_psc 3.0 0.0\n",
      "DIFF  v RandomDistribution('uniform', {'high': -51, 'low': -70}, NumpyRNG(seed=None)) RandomDistribution('uniform', {'high': -51, 'low': -70}, NumpyRNG(seed=None))\n",
      "DIFF  tau_psc 3.0 0.0\n",
      "DIFF  orientation_preference UniformDist(max=3.14159265359,min=0.0) UniformDist(max=3.14159265359,min=0.0)\n",
      "DIFF  pynn_distribution RandomDistribution('uniform', {'high': 2.4, 'low': 1.4}, NumpyRNG(seed=None)) RandomDistribution('uniform', {'high': 2.4, 'low': 1.4}, NumpyRNG(seed=None))\n",
      "DIFF  phase UniformDist(max=6.28318530718,min=0.0) UniformDist(max=6.28318530718,min=0.0)\n",
      "DIFF  frequency UniformDist(max=0.8,min=0.8) UniformDist(max=0.8,min=0.8)\n",
      "DIFF  num_samples UniformDist(max=55,min=55) UniformDist(max=55,min=55)\n",
      "DIFF  tau_psc 3.0 0.0\n",
      "DIFF  v RandomDistribution('uniform', {'high': -51, 'low': -70}, NumpyRNG(seed=None)) RandomDistribution('uniform', {'high': -51, 'low': -70}, NumpyRNG(seed=None))\n",
      "DIFF  tau_psc 3.0 0.0\n",
      "DIFF  tau_psc 3.0 0.0\n",
      "DIFF  tau_psc 3.0 0.0\n",
      "DIFF  tau_psc 3.0 0.0\n",
      "DIFF  tau_psc 3.0 0.0\n",
      "DIFF  v RandomDistribution('uniform', {'high': -51, 'low': -70}, NumpyRNG(seed=None)) RandomDistribution('uniform', {'high': -51, 'low': -70}, NumpyRNG(seed=None))\n",
      "DIFF  tau_psc 3.0 0.0\n",
      "DIFF  tau_psc 3.0 0.0\n",
      "DIFF  tau_psc 3.0 0.0\n",
      "DIFF  v RandomDistribution('uniform', {'high': -51, 'low': -70}, NumpyRNG(seed=None)) RandomDistribution('uniform', {'high': -51, 'low': -70}, NumpyRNG(seed=None))\n",
      "DIFF  orientation_preference UniformDist(max=3.14159265359,min=0.0) UniformDist(max=3.14159265359,min=0.0)\n",
      "DIFF  pynn_distribution RandomDistribution('uniform', {'high': 1.5, 'low': 0.5}, NumpyRNG(seed=None)) RandomDistribution('uniform', {'high': 1.5, 'low': 0.5}, NumpyRNG(seed=None))\n",
      "DIFF  phase UniformDist(max=6.28318530718,min=0.0) UniformDist(max=6.28318530718,min=0.0)\n",
      "DIFF  frequency UniformDist(max=0.8,min=0.8) UniformDist(max=0.8,min=0.8)\n",
      "DIFF  num_samples UniformDist(max=44.0,min=44.0) UniformDist(max=44.0,min=44.0)\n",
      "DIFF  tau_psc 3.0 0.0\n"
     ]
    }
   ],
   "source": [
    "cmp(d,d1,'root')"
   ]
  },
  {
   "cell_type": "code",
   "execution_count": null,
   "metadata": {},
   "outputs": [],
   "source": []
  }
 ],
 "metadata": {
  "kernelspec": {
   "display_name": "Python 2",
   "language": "python",
   "name": "python2"
  },
  "language_info": {
   "codemirror_mode": {
    "name": "ipython",
    "version": 2
   },
   "file_extension": ".py",
   "mimetype": "text/x-python",
   "name": "python",
   "nbconvert_exporter": "python",
   "pygments_lexer": "ipython2",
   "version": "2.7.15+"
  }
 },
 "nbformat": 4,
 "nbformat_minor": 2
}
