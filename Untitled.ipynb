{
 "cells": [
  {
   "cell_type": "code",
   "execution_count": 11,
   "metadata": {},
   "outputs": [],
   "source": [
    "from pyNN.random import NumpyRNG\n",
    "from parameters.random import ParameterDist\n",
    "from mozaik.tools.distribution_parametrization import MozaikExtendedParameterSet, load_parameters,PyNNDistribution\n",
    "from pyNN.random import RandomDistribution\n",
    "from parameters.random import *\n",
    "\n",
    "f = open('/home/antolikjan/remote/parameters','rt')\n",
    "f1 = open('/home/antolikjan/remote/parameters1','rt')\n",
    "\n",
    "s = f.read()\n",
    "s1 = f1.read()\n",
    "\n",
    "d = eval(s)\n",
    "d1 = eval(s1)\n",
    "f.close()\n",
    "f1.close()\n"
   ]
  },
  {
   "cell_type": "code",
   "execution_count": 15,
   "metadata": {},
   "outputs": [
    {
     "data": {
      "text/plain": [
       "{'trial'}"
      ]
     },
     "execution_count": 15,
     "metadata": {},
     "output_type": "execute_result"
    }
   ],
   "source": [
    "set(d.keys()).symmetric_difference(set(d1.keys()))"
   ]
  },
  {
   "cell_type": "code",
   "execution_count": 31,
   "metadata": {},
   "outputs": [],
   "source": [
    "def cmp(a,b):\n",
    "    if (type(a) == dict) and (type(b) == dict):\n",
    "       if set(a.keys()) != set(b.keys()):\n",
    "          print \"different keys:\" , set(a.keys()).symmetric_difference(set(b.keys()))\n",
    "       for k in  set(a.keys()).intersection(set(b.keys())):\n",
    "           cmp(a[k],b[k])\n",
    "    elif a != b:\n",
    "       print \"DIFF\" , a,b\n",
    "    "
   ]
  },
  {
   "cell_type": "code",
   "execution_count": 32,
   "metadata": {},
   "outputs": [
    {
     "name": "stdout",
     "output_type": "stream",
     "text": [
      "different keys: set(['trial'])\n",
      "DIFF /home/antolikjan/dev/pkg/mozaiknew/contrib/LSV1M_IDV/20200716-214853[param_final.defaults]CombinationParamSearch{4}// /home/antolikjan/dev/pkg/mozaikold/contrib/LSV1M_IDV/20200629-231440[param_final.defaults]CombinationParamSearch{sheets.trial:[1, 2, 3, 4]}//\n",
      "different keys: set(['trial'])\n",
      "DIFF RandomDistribution('uniform', {'high': 'low', 'low': 'high'}, NumpyRNG(seed=None)) RandomDistribution('uniform', {'high': 'low', 'low': 'high'}, NumpyRNG(seed=None))\n",
      "DIFF UniformDist(max=3.14159265359,min=0.0) UniformDist(max=3.14159265359,min=0.0)\n",
      "DIFF RandomDistribution('uniform', {'high': 'low', 'low': 'high'}, NumpyRNG(seed=None)) RandomDistribution('uniform', {'high': 'low', 'low': 'high'}, NumpyRNG(seed=None))\n",
      "DIFF UniformDist(max=6.28318530718,min=0.0) UniformDist(max=6.28318530718,min=0.0)\n",
      "DIFF UniformDist(max=0.8,min=0.8) UniformDist(max=0.8,min=0.8)\n",
      "DIFF UniformDist(max=55,min=55) UniformDist(max=55,min=55)\n",
      "DIFF RandomDistribution('uniform', {'high': 'low', 'low': 'high'}, NumpyRNG(seed=None)) RandomDistribution('uniform', {'high': 'low', 'low': 'high'}, NumpyRNG(seed=None))\n",
      "DIFF RandomDistribution('uniform', {'high': 'low', 'low': 'high'}, NumpyRNG(seed=None)) RandomDistribution('uniform', {'high': 'low', 'low': 'high'}, NumpyRNG(seed=None))\n",
      "DIFF RandomDistribution('uniform', {'high': 'low', 'low': 'high'}, NumpyRNG(seed=None)) RandomDistribution('uniform', {'high': 'low', 'low': 'high'}, NumpyRNG(seed=None))\n",
      "DIFF UniformDist(max=3.14159265359,min=0.0) UniformDist(max=3.14159265359,min=0.0)\n",
      "DIFF RandomDistribution('uniform', {'high': 'low', 'low': 'high'}, NumpyRNG(seed=None)) RandomDistribution('uniform', {'high': 'low', 'low': 'high'}, NumpyRNG(seed=None))\n",
      "DIFF UniformDist(max=6.28318530718,min=0.0) UniformDist(max=6.28318530718,min=0.0)\n",
      "DIFF UniformDist(max=0.8,min=0.8) UniformDist(max=0.8,min=0.8)\n",
      "DIFF UniformDist(max=44.0,min=44.0) UniformDist(max=44.0,min=44.0)\n"
     ]
    }
   ],
   "source": [
    "cmp(d,d1)"
   ]
  },
  {
   "cell_type": "code",
   "execution_count": null,
   "metadata": {},
   "outputs": [],
   "source": []
  }
 ],
 "metadata": {
  "kernelspec": {
   "display_name": "Python 2",
   "language": "python",
   "name": "python2"
  },
  "language_info": {
   "codemirror_mode": {
    "name": "ipython",
    "version": 2
   },
   "file_extension": ".py",
   "mimetype": "text/x-python",
   "name": "python",
   "nbconvert_exporter": "python",
   "pygments_lexer": "ipython2",
   "version": "2.7.15+"
  }
 },
 "nbformat": 4,
 "nbformat_minor": 2
}
