{
 "metadata": {
  "name": "",
  "signature": "sha256:85fdb7a1d8e0dc52c8afe2e95d4e24726a3f5ac4e60ab50c5a555a46417ed149"
 },
 "nbformat": 3,
 "nbformat_minor": 0,
 "worksheets": [
  {
   "cells": [
    {
     "cell_type": "code",
     "collapsed": false,
     "input": [
      "import sys\n",
      "import matplotlib.animation\n",
      "print matplotlib.animation.writers.list()\n",
      "sys.path.append('/home/jan/cluster/dev/pkg/mozaik/mozaik/')\n",
      "import numpy\n",
      "import mozaik\n",
      "from mozaik.controller import run_workflow, setup_logging\n",
      "from mozaik.storage.datastore import Hdf5DataStore,PickledDataStore\n",
      "from parameters import ParameterSet\n",
      "from mozaik.visualization.plotting import *\n",
      "\n",
      "from mozaik.analysis.technical import NeuronAnnotationsToPerNeuronValues\n",
      "from mozaik.tools.mozaik_parametrized import colapse, colapse_to_dictionary, MozaikParametrized\n",
      "from mozaik.analysis.analysis import *\n",
      "from mozaik.analysis.vision import *\n",
      "from mozaik.storage.queries import *\n",
      "import sys\n",
      "sys.path.append('/home/jan/cluster/dev/pkg/mozaik/mozaik/contrib/')\n",
      "sys.path.append('/home/jan/cluster/dev/pkg/mozaik/mozaik/contrib/SSNetowrks')\n",
      "\n",
      "\n",
      "setup_logging()\n",
      "\n",
      "data_store = PickledDataStore(load=True,parameters=ParameterSet({'root_directory':'/home/jan/cluster/dev/pkg/mozaik/mozaik/contrib/PushPullCCLISSOMModelSSIzL23/20150408-135819[param_new_topo_large_new_few_aff_stp_delays_corr_weaker_sp.defaults]CombinationParamSearch{9}/SelfSustainedPushPull_ParameterSearch_____base_weight:0.003_base_weight:0.0035_base_weight:0.0025_base_weight:0.0015_base_weight:0.0015_base_weight:0.0004_density:3600_ExcInhAfferentRatio:1.5_base_weight:0.0013', 'store_stimuli': False}),replace=True)\n",
      "\n"
     ],
     "language": "python",
     "metadata": {},
     "outputs": [
      {
       "output_type": "stream",
       "stream": "stdout",
       "text": [
        "[u'imagemagick_file', u'imagemagick', u'avconv', u'avconv_file']\n"
       ]
      }
     ],
     "prompt_number": 1
    },
    {
     "cell_type": "code",
     "collapsed": false,
     "input": [
      "print [ads.value_name for ads in param_filter_query(data_store,identifier='SingleValue').get_analysis_result()]"
     ],
     "language": "python",
     "metadata": {},
     "outputs": [
      {
       "output_type": "stream",
       "stream": "stdout",
       "text": [
        "[]\n"
       ]
      }
     ],
     "prompt_number": 2
    },
    {
     "cell_type": "code",
     "collapsed": false,
     "input": [
      "dsv = param_filter_query(data_store,st_direct_stimulation_name=\"None\",st_name=\"InternalStimulus\")   \n",
      "TrialAveragedFiringRate(dsv,ParameterSet({})).analyse()\n",
      "Analog_MeanSTDAndFanoFactor(param_filter_query(dsv,st_direct_stimulation_name=\"None\"),ParameterSet({})).analyse()\n",
      "TrialAveragedVarianceAndVarianceRatioOfConductances(param_filter_query(dsv,st_direct_stimulation_name=\"None\"),ParameterSet({})).analyse()\n",
      "PSTH(param_filter_query(dsv,st_direct_stimulation_name=\"None\"),ParameterSet({'bin_length' : 5.0})).analyse()\n",
      "Irregularity(param_filter_query(data_store,st_direct_stimulation_name=\"None\"),ParameterSet({})).analyse()\n",
      "CrossCorrelationOfExcitatoryAndInhibitoryConductances(param_filter_query(data_store,st_direct_stimulation_name=\"None\"),ParameterSet({})).analyse()\n",
      "PopulationMean(data_store,ParameterSet({})).analyse()"
     ],
     "language": "python",
     "metadata": {},
     "outputs": [
      {
       "output_type": "stream",
       "stream": "stderr",
       "text": [
        "INFO:Mozaik:Starting TrialAveragedFiringRate analysis\n"
       ]
      },
      {
       "output_type": "stream",
       "stream": "stderr",
       "text": [
        "  Starting TrialAveragedFiringRate analysis\n"
       ]
      },
      {
       "output_type": "stream",
       "stream": "stdout",
       "text": [
        "1\n",
        "1\n",
        "1"
       ]
      },
      {
       "output_type": "stream",
       "stream": "stdout",
       "text": [
        "\n",
        "1\n",
        "1"
       ]
      },
      {
       "output_type": "stream",
       "stream": "stdout",
       "text": [
        "\n",
        "1\n",
        "1"
       ]
      },
      {
       "output_type": "stream",
       "stream": "stdout",
       "text": [
        "\n",
        "1\n",
        "1"
       ]
      },
      {
       "output_type": "stream",
       "stream": "stdout",
       "text": [
        "\n",
        "1\n",
        "1"
       ]
      },
      {
       "output_type": "stream",
       "stream": "stderr",
       "text": [
        "WARNING:Mozaik:TrialAveragedFiringRate analysis took: 113.534276962seconds\n"
       ]
      },
      {
       "output_type": "stream",
       "stream": "stderr",
       "text": [
        "TrialAveragedFiringRate analysis took: 113.534276962seconds\n"
       ]
      },
      {
       "output_type": "stream",
       "stream": "stderr",
       "text": [
        "INFO:Mozaik:Starting Analog_MeanSTDAndFanoFactor analysis\n"
       ]
      },
      {
       "output_type": "stream",
       "stream": "stderr",
       "text": [
        "  Starting Analog_MeanSTDAndFanoFactor analysis\n"
       ]
      },
      {
       "output_type": "stream",
       "stream": "stderr",
       "text": [
        "/home/jan/.virtualenvs/mozaik/lib/python2.7/site-packages/mozaik/analysis/analysis.py:1077: RuntimeWarning: invalid value encountered in double_scalars\n",
        "  esyn_fano_factor = numpy.array([std**2/abs(mean) for (std,mean) in zip(esyn_std,esyn_mean)])\n",
        "/home/jan/.virtualenvs/mozaik/lib/python2.7/site-packages/mozaik/analysis/analysis.py:1078: RuntimeWarning: invalid value encountered in double_scalars\n",
        "  isyn_fano_factor = numpy.array([std**2/abs(mean) for (std,mean) in zip(isyn_std,isyn_mean)])\n",
        "WARNING:Mozaik:Analog_MeanSTDAndFanoFactor analysis took: 0.978017091751seconds\n"
       ]
      },
      {
       "output_type": "stream",
       "stream": "stderr",
       "text": [
        "Analog_MeanSTDAndFanoFactor analysis took: 0.978017091751seconds\n"
       ]
      },
      {
       "output_type": "stream",
       "stream": "stderr",
       "text": [
        "INFO:Mozaik:Starting TrialAveragedVarianceAndVarianceRatioOfConductances analysis\n"
       ]
      },
      {
       "output_type": "stream",
       "stream": "stderr",
       "text": [
        "  Starting TrialAveragedVarianceAndVarianceRatioOfConductances analysis\n"
       ]
      },
      {
       "output_type": "stream",
       "stream": "stderr",
       "text": [
        "/home/jan/.virtualenvs/mozaik/lib/python2.7/site-packages/mozaik/analysis/analysis.py:1116: RuntimeWarning: invalid value encountered in divide\n",
        "  variance_ratio = esyn_var / isyn_var\n",
        "/home/jan/.virtualenvs/mozaik/lib/python2.7/site-packages/mozaik/analysis/analysis.py:1117: RuntimeWarning: invalid value encountered in divide\n",
        "  mean_ratio = esyn_mean / isyn_mean\n",
        "WARNING:Mozaik:TrialAveragedVarianceAndVarianceRatioOfConductances analysis took: 0.740253925323seconds\n"
       ]
      },
      {
       "output_type": "stream",
       "stream": "stderr",
       "text": [
        "TrialAveragedVarianceAndVarianceRatioOfConductances analysis took: 0.740253925323seconds\n"
       ]
      },
      {
       "output_type": "stream",
       "stream": "stderr",
       "text": [
        "INFO:Mozaik:Starting PSTH analysis\n"
       ]
      },
      {
       "output_type": "stream",
       "stream": "stderr",
       "text": [
        "  Starting PSTH analysis\n"
       ]
      },
      {
       "output_type": "stream",
       "stream": "stderr",
       "text": [
        "WARNING:Mozaik:PSTH analysis took: 2.50751519203seconds\n"
       ]
      },
      {
       "output_type": "stream",
       "stream": "stderr",
       "text": [
        "PSTH analysis took: 2.50751519203seconds\n"
       ]
      },
      {
       "output_type": "stream",
       "stream": "stderr",
       "text": [
        "INFO:Mozaik:Starting Irregularity analysis\n"
       ]
      },
      {
       "output_type": "stream",
       "stream": "stderr",
       "text": [
        "  Starting Irregularity analysis\n"
       ]
      },
      {
       "output_type": "stream",
       "stream": "stderr",
       "text": [
        "WARNING:Mozaik:Irregularity analysis took: 0.896852970123seconds\n"
       ]
      },
      {
       "output_type": "stream",
       "stream": "stderr",
       "text": [
        "Irregularity analysis took: 0.896852970123seconds\n"
       ]
      },
      {
       "output_type": "stream",
       "stream": "stderr",
       "text": [
        "INFO:Mozaik:Starting CrossCorrelationOfExcitatoryAndInhibitoryConductances analysis\n"
       ]
      },
      {
       "output_type": "stream",
       "stream": "stderr",
       "text": [
        "  Starting CrossCorrelationOfExcitatoryAndInhibitoryConductances analysis\n"
       ]
      },
      {
       "output_type": "stream",
       "stream": "stderr",
       "text": [
        "WARNING:Mozaik:CrossCorrelationOfExcitatoryAndInhibitoryConductances analysis took: 693.64217782seconds\n"
       ]
      },
      {
       "output_type": "stream",
       "stream": "stderr",
       "text": [
        "CrossCorrelationOfExcitatoryAndInhibitoryConductances analysis took: 693.64217782seconds\n"
       ]
      },
      {
       "output_type": "stream",
       "stream": "stderr",
       "text": [
        "INFO:Mozaik:Starting PopulationMean analysis\n"
       ]
      },
      {
       "output_type": "stream",
       "stream": "stderr",
       "text": [
        "  Starting PopulationMean analysis\n"
       ]
      },
      {
       "output_type": "stream",
       "stream": "stderr",
       "text": [
        "WARNING:Mozaik:PopulationMean analysis took: 7.93146896362seconds\n"
       ]
      },
      {
       "output_type": "stream",
       "stream": "stderr",
       "text": [
        "PopulationMean analysis took: 7.93146896362seconds\n"
       ]
      },
      {
       "output_type": "stream",
       "stream": "stdout",
       "text": [
        "\n",
        "1\n"
       ]
      },
      {
       "ename": "NameError",
       "evalue": "name 'SpontaneousActivityLength' is not defined",
       "output_type": "pyerr",
       "traceback": [
        "\u001b[0;31m---------------------------------------------------------------------------\u001b[0m\n\u001b[0;31mNameError\u001b[0m                                 Traceback (most recent call last)",
        "\u001b[0;32m<ipython-input-3-8eaf58c3849d>\u001b[0m in \u001b[0;36m<module>\u001b[0;34m()\u001b[0m\n\u001b[1;32m      7\u001b[0m \u001b[0mCrossCorrelationOfExcitatoryAndInhibitoryConductances\u001b[0m\u001b[0;34m(\u001b[0m\u001b[0mparam_filter_query\u001b[0m\u001b[0;34m(\u001b[0m\u001b[0mdata_store\u001b[0m\u001b[0;34m,\u001b[0m\u001b[0mst_direct_stimulation_name\u001b[0m\u001b[0;34m=\u001b[0m\u001b[0;34m\"None\"\u001b[0m\u001b[0;34m)\u001b[0m\u001b[0;34m,\u001b[0m\u001b[0mParameterSet\u001b[0m\u001b[0;34m(\u001b[0m\u001b[0;34m{\u001b[0m\u001b[0;34m}\u001b[0m\u001b[0;34m)\u001b[0m\u001b[0;34m)\u001b[0m\u001b[0;34m.\u001b[0m\u001b[0manalyse\u001b[0m\u001b[0;34m(\u001b[0m\u001b[0;34m)\u001b[0m\u001b[0;34m\u001b[0m\u001b[0m\n\u001b[1;32m      8\u001b[0m \u001b[0mPopulationMean\u001b[0m\u001b[0;34m(\u001b[0m\u001b[0mdata_store\u001b[0m\u001b[0;34m,\u001b[0m\u001b[0mParameterSet\u001b[0m\u001b[0;34m(\u001b[0m\u001b[0;34m{\u001b[0m\u001b[0;34m}\u001b[0m\u001b[0;34m)\u001b[0m\u001b[0;34m)\u001b[0m\u001b[0;34m.\u001b[0m\u001b[0manalyse\u001b[0m\u001b[0;34m(\u001b[0m\u001b[0;34m)\u001b[0m\u001b[0;34m\u001b[0m\u001b[0m\n\u001b[0;32m----> 9\u001b[0;31m \u001b[0mSpontaneousActivityLength\u001b[0m\u001b[0;34m(\u001b[0m\u001b[0mdata_store\u001b[0m\u001b[0;34m,\u001b[0m\u001b[0mParameterSet\u001b[0m\u001b[0;34m(\u001b[0m\u001b[0;34m{\u001b[0m\u001b[0;34m}\u001b[0m\u001b[0;34m)\u001b[0m\u001b[0;34m)\u001b[0m\u001b[0;34m.\u001b[0m\u001b[0manalyse\u001b[0m\u001b[0;34m(\u001b[0m\u001b[0;34m)\u001b[0m\u001b[0;34m\u001b[0m\u001b[0m\n\u001b[0m\u001b[1;32m     10\u001b[0m \u001b[0mPopulationMean\u001b[0m\u001b[0;34m(\u001b[0m\u001b[0mdsv\u001b[0m\u001b[0;34m,\u001b[0m\u001b[0mParameterSet\u001b[0m\u001b[0;34m(\u001b[0m\u001b[0;34m{\u001b[0m\u001b[0;34m}\u001b[0m\u001b[0;34m)\u001b[0m\u001b[0;34m)\u001b[0m\u001b[0;34m.\u001b[0m\u001b[0manalyse\u001b[0m\u001b[0;34m(\u001b[0m\u001b[0;34m)\u001b[0m\u001b[0;34m\u001b[0m\u001b[0m\n",
        "\u001b[0;31mNameError\u001b[0m: name 'SpontaneousActivityLength' is not defined"
       ]
      }
     ],
     "prompt_number": 3
    },
    {
     "cell_type": "code",
     "collapsed": false,
     "input": [
      "from mozaik.analysis.spontaneous_activity import *"
     ],
     "language": "python",
     "metadata": {},
     "outputs": [],
     "prompt_number": 4
    },
    {
     "cell_type": "code",
     "collapsed": false,
     "input": [
      "#SpontaneousActivityLength(data_store,ParameterSet({})).analyse()\n",
      "PopulationMean(dsv,ParameterSet({})).analyse()"
     ],
     "language": "python",
     "metadata": {},
     "outputs": [
      {
       "output_type": "stream",
       "stream": "stderr",
       "text": [
        "INFO:Mozaik:Starting PopulationMean analysis\n"
       ]
      },
      {
       "output_type": "stream",
       "stream": "stderr",
       "text": [
        "  Starting PopulationMean analysis\n"
       ]
      },
      {
       "output_type": "stream",
       "stream": "stderr",
       "text": [
        "WARNING:Mozaik:PopulationMean analysis took: 0.0107760429382seconds\n"
       ]
      },
      {
       "output_type": "stream",
       "stream": "stderr",
       "text": [
        "PopulationMean analysis took: 0.0107760429382seconds\n"
       ]
      }
     ],
     "prompt_number": 6
    },
    {
     "cell_type": "code",
     "collapsed": false,
     "input": [
      "dsv_psth = param_filter_query(data_store,analysis_algorithm=\"PopulationMean\",y_axis_name='psth (bin=5.0)',sheet_name='V1_Exc_L4')\n",
      "dsv_cv = param_filter_query(data_store,analysis_algorithm=\"PopulationMean\",value_name='Mean(CV of ISI squared)',sheet_name='V1_Exc_L4')\n",
      "dsv_corr = param_filter_query(data_store,analysis_algorithm=\"PopulationMean\",value_name='Mean(Correlation coefficient(psth (bin=5.0)))',sheet_name='V1_Exc_L4')\n",
      "\n",
      "dsv_psth.print_content(full_ADS=True)\n",
      "dsv_cv.print_content(full_ADS=True)\n",
      "dsv_corr.print_content(full_ADS=True)\n",
      "\n",
      "print dsv_cv.get_analysis_result()[0].value\n",
      "print dsv_corr.get_analysis_result()[0].value\n",
      "\n",
      "#dsv.print_content(full_ADS=True)\n",
      "#pylab.figure(figsize=(20,2))\n",
      "#pylab.plot(dsv.get_analysis_result()[0].analog_signal)"
     ],
     "language": "python",
     "metadata": {},
     "outputs": []
    },
    {
     "cell_type": "code",
     "collapsed": false,
     "input": [
      "dsv = param_filter_query(data_store,value_name=['Mean(ECond)','Mean(ICond)','Mean(VM)','Mean(ECond)/Mean(ICond)','Firing rate'],sheet_name=[\"V1_Exc_L4\",\"V1_Exc_L2/3\"])   \n",
      "PerNeuronValuePlot(dsv,ParameterSet({\"cortical_view\" : False}),plot_file_name='Other_hist.png',fig_param={'dpi' : 100,'figsize': (16,8)}).plot({'*.title' : None,'HistogramPlot.plot[0,1].x_label' : 'Inh Cond (micro siemens)','HistogramPlot.plot[1,1].x_label' : 'Exc Cond (micro siemens)','HistogramPlot.plot[2,1].x_label' : 'Exc/Inh Cond','HistogramPlot.plot[3,1].x_label' : 'Membrane potential (mV)'})"
     ],
     "language": "python",
     "metadata": {},
     "outputs": [
      {
       "output_type": "stream",
       "stream": "stderr",
       "text": [
        "WARNING:Mozaik:PerNeuronValuePlot plotting took: 1.15692281723seconds\n"
       ]
      },
      {
       "output_type": "stream",
       "stream": "stderr",
       "text": [
        "PerNeuronValuePlot plotting took: 1.15692281723seconds\n"
       ]
      },
      {
       "metadata": {},
       "output_type": "display_data",
       "png": "[encoded data removed]",
       "text": [
        "<matplotlib.figure.Figure at 0x7f108d8f76d0>"
       ]
      }
     ],
     "prompt_number": 10
    },
    {
     "cell_type": "code",
     "collapsed": false,
     "input": [
      "dsv = param_filter_query(data_store,value_name=['Firing rate'],sheet_name=[\"V1_Exc_L4\",\"V1_Exc_L2/3\"])\n",
      "PerNeuronValuePlot(dsv,ParameterSet({\"cortical_view\" : False}),plot_file_name='Spont_firing_rate.png',fig_param={'dpi' : 100,'figsize': (4,8)}).plot({'*.title' : None,'HistogramPlot.plot[0,1].x_scale' : 'log','HistogramPlot.plot[0,1].log' : True,'HistogramPlot.plot[0,0].x_scale' : 'log','HistogramPlot.plot[0,0].log' : True})\n",
      "\n",
      "dsv = param_filter_query(data_store,value_name=['Firing rate'],sheet_name=[\"V1_Exc_L4\",\"V1_Exc_L2/3\"])\n",
      "PerNeuronValuePlot(dsv,ParameterSet({\"cortical_view\" : False}),plot_file_name='Spont_firing_rate_loglog.png',fig_param={'dpi' : 100,'figsize': (4,8)}).plot({'*.title' : None,'HistogramPlot.plot[0,1].x_scale' : 'log','HistogramPlot.plot[0,1].log' : True,'HistogramPlot.plot[0,0].x_scale' : 'log','HistogramPlot.plot[0,0].log' : True,'HistogramPlot.plot[0,1].y_scale' : 'log','HistogramPlot.plot[0,0].y_scale' : 'log','*.y_label' : None})\n",
      "\n"
     ],
     "language": "python",
     "metadata": {},
     "outputs": [
      {
       "output_type": "stream",
       "stream": "stderr",
       "text": [
        "WARNING:Mozaik:PerNeuronValuePlot plotting took: 0.51061296463seconds\n"
       ]
      },
      {
       "output_type": "stream",
       "stream": "stderr",
       "text": [
        "PerNeuronValuePlot plotting took: 0.51061296463seconds\n"
       ]
      },
      {
       "output_type": "stream",
       "stream": "stderr",
       "text": [
        "WARNING:Mozaik:PerNeuronValuePlot plotting took: 0.815078020096seconds\n"
       ]
      },
      {
       "output_type": "stream",
       "stream": "stderr",
       "text": [
        "PerNeuronValuePlot plotting took: 0.815078020096seconds\n"
       ]
      },
      {
       "metadata": {},
       "output_type": "display_data",
       "png": "[encoded data removed]",
       "text": [
        "<matplotlib.figure.Figure at 0x7f108bd810d0>"
       ]
      },
      {
       "metadata": {},
       "output_type": "display_data",
       "png": "[encoded data removed]",
       "text": [
        "<matplotlib.figure.Figure at 0x7f108d4f3610>"
       ]
      }
     ],
     "prompt_number": 8
    },
    {
     "cell_type": "code",
     "collapsed": false,
     "input": [
      "spike_ids = sorted(param_filter_query(data_store,sheet_name=\"V1_Exc_L4\").get_segments()[0].get_stored_spike_train_ids())\n",
      "spike_ids_inh = sorted(param_filter_query(data_store,sheet_name=\"V1_Inh_L4\").get_segments()[0].get_stored_spike_train_ids())\n",
      "spike_ids23 = sorted(param_filter_query(data_store,sheet_name=\"V1_Exc_L2/3\").get_segments()[0].get_stored_spike_train_ids())\n",
      "spike_ids_inh23 = sorted(param_filter_query(data_store,sheet_name=\"V1_Inh_L2/3\").get_segments()[0].get_stored_spike_train_ids())\n",
      "\n",
      "\n",
      "dsv = param_filter_query(data_store,st_direct_stimulation_name=\"None\",st_name=\"InternalStimulus\")   \n",
      "RasterPlot(dsv,ParameterSet({'sheet_name' : 'V1_Exc_L4', 'neurons' : spike_ids,'trial_averaged_histogram': False, 'spontaneous' : False}),fig_param={'dpi' : 100,'figsize': (5,5)},plot_file_name='ExcRaster.png').plot({'SpikeRasterPlot.group_trials':True})\n",
      "RasterPlot(dsv,ParameterSet({'sheet_name' : 'V1_Inh_L4', 'neurons' : spike_ids_inh,'trial_averaged_histogram': False, 'spontaneous' : False}),fig_param={'dpi' : 100,'figsize': (5,5)},plot_file_name='InhRaster.png').plot({'SpikeRasterPlot.group_trials':True})\n",
      "\n",
      "RasterPlot(dsv,ParameterSet({'sheet_name' : 'V1_Exc_L2/3', 'neurons' : spike_ids23,'trial_averaged_histogram': False, 'spontaneous' : False}),fig_param={'dpi' : 100,'figsize': (5,5)},plot_file_name='ExcRaster23.png').plot({'SpikeRasterPlot.group_trials':True})\n",
      "RasterPlot(dsv,ParameterSet({'sheet_name' : 'V1_Inh_L2/3', 'neurons' : spike_ids_inh23,'trial_averaged_histogram': False, 'spontaneous' : False}),fig_param={'dpi' : 100,'figsize': (5,5)},plot_file_name='InhRaster23.png').plot({'SpikeRasterPlot.group_trials':True})\n"
     ],
     "language": "python",
     "metadata": {},
     "outputs": [
      {
       "ename": "IndexError",
       "evalue": "list index out of range",
       "output_type": "pyerr",
       "traceback": [
        "\u001b[0;31m---------------------------------------------------------------------------\u001b[0m\n\u001b[0;31mIndexError\u001b[0m                                Traceback (most recent call last)",
        "\u001b[0;32m<ipython-input-6-e13e1c7173c0>\u001b[0m in \u001b[0;36m<module>\u001b[0;34m()\u001b[0m\n\u001b[1;32m      1\u001b[0m \u001b[0mspike_ids\u001b[0m \u001b[0;34m=\u001b[0m \u001b[0msorted\u001b[0m\u001b[0;34m(\u001b[0m\u001b[0mparam_filter_query\u001b[0m\u001b[0;34m(\u001b[0m\u001b[0mdata_store\u001b[0m\u001b[0;34m,\u001b[0m\u001b[0msheet_name\u001b[0m\u001b[0;34m=\u001b[0m\u001b[0;34m\"V1_Exc_L4\"\u001b[0m\u001b[0;34m)\u001b[0m\u001b[0;34m.\u001b[0m\u001b[0mget_segments\u001b[0m\u001b[0;34m(\u001b[0m\u001b[0;34m)\u001b[0m\u001b[0;34m[\u001b[0m\u001b[0;36m0\u001b[0m\u001b[0;34m]\u001b[0m\u001b[0;34m.\u001b[0m\u001b[0mget_stored_spike_train_ids\u001b[0m\u001b[0;34m(\u001b[0m\u001b[0;34m)\u001b[0m\u001b[0;34m)\u001b[0m\u001b[0;34m\u001b[0m\u001b[0m\n\u001b[1;32m      2\u001b[0m \u001b[0mspike_ids_inh\u001b[0m \u001b[0;34m=\u001b[0m \u001b[0msorted\u001b[0m\u001b[0;34m(\u001b[0m\u001b[0mparam_filter_query\u001b[0m\u001b[0;34m(\u001b[0m\u001b[0mdata_store\u001b[0m\u001b[0;34m,\u001b[0m\u001b[0msheet_name\u001b[0m\u001b[0;34m=\u001b[0m\u001b[0;34m\"V1_Inh_L4\"\u001b[0m\u001b[0;34m)\u001b[0m\u001b[0;34m.\u001b[0m\u001b[0mget_segments\u001b[0m\u001b[0;34m(\u001b[0m\u001b[0;34m)\u001b[0m\u001b[0;34m[\u001b[0m\u001b[0;36m0\u001b[0m\u001b[0;34m]\u001b[0m\u001b[0;34m.\u001b[0m\u001b[0mget_stored_spike_train_ids\u001b[0m\u001b[0;34m(\u001b[0m\u001b[0;34m)\u001b[0m\u001b[0;34m)\u001b[0m\u001b[0;34m\u001b[0m\u001b[0m\n\u001b[0;32m----> 3\u001b[0;31m \u001b[0mspike_ids23\u001b[0m \u001b[0;34m=\u001b[0m \u001b[0msorted\u001b[0m\u001b[0;34m(\u001b[0m\u001b[0mparam_filter_query\u001b[0m\u001b[0;34m(\u001b[0m\u001b[0mdata_store\u001b[0m\u001b[0;34m,\u001b[0m\u001b[0msheet_name\u001b[0m\u001b[0;34m=\u001b[0m\u001b[0;34m\"V1_Exc_L2/3\"\u001b[0m\u001b[0;34m)\u001b[0m\u001b[0;34m.\u001b[0m\u001b[0mget_segments\u001b[0m\u001b[0;34m(\u001b[0m\u001b[0;34m)\u001b[0m\u001b[0;34m[\u001b[0m\u001b[0;36m0\u001b[0m\u001b[0;34m]\u001b[0m\u001b[0;34m.\u001b[0m\u001b[0mget_stored_spike_train_ids\u001b[0m\u001b[0;34m(\u001b[0m\u001b[0;34m)\u001b[0m\u001b[0;34m)\u001b[0m\u001b[0;34m\u001b[0m\u001b[0m\n\u001b[0m\u001b[1;32m      4\u001b[0m \u001b[0mspike_ids_inh23\u001b[0m \u001b[0;34m=\u001b[0m \u001b[0msorted\u001b[0m\u001b[0;34m(\u001b[0m\u001b[0mparam_filter_query\u001b[0m\u001b[0;34m(\u001b[0m\u001b[0mdata_store\u001b[0m\u001b[0;34m,\u001b[0m\u001b[0msheet_name\u001b[0m\u001b[0;34m=\u001b[0m\u001b[0;34m\"V1_Inh_L2/3\"\u001b[0m\u001b[0;34m)\u001b[0m\u001b[0;34m.\u001b[0m\u001b[0mget_segments\u001b[0m\u001b[0;34m(\u001b[0m\u001b[0;34m)\u001b[0m\u001b[0;34m[\u001b[0m\u001b[0;36m0\u001b[0m\u001b[0;34m]\u001b[0m\u001b[0;34m.\u001b[0m\u001b[0mget_stored_spike_train_ids\u001b[0m\u001b[0;34m(\u001b[0m\u001b[0;34m)\u001b[0m\u001b[0;34m)\u001b[0m\u001b[0;34m\u001b[0m\u001b[0m\n\u001b[1;32m      5\u001b[0m \u001b[0;34m\u001b[0m\u001b[0m\n",
        "\u001b[0;31mIndexError\u001b[0m: list index out of range"
       ]
      }
     ],
     "prompt_number": 6
    },
    {
     "cell_type": "code",
     "collapsed": false,
     "input": [
      "def plot_all_single_values(dsv):\n",
      "    dsv = param_filter_query(data_store,name='SingleValue')\n",
      "    \n",
      "    res = []\n",
      "    \n",
      "    for a in dsv.get_analysis_result():\n",
      "        stimulus = MozaikParametrized.idd(a.stimulus_id)\n",
      "        res.append((a.value_name,a.sheet_name,a.value,stimulus))\n",
      "        #for name, val in stimulus.get_param_values():   \n",
      "        #   stimulus\n",
      "    res = sorted(res)\n",
      "    for (a,b,c,d) in res:\n",
      "        \n",
      "        print \"%-30s %-13s %-15s %s\" % (a,b,str(c),d)\n",
      "    \n",
      "    "
     ],
     "language": "python",
     "metadata": {},
     "outputs": [],
     "prompt_number": 50
    },
    {
     "cell_type": "code",
     "collapsed": false,
     "input": [
      "plot_all_single_values(data_store)"
     ],
     "language": "python",
     "metadata": {},
     "outputs": [
      {
       "output_type": "stream",
       "stream": "stdout",
       "text": [
        "Mean(CV of ISI squared)        V1_Exc_L2/3   0.724992385803  {\"module_path\" :\"mozaik.stimuli\",\"direct_stimulation_name\":'None', \"duration\":70000, \"frame_duration\":70000, \"name\":'InternalStimulus', \"trial\":0}\n",
        "Mean(CV of ISI squared)        V1_Exc_L4     0.532989602362  {\"module_path\" :\"mozaik.stimuli\",\"direct_stimulation_name\":'None', \"duration\":70000, \"frame_duration\":70000, \"name\":'InternalStimulus', \"trial\":0}\n",
        "Mean(CV of ISI squared)        V1_Inh_L2/3   0.687541978642  {\"module_path\" :\"mozaik.stimuli\",\"direct_stimulation_name\":'None', \"duration\":70000, \"frame_duration\":70000, \"name\":'InternalStimulus', \"trial\":0}\n",
        "Mean(CV of ISI squared)        V1_Inh_L4     0.643861002646  {\"module_path\" :\"mozaik.stimuli\",\"direct_stimulation_name\":'None', \"duration\":70000, \"frame_duration\":70000, \"name\":'InternalStimulus', \"trial\":0}\n",
        "Mean(CV of ISI squared)        X_OFF         0.926416401311  {\"module_path\" :\"mozaik.stimuli\",\"direct_stimulation_name\":'None', \"duration\":70000, \"frame_duration\":70000, \"name\":'InternalStimulus', \"trial\":0}\n",
        "Mean(CV of ISI squared)        X_ON          0.906143419416  {\"module_path\" :\"mozaik.stimuli\",\"direct_stimulation_name\":'None', \"duration\":70000, \"frame_duration\":70000, \"name\":'InternalStimulus', \"trial\":0}\n",
        "Mean(FanoFactor(ECond))        V1_Exc_L2/3   0.000540195158588 {\"module_path\" :\"mozaik.stimuli\",\"direct_stimulation_name\":'None', \"duration\":70000, \"frame_duration\":70000, \"name\":'InternalStimulus', \"trial\":None}\n",
        "Mean(FanoFactor(ECond))        V1_Exc_L4     0.000224123677028 {\"module_path\" :\"mozaik.stimuli\",\"direct_stimulation_name\":'None', \"duration\":70000, \"frame_duration\":70000, \"name\":'InternalStimulus', \"trial\":None}\n",
        "Mean(FanoFactor(ECond))        V1_Inh_L2/3   0.00103158865251 {\"module_path\" :\"mozaik.stimuli\",\"direct_stimulation_name\":'None', \"duration\":70000, \"frame_duration\":70000, \"name\":'InternalStimulus', \"trial\":None}\n",
        "Mean(FanoFactor(ECond))        V1_Inh_L4     0.000319224671618 {\"module_path\" :\"mozaik.stimuli\",\"direct_stimulation_name\":'None', \"duration\":70000, \"frame_duration\":70000, \"name\":'InternalStimulus', \"trial\":None}\n",
        "Mean(FanoFactor(ECond))        X_OFF         nan             {\"module_path\" :\"mozaik.stimuli\",\"direct_stimulation_name\":'None', \"duration\":70000, \"frame_duration\":70000, \"name\":'InternalStimulus', \"trial\":None}\n",
        "Mean(FanoFactor(ECond))        X_ON          nan             {\"module_path\" :\"mozaik.stimuli\",\"direct_stimulation_name\":'None', \"duration\":70000, \"frame_duration\":70000, \"name\":'InternalStimulus', \"trial\":None}\n",
        "Mean(FanoFactor(ICond))        V1_Exc_L2/3   0.000887129458787 {\"module_path\" :\"mozaik.stimuli\",\"direct_stimulation_name\":'None', \"duration\":70000, \"frame_duration\":70000, \"name\":'InternalStimulus', \"trial\":None}\n",
        "Mean(FanoFactor(ICond))        V1_Exc_L4     0.000209130190893 {\"module_path\" :\"mozaik.stimuli\",\"direct_stimulation_name\":'None', \"duration\":70000, \"frame_duration\":70000, \"name\":'InternalStimulus', \"trial\":None}\n",
        "Mean(FanoFactor(ICond))        V1_Inh_L2/3   0.00280152737137 {\"module_path\" :\"mozaik.stimuli\",\"direct_stimulation_name\":'None', \"duration\":70000, \"frame_duration\":70000, \"name\":'InternalStimulus', \"trial\":None}\n",
        "Mean(FanoFactor(ICond))        V1_Inh_L4     9.51709067267e-05 {\"module_path\" :\"mozaik.stimuli\",\"direct_stimulation_name\":'None', \"duration\":70000, \"frame_duration\":70000, \"name\":'InternalStimulus', \"trial\":None}\n",
        "Mean(FanoFactor(ICond))        X_OFF         nan             {\"module_path\" :\"mozaik.stimuli\",\"direct_stimulation_name\":'None', \"duration\":70000, \"frame_duration\":70000, \"name\":'InternalStimulus', \"trial\":None}\n",
        "Mean(FanoFactor(ICond))        X_ON          nan             {\"module_path\" :\"mozaik.stimuli\",\"direct_stimulation_name\":'None', \"duration\":70000, \"frame_duration\":70000, \"name\":'InternalStimulus', \"trial\":None}\n",
        "Mean(FanoFactor(VM))           V1_Exc_L2/3   0.25733948252   {\"module_path\" :\"mozaik.stimuli\",\"direct_stimulation_name\":'None', \"duration\":70000, \"frame_duration\":70000, \"name\":'InternalStimulus', \"trial\":None}\n",
        "Mean(FanoFactor(VM))           V1_Exc_L4     0.121047158481  {\"module_path\" :\"mozaik.stimuli\",\"direct_stimulation_name\":'None', \"duration\":70000, \"frame_duration\":70000, \"name\":'InternalStimulus', \"trial\":None}\n",
        "Mean(FanoFactor(VM))           V1_Inh_L2/3   0.342671287995  {\"module_path\" :\"mozaik.stimuli\",\"direct_stimulation_name\":'None', \"duration\":70000, \"frame_duration\":70000, \"name\":'InternalStimulus', \"trial\":None}\n",
        "Mean(FanoFactor(VM))           V1_Inh_L4     0.256502024087  {\"module_path\" :\"mozaik.stimuli\",\"direct_stimulation_name\":'None', \"duration\":70000, \"frame_duration\":70000, \"name\":'InternalStimulus', \"trial\":None}\n",
        "Mean(FanoFactor(VM))           X_OFF         0.451702327261  {\"module_path\" :\"mozaik.stimuli\",\"direct_stimulation_name\":'None', \"duration\":70000, \"frame_duration\":70000, \"name\":'InternalStimulus', \"trial\":None}\n",
        "Mean(FanoFactor(VM))           X_ON          0.489603147353  {\"module_path\" :\"mozaik.stimuli\",\"direct_stimulation_name\":'None', \"duration\":70000, \"frame_duration\":70000, \"name\":'InternalStimulus', \"trial\":None}\n",
        "Mean(Firing rate)              V1_Exc_L2/3   2.55603639046   {\"module_path\" :\"mozaik.stimuli\",\"direct_stimulation_name\":'None', \"duration\":70000, \"frame_duration\":70000, \"name\":'InternalStimulus', \"trial\":None}\n",
        "Mean(Firing rate)              V1_Exc_L4     1.96606924287   {\"module_path\" :\"mozaik.stimuli\",\"direct_stimulation_name\":'None', \"duration\":70000, \"frame_duration\":70000, \"name\":'InternalStimulus', \"trial\":None}\n",
        "Mean(Firing rate)              V1_Inh_L2/3   6.12315270936   {\"module_path\" :\"mozaik.stimuli\",\"direct_stimulation_name\":'None', \"duration\":70000, \"frame_duration\":70000, \"name\":'InternalStimulus', \"trial\":None}\n",
        "Mean(Firing rate)              V1_Inh_L4     12.515270936    {\"module_path\" :\"mozaik.stimuli\",\"direct_stimulation_name\":'None', \"duration\":70000, \"frame_duration\":70000, \"name\":'InternalStimulus', \"trial\":None}\n",
        "Mean(Firing rate)              X_OFF         10.7771428571   {\"module_path\" :\"mozaik.stimuli\",\"direct_stimulation_name\":'None', \"duration\":70000, \"frame_duration\":70000, \"name\":'InternalStimulus', \"trial\":None}\n",
        "Mean(Firing rate)              X_ON          6.56857142857   {\"module_path\" :\"mozaik.stimuli\",\"direct_stimulation_name\":'None', \"duration\":70000, \"frame_duration\":70000, \"name\":'InternalStimulus', \"trial\":None}\n",
        "Mean(Mean(ECond))              V1_Exc_L2/3   0.0015564273434 {\"module_path\" :\"mozaik.stimuli\",\"direct_stimulation_name\":'None', \"duration\":70000, \"frame_duration\":70000, \"name\":'InternalStimulus', \"trial\":None}\n",
        "Mean(Mean(ECond))              V1_Exc_L4     0.000985623642055 {\"module_path\" :\"mozaik.stimuli\",\"direct_stimulation_name\":'None', \"duration\":70000, \"frame_duration\":70000, \"name\":'InternalStimulus', \"trial\":None}\n",
        "Mean(Mean(ECond))              V1_Inh_L2/3   0.00562601188258 {\"module_path\" :\"mozaik.stimuli\",\"direct_stimulation_name\":'None', \"duration\":70000, \"frame_duration\":70000, \"name\":'InternalStimulus', \"trial\":None}\n",
        "Mean(Mean(ECond))              V1_Inh_L4     0.00132237426291 {\"module_path\" :\"mozaik.stimuli\",\"direct_stimulation_name\":'None', \"duration\":70000, \"frame_duration\":70000, \"name\":'InternalStimulus', \"trial\":None}\n",
        "Mean(Mean(ECond))              X_OFF         0.0             {\"module_path\" :\"mozaik.stimuli\",\"direct_stimulation_name\":'None', \"duration\":70000, \"frame_duration\":70000, \"name\":'InternalStimulus', \"trial\":None}\n",
        "Mean(Mean(ECond))              X_ON          0.0             {\"module_path\" :\"mozaik.stimuli\",\"direct_stimulation_name\":'None', \"duration\":70000, \"frame_duration\":70000, \"name\":'InternalStimulus', \"trial\":None}\n",
        "Mean(Mean(ECond)/Mean(ICond))  V1_Exc_L2/3   0.323457629978  {\"module_path\" :\"mozaik.stimuli\",\"direct_stimulation_name\":'None', \"duration\":70000, \"frame_duration\":70000, \"name\":'InternalStimulus', \"trial\":None}\n",
        "Mean(Mean(ECond)/Mean(ICond))  V1_Exc_L4     0.315482292669  {\"module_path\" :\"mozaik.stimuli\",\"direct_stimulation_name\":'None', \"duration\":70000, \"frame_duration\":70000, \"name\":'InternalStimulus', \"trial\":None}\n",
        "Mean(Mean(ECond)/Mean(ICond))  V1_Inh_L2/3   0.358628965895  {\"module_path\" :\"mozaik.stimuli\",\"direct_stimulation_name\":'None', \"duration\":70000, \"frame_duration\":70000, \"name\":'InternalStimulus', \"trial\":None}\n",
        "Mean(Mean(ECond)/Mean(ICond))  V1_Inh_L4     0.747100173302  {\"module_path\" :\"mozaik.stimuli\",\"direct_stimulation_name\":'None', \"duration\":70000, \"frame_duration\":70000, \"name\":'InternalStimulus', \"trial\":None}\n",
        "Mean(Mean(ECond)/Mean(ICond))  X_OFF         nan             {\"module_path\" :\"mozaik.stimuli\",\"direct_stimulation_name\":'None', \"duration\":70000, \"frame_duration\":70000, \"name\":'InternalStimulus', \"trial\":None}\n",
        "Mean(Mean(ECond)/Mean(ICond))  X_ON          nan             {\"module_path\" :\"mozaik.stimuli\",\"direct_stimulation_name\":'None', \"duration\":70000, \"frame_duration\":70000, \"name\":'InternalStimulus', \"trial\":None}\n",
        "Mean(Mean(ICond))              V1_Exc_L2/3   0.00485920355724 {\"module_path\" :\"mozaik.stimuli\",\"direct_stimulation_name\":'None', \"duration\":70000, \"frame_duration\":70000, \"name\":'InternalStimulus', \"trial\":None}\n",
        "Mean(Mean(ICond))              V1_Exc_L4     0.00321325052853 {\"module_path\" :\"mozaik.stimuli\",\"direct_stimulation_name\":'None', \"duration\":70000, \"frame_duration\":70000, \"name\":'InternalStimulus', \"trial\":None}\n",
        "Mean(Mean(ICond))              V1_Inh_L2/3   0.0158061443529 {\"module_path\" :\"mozaik.stimuli\",\"direct_stimulation_name\":'None', \"duration\":70000, \"frame_duration\":70000, \"name\":'InternalStimulus', \"trial\":None}\n",
        "Mean(Mean(ICond))              V1_Inh_L4     0.00186052933315 {\"module_path\" :\"mozaik.stimuli\",\"direct_stimulation_name\":'None', \"duration\":70000, \"frame_duration\":70000, \"name\":'InternalStimulus', \"trial\":None}\n",
        "Mean(Mean(ICond))              X_OFF         0.0             {\"module_path\" :\"mozaik.stimuli\",\"direct_stimulation_name\":'None', \"duration\":70000, \"frame_duration\":70000, \"name\":'InternalStimulus', \"trial\":None}\n",
        "Mean(Mean(ICond))              X_ON          0.0             {\"module_path\" :\"mozaik.stimuli\",\"direct_stimulation_name\":'None', \"duration\":70000, \"frame_duration\":70000, \"name\":'InternalStimulus', \"trial\":None}\n",
        "Mean(Mean(VM))                 V1_Exc_L2/3   63.7436074846   {\"module_path\" :\"mozaik.stimuli\",\"direct_stimulation_name\":'None', \"duration\":70000, \"frame_duration\":70000, \"name\":'InternalStimulus', \"trial\":None}\n",
        "Mean(Mean(VM))                 V1_Exc_L4     63.5325023025   {\"module_path\" :\"mozaik.stimuli\",\"direct_stimulation_name\":'None', \"duration\":70000, \"frame_duration\":70000, \"name\":'InternalStimulus', \"trial\":None}\n",
        "Mean(Mean(VM))                 V1_Inh_L2/3   60.8764850428   {\"module_path\" :\"mozaik.stimuli\",\"direct_stimulation_name\":'None', \"duration\":70000, \"frame_duration\":70000, \"name\":'InternalStimulus', \"trial\":None}\n",
        "Mean(Mean(VM))                 V1_Inh_L4     59.5319217582   {\"module_path\" :\"mozaik.stimuli\",\"direct_stimulation_name\":'None', \"duration\":70000, \"frame_duration\":70000, \"name\":'InternalStimulus', \"trial\":None}\n",
        "Mean(Mean(VM))                 X_OFF         70.5134119915   {\"module_path\" :\"mozaik.stimuli\",\"direct_stimulation_name\":'None', \"duration\":70000, \"frame_duration\":70000, \"name\":'InternalStimulus', \"trial\":None}\n",
        "Mean(Mean(VM))                 X_ON          71.9014282842   {\"module_path\" :\"mozaik.stimuli\",\"direct_stimulation_name\":'None', \"duration\":70000, \"frame_duration\":70000, \"name\":'InternalStimulus', \"trial\":None}\n",
        "Mean(STD(ECond))               V1_Exc_L2/3   0.00091299533926 {\"module_path\" :\"mozaik.stimuli\",\"direct_stimulation_name\":'None', \"duration\":70000, \"frame_duration\":70000, \"name\":'InternalStimulus', \"trial\":None}\n",
        "Mean(STD(ECond))               V1_Exc_L4     0.000469363333586 {\"module_path\" :\"mozaik.stimuli\",\"direct_stimulation_name\":'None', \"duration\":70000, \"frame_duration\":70000, \"name\":'InternalStimulus', \"trial\":None}\n",
        "Mean(STD(ECond))               V1_Inh_L2/3   0.00240774296994 {\"module_path\" :\"mozaik.stimuli\",\"direct_stimulation_name\":'None', \"duration\":70000, \"frame_duration\":70000, \"name\":'InternalStimulus', \"trial\":None}\n",
        "Mean(STD(ECond))               V1_Inh_L4     0.000649007896531 {\"module_path\" :\"mozaik.stimuli\",\"direct_stimulation_name\":'None', \"duration\":70000, \"frame_duration\":70000, \"name\":'InternalStimulus', \"trial\":None}\n",
        "Mean(STD(ECond))               X_OFF         0.0             {\"module_path\" :\"mozaik.stimuli\",\"direct_stimulation_name\":'None', \"duration\":70000, \"frame_duration\":70000, \"name\":'InternalStimulus', \"trial\":None}\n",
        "Mean(STD(ECond))               X_ON          0.0             {\"module_path\" :\"mozaik.stimuli\",\"direct_stimulation_name\":'None', \"duration\":70000, \"frame_duration\":70000, \"name\":'InternalStimulus', \"trial\":None}\n",
        "Mean(STD(ICond))               V1_Exc_L2/3   0.00207155647109 {\"module_path\" :\"mozaik.stimuli\",\"direct_stimulation_name\":'None', \"duration\":70000, \"frame_duration\":70000, \"name\":'InternalStimulus', \"trial\":None}\n",
        "Mean(STD(ICond))               V1_Exc_L4     0.000809984375213 {\"module_path\" :\"mozaik.stimuli\",\"direct_stimulation_name\":'None', \"duration\":70000, \"frame_duration\":70000, \"name\":'InternalStimulus', \"trial\":None}\n",
        "Mean(STD(ICond))               V1_Inh_L2/3   0.00664186526493 {\"module_path\" :\"mozaik.stimuli\",\"direct_stimulation_name\":'None', \"duration\":70000, \"frame_duration\":70000, \"name\":'InternalStimulus', \"trial\":None}\n",
        "Mean(STD(ICond))               V1_Inh_L4     0.000417079755054 {\"module_path\" :\"mozaik.stimuli\",\"direct_stimulation_name\":'None', \"duration\":70000, \"frame_duration\":70000, \"name\":'InternalStimulus', \"trial\":None}\n",
        "Mean(STD(ICond))               X_OFF         0.0             {\"module_path\" :\"mozaik.stimuli\",\"direct_stimulation_name\":'None', \"duration\":70000, \"frame_duration\":70000, \"name\":'InternalStimulus', \"trial\":None}\n",
        "Mean(STD(ICond))               X_ON          0.0             {\"module_path\" :\"mozaik.stimuli\",\"direct_stimulation_name\":'None', \"duration\":70000, \"frame_duration\":70000, \"name\":'InternalStimulus', \"trial\":None}\n",
        "Mean(STD(VM))                  V1_Exc_L2/3   4.01649981065   {\"module_path\" :\"mozaik.stimuli\",\"direct_stimulation_name\":'None', \"duration\":70000, \"frame_duration\":70000, \"name\":'InternalStimulus', \"trial\":None}\n",
        "Mean(STD(VM))                  V1_Exc_L4     2.73786716326   {\"module_path\" :\"mozaik.stimuli\",\"direct_stimulation_name\":'None', \"duration\":70000, \"frame_duration\":70000, \"name\":'InternalStimulus', \"trial\":None}\n",
        "Mean(STD(VM))                  V1_Inh_L2/3   4.56340641494   {\"module_path\" :\"mozaik.stimuli\",\"direct_stimulation_name\":'None', \"duration\":70000, \"frame_duration\":70000, \"name\":'InternalStimulus', \"trial\":None}\n",
        "Mean(STD(VM))                  V1_Inh_L4     3.88729661233   {\"module_path\" :\"mozaik.stimuli\",\"direct_stimulation_name\":'None', \"duration\":70000, \"frame_duration\":70000, \"name\":'InternalStimulus', \"trial\":None}\n",
        "Mean(STD(VM))                  X_OFF         5.64351717357   {\"module_path\" :\"mozaik.stimuli\",\"direct_stimulation_name\":'None', \"duration\":70000, \"frame_duration\":70000, \"name\":'InternalStimulus', \"trial\":None}\n",
        "Mean(STD(VM))                  X_ON          5.9330397757    {\"module_path\" :\"mozaik.stimuli\",\"direct_stimulation_name\":'None', \"duration\":70000, \"frame_duration\":70000, \"name\":'InternalStimulus', \"trial\":None}\n",
        "Mean(Var(ECond))               V1_Exc_L2/3   8.66441362068e-07 {\"module_path\" :\"mozaik.stimuli\",\"direct_stimulation_name\":'None', \"duration\":70000, \"frame_duration\":70000, \"name\":'InternalStimulus', \"trial\":None}\n",
        "Mean(Var(ECond))               V1_Exc_L4     2.21865203967e-07 {\"module_path\" :\"mozaik.stimuli\",\"direct_stimulation_name\":'None', \"duration\":70000, \"frame_duration\":70000, \"name\":'InternalStimulus', \"trial\":None}\n",
        "Mean(Var(ECond))               V1_Inh_L2/3   5.81813226249e-06 {\"module_path\" :\"mozaik.stimuli\",\"direct_stimulation_name\":'None', \"duration\":70000, \"frame_duration\":70000, \"name\":'InternalStimulus', \"trial\":None}\n",
        "Mean(Var(ECond))               V1_Inh_L4     4.23898281779e-07 {\"module_path\" :\"mozaik.stimuli\",\"direct_stimulation_name\":'None', \"duration\":70000, \"frame_duration\":70000, \"name\":'InternalStimulus', \"trial\":None}\n",
        "Mean(Var(ECond))               X_OFF         0.0             {\"module_path\" :\"mozaik.stimuli\",\"direct_stimulation_name\":'None', \"duration\":70000, \"frame_duration\":70000, \"name\":'InternalStimulus', \"trial\":None}\n",
        "Mean(Var(ECond))               X_ON          0.0             {\"module_path\" :\"mozaik.stimuli\",\"direct_stimulation_name\":'None', \"duration\":70000, \"frame_duration\":70000, \"name\":'InternalStimulus', \"trial\":None}\n",
        "Mean(Var(ECond)/Var(ICond))    V1_Exc_L2/3   0.206839760236  {\"module_path\" :\"mozaik.stimuli\",\"direct_stimulation_name\":'None', \"duration\":70000, \"frame_duration\":70000, \"name\":'InternalStimulus', \"trial\":None}\n",
        "Mean(Var(ECond)/Var(ICond))    V1_Exc_L4     0.352730003898  {\"module_path\" :\"mozaik.stimuli\",\"direct_stimulation_name\":'None', \"duration\":70000, \"frame_duration\":70000, \"name\":'InternalStimulus', \"trial\":None}\n",
        "Mean(Var(ECond)/Var(ICond))    V1_Inh_L2/3   0.134528804813  {\"module_path\" :\"mozaik.stimuli\",\"direct_stimulation_name\":'None', \"duration\":70000, \"frame_duration\":70000, \"name\":'InternalStimulus', \"trial\":None}\n",
        "Mean(Var(ECond)/Var(ICond))    V1_Inh_L4     2.60361087471   {\"module_path\" :\"mozaik.stimuli\",\"direct_stimulation_name\":'None', \"duration\":70000, \"frame_duration\":70000, \"name\":'InternalStimulus', \"trial\":None}\n",
        "Mean(Var(ECond)/Var(ICond))    X_OFF         nan             {\"module_path\" :\"mozaik.stimuli\",\"direct_stimulation_name\":'None', \"duration\":70000, \"frame_duration\":70000, \"name\":'InternalStimulus', \"trial\":None}\n",
        "Mean(Var(ECond)/Var(ICond))    X_ON          nan             {\"module_path\" :\"mozaik.stimuli\",\"direct_stimulation_name\":'None', \"duration\":70000, \"frame_duration\":70000, \"name\":'InternalStimulus', \"trial\":None}\n",
        "Mean(Var(ICond))               V1_Exc_L2/3   4.33347544065e-06 {\"module_path\" :\"mozaik.stimuli\",\"direct_stimulation_name\":'None', \"duration\":70000, \"frame_duration\":70000, \"name\":'InternalStimulus', \"trial\":None}\n",
        "Mean(Var(ICond))               V1_Exc_L4     6.72284465882e-07 {\"module_path\" :\"mozaik.stimuli\",\"direct_stimulation_name\":'None', \"duration\":70000, \"frame_duration\":70000, \"name\":'InternalStimulus', \"trial\":None}\n",
        "Mean(Var(ICond))               V1_Inh_L2/3   4.43936848065e-05 {\"module_path\" :\"mozaik.stimuli\",\"direct_stimulation_name\":'None', \"duration\":70000, \"frame_duration\":70000, \"name\":'InternalStimulus', \"trial\":None}\n",
        "Mean(Var(ICond))               V1_Inh_L4     1.78976697086e-07 {\"module_path\" :\"mozaik.stimuli\",\"direct_stimulation_name\":'None', \"duration\":70000, \"frame_duration\":70000, \"name\":'InternalStimulus', \"trial\":None}\n",
        "Mean(Var(ICond))               X_OFF         0.0             {\"module_path\" :\"mozaik.stimuli\",\"direct_stimulation_name\":'None', \"duration\":70000, \"frame_duration\":70000, \"name\":'InternalStimulus', \"trial\":None}\n",
        "Mean(Var(ICond))               X_ON          0.0             {\"module_path\" :\"mozaik.stimuli\",\"direct_stimulation_name\":'None', \"duration\":70000, \"frame_duration\":70000, \"name\":'InternalStimulus', \"trial\":None}\n"
       ]
      }
     ],
     "prompt_number": 51
    }
   ],
   "metadata": {}
  }
 ]
}