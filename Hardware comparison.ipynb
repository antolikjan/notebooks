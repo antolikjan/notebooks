{
 "metadata": {
  "name": "",
  "signature": "sha256:9b4d0fd3832aed7c4c1ad772d5187b202b4c8a68d5e6fa114448dbcf078cd9e6"
 },
 "nbformat": 3,
 "nbformat_minor": 0,
 "worksheets": [
  {
   "cells": [
    {
     "cell_type": "code",
     "collapsed": false,
     "input": [
      "import sys\n",
      "import matplotlib.animation\n",
      "print matplotlib.animation.writers.list()\n",
      "#del sys.path[sys.path.index('/home/jan/projects/mozaik')]\n",
      "sys.path.append('/home/jan/cluster/dev/pkg/mozaik/mozaik/')\n",
      "import numpy\n",
      "import mozaik\n",
      "from mozaik.controller import run_workflow, setup_logging\n",
      "from mozaik.storage.datastore import Hdf5DataStore,PickledDataStore\n",
      "from parameters import ParameterSet\n",
      "from mozaik.visualization.plotting import *\n",
      "\n",
      "from mozaik.analysis.technical import NeuronAnnotationsToPerNeuronValues\n",
      "from mozaik.tools.mozaik_parametrized import colapse, colapse_to_dictionary, MozaikParametrized\n",
      "from mozaik.analysis.analysis import *\n",
      "from mozaik.analysis.vision import *\n",
      "from mozaik.storage.queries import *\n",
      "import sys\n",
      "#sys.path.append('/home/jan/projects/mozaik/contrib')\n",
      "sys.path.append('/home/jan/cluster/dev/pkg/mozaik/mozaik/contrib/PushPullCCLISSOMModelSSIzL23')\n",
      "sys.path.append('/home/jan/cluster/dev/pkg/mozaik/mozaik/contrib/')\n",
      "from analysis_and_visualization import perform_analysis_and_visualization\n",
      "\n",
      "setup_logging()\n",
      "\n",
      "\n",
      "#data_store = PickledDataStore(load=True,parameters=ParameterSet({'root_directory':'/home/jan/projects/mozaik-joel/contrib/KremkowModel/FFI_full_model_OR_____', 'store_stimuli': False}),replace=True)\n",
      "#data_store = PickledDataStore(load=True,parameters=ParameterSet({'root_directory':'/home/jan/projects/mozaik-joel/contrib/KremkowModel/FFI_hardware_params_mod_____', 'store_stimuli': False}),replace=True)\n",
      "data_store = PickledDataStore(load=True,parameters=ParameterSet({'root_directory':'/home/jan/projects/mozaik-joel/contrib/KremkowModel/FFI_hardware_params_mod_____', 'store_stimuli': False}),replace=True)                  \n",
      "\n",
      "NeuronAnnotationsToPerNeuronValues(data_store,ParameterSet({})).analyse()\n",
      "analog_ids = param_filter_query(data_store,sheet_name=\"V1_Exc_L4\").get_segments()[0].get_stored_esyn_ids()\n",
      "analog_ids_inh = param_filter_query(data_store,sheet_name=\"V1_Inh_L4\").get_segments()[0].get_stored_esyn_ids()\n",
      "\n",
      "#find neuron with preference closet to 0  \n",
      "l4_exc_or = data_store.get_analysis_result(identifier='PerNeuronValue',value_name = 'LGNAfferentOrientation', sheet_name = 'V1_Exc_L4')[0]\n",
      "l4_exc_phase = data_store.get_analysis_result(identifier='PerNeuronValue',value_name = 'LGNAfferentPhase', sheet_name = 'V1_Exc_L4')[0]\n",
      "l4_exc = analog_ids[numpy.argmin([circular_dist(o,numpy.pi/2,numpy.pi)  for (o,p) in zip(l4_exc_or.get_value_by_id(analog_ids),l4_exc_phase.get_value_by_id(analog_ids))])]\n",
      "l4_inh_or = data_store.get_analysis_result(identifier='PerNeuronValue',value_name = 'LGNAfferentOrientation', sheet_name = 'V1_Inh_L4')[0]\n",
      "l4_inh_phase = data_store.get_analysis_result(identifier='PerNeuronValue',value_name = 'LGNAfferentPhase', sheet_name = 'V1_Inh_L4')[0]\n",
      "l4_inh = analog_ids_inh[numpy.argmin([circular_dist(o,numpy.pi/2,numpy.pi)  for (o,p) in zip(l4_inh_or.get_value_by_id(analog_ids_inh),l4_inh_phase.get_value_by_id(analog_ids_inh))])]\n",
      "l4_exc_or_many = numpy.array(l4_exc_or.ids)[numpy.nonzero(numpy.array([circular_dist(o,numpy.pi/2,numpy.pi)  for (o,p) in zip(l4_exc_or.values,l4_exc_phase.values)]) < 0.1)[0]]"
     ],
     "language": "python",
     "metadata": {},
     "outputs": [
      {
       "output_type": "stream",
       "stream": "stderr",
       "text": [
        "INFO:Mozaik:Starting NeuronAnnotationsToPerNeuronValues analysis\n"
       ]
      },
      {
       "output_type": "stream",
       "stream": "stderr",
       "text": [
        "  Starting NeuronAnnotationsToPerNeuronValues analysis\n"
       ]
      },
      {
       "output_type": "stream",
       "stream": "stderr",
       "text": [
        "  Starting NeuronAnnotationsToPerNeuronValues analysis\n"
       ]
      },
      {
       "output_type": "stream",
       "stream": "stderr",
       "text": [
        "  Starting NeuronAnnotationsToPerNeuronValues analysis\n"
       ]
      },
      {
       "output_type": "stream",
       "stream": "stderr",
       "text": [
        "  Starting NeuronAnnotationsToPerNeuronValues analysis\n"
       ]
      },
      {
       "output_type": "stream",
       "stream": "stderr",
       "text": [
        "INFO:Mozaik:Starting NeuronAnnotationsToPerNeuronValues Analysis\n"
       ]
      },
      {
       "output_type": "stream",
       "stream": "stderr",
       "text": [
        "  Starting NeuronAnnotationsToPerNeuronValues Analysis\n"
       ]
      },
      {
       "output_type": "stream",
       "stream": "stderr",
       "text": [
        "  Starting NeuronAnnotationsToPerNeuronValues Analysis\n"
       ]
      },
      {
       "output_type": "stream",
       "stream": "stderr",
       "text": [
        "  Starting NeuronAnnotationsToPerNeuronValues Analysis\n"
       ]
      },
      {
       "output_type": "stream",
       "stream": "stderr",
       "text": [
        "  Starting NeuronAnnotationsToPerNeuronValues Analysis\n"
       ]
      },
      {
       "output_type": "stream",
       "stream": "stderr",
       "text": [
        "WARNING:Mozaik:NeuronAnnotationsToPerNeuronValues analysis took: 4.31169009209seconds\n"
       ]
      },
      {
       "output_type": "stream",
       "stream": "stderr",
       "text": [
        "NeuronAnnotationsToPerNeuronValues analysis took: 4.31169009209seconds\n"
       ]
      },
      {
       "output_type": "stream",
       "stream": "stderr",
       "text": [
        "NeuronAnnotationsToPerNeuronValues analysis took: 4.31169009209seconds\n"
       ]
      },
      {
       "output_type": "stream",
       "stream": "stderr",
       "text": [
        "NeuronAnnotationsToPerNeuronValues analysis took: 4.31169009209seconds\n"
       ]
      },
      {
       "output_type": "stream",
       "stream": "stderr",
       "text": [
        "NeuronAnnotationsToPerNeuronValues analysis took: 4.31169009209seconds\n"
       ]
      },
      {
       "output_type": "stream",
       "stream": "stdout",
       "text": [
        "[u'imagemagick_file', u'imagemagick', u'avconv', u'avconv_file']\n"
       ]
      }
     ],
     "prompt_number": 18
    },
    {
     "cell_type": "code",
     "collapsed": false,
     "input": [
      "dsv = param_filter_query(data_store,st_name='FullfieldDriftingSinusoidalGrating',st_orientation=[numpy.pi/2],st_contrast=100)    \n",
      "OverviewPlot(dsv,ParameterSet({'sheet_name' : 'V1_Exc_L4', 'neuron' : analog_ids[0], 'sheet_activity' : {}, 'spontaneous' : True}),fig_param={'dpi' : 100,'figsize': (25,12)},plot_file_name=\"Exc1.png\").plot({'Vm_plot.y_lim' : (-90,-50)})\n",
      "OverviewPlot(dsv,ParameterSet({'sheet_name' : 'V1_Exc_L4', 'neuron' : analog_ids[4], 'sheet_activity' : {}, 'spontaneous' : True}),fig_param={'dpi' : 100,'figsize': (25,12)},plot_file_name=\"Exc2.png\").plot({'Vm_plot.y_lim' : (-90,-50)})\n",
      "OverviewPlot(dsv,ParameterSet({'sheet_name' : 'V1_Exc_L4', 'neuron' : analog_ids[5], 'sheet_activity' : {}, 'spontaneous' : True}),fig_param={'dpi' : 100,'figsize': (25,12)},plot_file_name=\"Exc3.png\").plot({'Vm_plot.y_lim' : (-90,-50)})\n",
      "OverviewPlot(dsv,ParameterSet({'sheet_name' : 'V1_Exc_L4', 'neuron' : analog_ids[6], 'sheet_activity' : {}, 'spontaneous' : True}),fig_param={'dpi' : 100,'figsize': (25,12)},plot_file_name=\"Exc4.png\").plot({'Vm_plot.y_lim' : (-90,-50)})\n",
      "pylab.show()"
     ],
     "language": "python",
     "metadata": {},
     "outputs": [
      {
       "output_type": "stream",
       "stream": "stderr",
       "text": [
        "WARNING:Mozaik:OverviewPlot plotting took: 4.83593702316seconds\n"
       ]
      },
      {
       "output_type": "stream",
       "stream": "stderr",
       "text": [
        "OverviewPlot plotting took: 4.83593702316seconds\n"
       ]
      },
      {
       "output_type": "stream",
       "stream": "stderr",
       "text": [
        "OverviewPlot plotting took: 4.83593702316seconds\n"
       ]
      },
      {
       "output_type": "stream",
       "stream": "stderr",
       "text": [
        "OverviewPlot plotting took: 4.83593702316seconds\n"
       ]
      },
      {
       "output_type": "stream",
       "stream": "stderr",
       "text": [
        "OverviewPlot plotting took: 4.83593702316seconds\n"
       ]
      },
      {
       "output_type": "stream",
       "stream": "stderr",
       "text": [
        "WARNING:Mozaik:OverviewPlot plotting took: 2.121571064seconds\n"
       ]
      },
      {
       "output_type": "stream",
       "stream": "stderr",
       "text": [
        "OverviewPlot plotting took: 2.121571064seconds\n"
       ]
      },
      {
       "output_type": "stream",
       "stream": "stderr",
       "text": [
        "OverviewPlot plotting took: 2.121571064seconds\n"
       ]
      },
      {
       "output_type": "stream",
       "stream": "stderr",
       "text": [
        "OverviewPlot plotting took: 2.121571064seconds\n"
       ]
      },
      {
       "output_type": "stream",
       "stream": "stderr",
       "text": [
        "OverviewPlot plotting took: 2.121571064seconds\n"
       ]
      },
      {
       "output_type": "stream",
       "stream": "stderr",
       "text": [
        "WARNING:Mozaik:OverviewPlot plotting took: 1.96526885033seconds\n"
       ]
      },
      {
       "output_type": "stream",
       "stream": "stderr",
       "text": [
        "OverviewPlot plotting took: 1.96526885033seconds\n"
       ]
      },
      {
       "output_type": "stream",
       "stream": "stderr",
       "text": [
        "OverviewPlot plotting took: 1.96526885033seconds\n"
       ]
      },
      {
       "output_type": "stream",
       "stream": "stderr",
       "text": [
        "OverviewPlot plotting took: 1.96526885033seconds\n"
       ]
      },
      {
       "output_type": "stream",
       "stream": "stderr",
       "text": [
        "OverviewPlot plotting took: 1.96526885033seconds\n"
       ]
      },
      {
       "output_type": "stream",
       "stream": "stderr",
       "text": [
        "WARNING:Mozaik:OverviewPlot plotting took: 2.16156005859seconds\n"
       ]
      },
      {
       "output_type": "stream",
       "stream": "stderr",
       "text": [
        "OverviewPlot plotting took: 2.16156005859seconds\n"
       ]
      },
      {
       "output_type": "stream",
       "stream": "stderr",
       "text": [
        "OverviewPlot plotting took: 2.16156005859seconds\n"
       ]
      },
      {
       "output_type": "stream",
       "stream": "stderr",
       "text": [
        "OverviewPlot plotting took: 2.16156005859seconds\n"
       ]
      },
      {
       "output_type": "stream",
       "stream": "stderr",
       "text": [
        "OverviewPlot plotting took: 2.16156005859seconds\n"
       ]
      }
     ],
     "prompt_number": 19
    },
    {
     "cell_type": "code",
     "collapsed": false,
     "input": [
      "pylab.show()\n",
      "\n"
     ],
     "language": "python",
     "metadata": {},
     "outputs": [],
     "prompt_number": 9
    },
    {
     "cell_type": "code",
     "collapsed": false,
     "input": [
      "TrialAveragedFiringRate(param_filter_query(data_store,st_name='FullfieldDriftingSinusoidalGrating'),ParameterSet({})).analyse()"
     ],
     "language": "python",
     "metadata": {},
     "outputs": [
      {
       "output_type": "stream",
       "stream": "stderr",
       "text": [
        "INFO:Mozaik:Starting TrialAveragedFiringRate analysis\n"
       ]
      },
      {
       "output_type": "stream",
       "stream": "stderr",
       "text": [
        "  Starting TrialAveragedFiringRate analysis\n"
       ]
      },
      {
       "output_type": "stream",
       "stream": "stdout",
       "text": [
        "200\n",
        "200\n",
        "200"
       ]
      },
      {
       "output_type": "stream",
       "stream": "stdout",
       "text": [
        "\n",
        "200\n",
        "200"
       ]
      },
      {
       "output_type": "stream",
       "stream": "stdout",
       "text": [
        "\n",
        "200\n",
        "200"
       ]
      },
      {
       "output_type": "stream",
       "stream": "stderr",
       "text": [
        "WARNING:Mozaik:TrialAveragedFiringRate analysis took: 302.171426058seconds\n"
       ]
      },
      {
       "output_type": "stream",
       "stream": "stderr",
       "text": [
        "TrialAveragedFiringRate analysis took: 302.171426058seconds\n"
       ]
      },
      {
       "output_type": "stream",
       "stream": "stdout",
       "text": [
        "\n",
        "200\n"
       ]
      }
     ],
     "prompt_number": 3
    },
    {
     "cell_type": "code",
     "collapsed": false,
     "input": [
      "dsv = param_filter_query(data_store,st_name='FullfieldDriftingSinusoidalGrating',analysis_algorithm=['TrialAveragedFiringRate'])\n",
      "PlotTuningCurve(dsv, ParameterSet({'parameter_name' : 'orientation', 'neurons': list(analog_ids), 'sheet_name' : 'V1_Exc_L4','centered'  : True,'mean' : True,'pool' : False,'polar' : False}),fig_param={'dpi' : 70,'figsize': (9,8)},plot_file_name='HardORNestHP1.png').plot({'*.title' : None,'*.x_label' : None , '*.y_label' : 'EXC\\nfiring rate (sp/s)','*.colors' : ['#FFAB00','#000000']})\n",
      "PlotTuningCurve(dsv, ParameterSet({'parameter_name' : 'orientation', 'neurons': list(analog_ids)[:5], 'sheet_name' : 'V1_Exc_L4','centered'  : True,'mean' : False,'pool' : False,'polar' : False}),fig_param={'dpi' : 70,'figsize': (17,4)},plot_file_name='HardORNestHP2.png').plot({'*.title' : None,'*.x_label' : None , '*.y_label' : None,'*.colors' : ['#FFAB00','#000000']})\n",
      "PlotTuningCurve(dsv, ParameterSet({'parameter_name' : 'orientation', 'neurons': list(analog_ids)[5:10], 'sheet_name' : 'V1_Exc_L4','centered'  : True,'mean' : False,'pool' : False,'polar' : False}),fig_param={'dpi' : 70,'figsize': (17,4)},plot_file_name='HardORNestHP3.png').plot({'*.title' : None,'*.x_label' : None , '*.y_label' : None,'*.colors' : ['#FFAB00','#000000']})\n",
      "pylab.show()"
     ],
     "language": "python",
     "metadata": {},
     "outputs": [
      {
       "output_type": "stream",
       "stream": "stderr",
       "text": [
        "WARNING:Mozaik:PlotTuningCurve plotting took: 0.456767082214seconds\n"
       ]
      },
      {
       "output_type": "stream",
       "stream": "stderr",
       "text": [
        "PlotTuningCurve plotting took: 0.456767082214seconds\n"
       ]
      },
      {
       "output_type": "stream",
       "stream": "stderr",
       "text": [
        "WARNING:Mozaik:PlotTuningCurve plotting took: 0.514753818512seconds\n"
       ]
      },
      {
       "output_type": "stream",
       "stream": "stderr",
       "text": [
        "PlotTuningCurve plotting took: 0.514753818512seconds\n"
       ]
      },
      {
       "output_type": "stream",
       "stream": "stderr",
       "text": [
        "WARNING:Mozaik:PlotTuningCurve plotting took: 0.506126880646seconds\n"
       ]
      },
      {
       "output_type": "stream",
       "stream": "stderr",
       "text": [
        "PlotTuningCurve plotting took: 0.506126880646seconds\n"
       ]
      }
     ],
     "prompt_number": 4
    }
   ],
   "metadata": {}
  }
 ]
}