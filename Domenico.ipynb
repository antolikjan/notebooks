{
 "cells": [
  {
   "cell_type": "code",
   "execution_count": 3,
   "metadata": {},
   "outputs": [
    {
     "name": "stderr",
     "output_type": "stream",
     "text": [
      "  Starting NeuronAnnotationsToPerNeuronValues analysis\n",
      "  Starting NeuronAnnotationsToPerNeuronValues analysis\n",
      "  Starting NeuronAnnotationsToPerNeuronValues Analysis\n",
      "  Starting NeuronAnnotationsToPerNeuronValues Analysis\n",
      "NeuronAnnotationsToPerNeuronValues analysis took: 0.143273830414seconds\n",
      "NeuronAnnotationsToPerNeuronValues analysis took: 0.143273830414seconds\n"
     ]
    },
    {
     "ename": "ValueError",
     "evalue": "Incorrect length of array annotation: 1 != 186",
     "output_type": "error",
     "traceback": [
      "\u001b[0;31m---------------------------------------------------------------------------\u001b[0m",
      "\u001b[0;31mValueError\u001b[0m                                Traceback (most recent call last)",
      "\u001b[0;32m<ipython-input-3-9e3ed5a8e9e2>\u001b[0m in \u001b[0;36m<module>\u001b[0;34m()\u001b[0m\n\u001b[1;32m     18\u001b[0m \u001b[0mNeuronAnnotationsToPerNeuronValues\u001b[0m\u001b[0;34m(\u001b[0m\u001b[0mdata_store\u001b[0m\u001b[0;34m,\u001b[0m\u001b[0mParameterSet\u001b[0m\u001b[0;34m(\u001b[0m\u001b[0;34m{\u001b[0m\u001b[0;34m}\u001b[0m\u001b[0;34m)\u001b[0m\u001b[0;34m)\u001b[0m\u001b[0;34m.\u001b[0m\u001b[0manalyse\u001b[0m\u001b[0;34m(\u001b[0m\u001b[0;34m)\u001b[0m\u001b[0;34m\u001b[0m\u001b[0m\n\u001b[1;32m     19\u001b[0m \u001b[0;34m\u001b[0m\u001b[0m\n\u001b[0;32m---> 20\u001b[0;31m \u001b[0manalog_ids\u001b[0m \u001b[0;34m=\u001b[0m \u001b[0mparam_filter_query\u001b[0m\u001b[0;34m(\u001b[0m\u001b[0mdata_store\u001b[0m\u001b[0;34m,\u001b[0m\u001b[0msheet_name\u001b[0m\u001b[0;34m=\u001b[0m\u001b[0;34m\"V1_Exc_L4\"\u001b[0m\u001b[0;34m)\u001b[0m\u001b[0;34m.\u001b[0m\u001b[0mget_segments\u001b[0m\u001b[0;34m(\u001b[0m\u001b[0;34m)\u001b[0m\u001b[0;34m[\u001b[0m\u001b[0;36m0\u001b[0m\u001b[0;34m]\u001b[0m\u001b[0;34m.\u001b[0m\u001b[0mget_stored_esyn_ids\u001b[0m\u001b[0;34m(\u001b[0m\u001b[0;34m)\u001b[0m\u001b[0;34m\u001b[0m\u001b[0m\n\u001b[0m\u001b[1;32m     21\u001b[0m \u001b[0manalog_ids_inh\u001b[0m \u001b[0;34m=\u001b[0m \u001b[0mparam_filter_query\u001b[0m\u001b[0;34m(\u001b[0m\u001b[0mdata_store\u001b[0m\u001b[0;34m,\u001b[0m\u001b[0msheet_name\u001b[0m\u001b[0;34m=\u001b[0m\u001b[0;34m\"V1_Inh_L4\"\u001b[0m\u001b[0;34m)\u001b[0m\u001b[0;34m.\u001b[0m\u001b[0mget_segments\u001b[0m\u001b[0;34m(\u001b[0m\u001b[0;34m)\u001b[0m\u001b[0;34m[\u001b[0m\u001b[0;36m0\u001b[0m\u001b[0;34m]\u001b[0m\u001b[0;34m.\u001b[0m\u001b[0mget_stored_esyn_ids\u001b[0m\u001b[0;34m(\u001b[0m\u001b[0;34m)\u001b[0m\u001b[0;34m\u001b[0m\u001b[0m\n\u001b[1;32m     22\u001b[0m \u001b[0mspike_ids\u001b[0m \u001b[0;34m=\u001b[0m \u001b[0mparam_filter_query\u001b[0m\u001b[0;34m(\u001b[0m\u001b[0mdata_store\u001b[0m\u001b[0;34m,\u001b[0m\u001b[0msheet_name\u001b[0m\u001b[0;34m=\u001b[0m\u001b[0;34m\"V1_Exc_L4\"\u001b[0m\u001b[0;34m)\u001b[0m\u001b[0;34m.\u001b[0m\u001b[0mget_segments\u001b[0m\u001b[0;34m(\u001b[0m\u001b[0;34m)\u001b[0m\u001b[0;34m[\u001b[0m\u001b[0;36m0\u001b[0m\u001b[0;34m]\u001b[0m\u001b[0;34m.\u001b[0m\u001b[0mget_stored_spike_train_ids\u001b[0m\u001b[0;34m(\u001b[0m\u001b[0;34m)\u001b[0m\u001b[0;34m\u001b[0m\u001b[0m\n",
      "\u001b[0;32m/home/antolikjan/virt_env/mozaik/local/lib/python2.7/site-packages/mozaik/storage/neo_neurotools_wrapper.pyc\u001b[0m in \u001b[0;36mget_stored_esyn_ids\u001b[0;34m(self)\u001b[0m\n\u001b[1;32m    167\u001b[0m             \"\"\"\n\u001b[1;32m    168\u001b[0m             \u001b[0;32mif\u001b[0m \u001b[0;32mnot\u001b[0m \u001b[0mself\u001b[0m\u001b[0;34m.\u001b[0m\u001b[0mfull\u001b[0m\u001b[0;34m:\u001b[0m\u001b[0;34m\u001b[0m\u001b[0m\n\u001b[0;32m--> 169\u001b[0;31m                 \u001b[0mself\u001b[0m\u001b[0;34m.\u001b[0m\u001b[0mload_full\u001b[0m\u001b[0;34m(\u001b[0m\u001b[0;34m)\u001b[0m\u001b[0;34m\u001b[0m\u001b[0m\n\u001b[0m\u001b[1;32m    170\u001b[0m             \u001b[0;32mfor\u001b[0m \u001b[0ma\u001b[0m \u001b[0;32min\u001b[0m \u001b[0mself\u001b[0m\u001b[0;34m.\u001b[0m\u001b[0manalogsignals\u001b[0m\u001b[0;34m:\u001b[0m\u001b[0;34m\u001b[0m\u001b[0m\n\u001b[1;32m    171\u001b[0m                 \u001b[0;32mif\u001b[0m \u001b[0ma\u001b[0m\u001b[0;34m.\u001b[0m\u001b[0mname\u001b[0m \u001b[0;34m==\u001b[0m \u001b[0;34m'gsyn_exc'\u001b[0m\u001b[0;34m:\u001b[0m\u001b[0;34m\u001b[0m\u001b[0m\n",
      "\u001b[0;32m/home/antolikjan/virt_env/mozaik/local/lib/python2.7/site-packages/mozaik/storage/neo_neurotools_wrapper.pyc\u001b[0m in \u001b[0;36mload_full\u001b[0;34m(self)\u001b[0m\n\u001b[1;32m    244\u001b[0m         \u001b[0;32mdef\u001b[0m \u001b[0mload_full\u001b[0m\u001b[0;34m(\u001b[0m\u001b[0mself\u001b[0m\u001b[0;34m)\u001b[0m\u001b[0;34m:\u001b[0m\u001b[0;34m\u001b[0m\u001b[0m\n\u001b[1;32m    245\u001b[0m             \u001b[0mf\u001b[0m \u001b[0;34m=\u001b[0m \u001b[0mopen\u001b[0m\u001b[0;34m(\u001b[0m\u001b[0mself\u001b[0m\u001b[0;34m.\u001b[0m\u001b[0mdatastore_path\u001b[0m \u001b[0;34m+\u001b[0m \u001b[0;34m'/'\u001b[0m \u001b[0;34m+\u001b[0m \u001b[0mself\u001b[0m\u001b[0;34m.\u001b[0m\u001b[0midentifier\u001b[0m \u001b[0;34m+\u001b[0m \u001b[0;34m\".pickle\"\u001b[0m\u001b[0;34m,\u001b[0m \u001b[0;34m'rb'\u001b[0m\u001b[0;34m)\u001b[0m\u001b[0;34m\u001b[0m\u001b[0m\n\u001b[0;32m--> 246\u001b[0;31m             \u001b[0ms\u001b[0m \u001b[0;34m=\u001b[0m \u001b[0mcPickle\u001b[0m\u001b[0;34m.\u001b[0m\u001b[0mload\u001b[0m\u001b[0;34m(\u001b[0m\u001b[0mf\u001b[0m\u001b[0;34m)\u001b[0m\u001b[0;34m\u001b[0m\u001b[0m\n\u001b[0m\u001b[1;32m    247\u001b[0m             \u001b[0mf\u001b[0m\u001b[0;34m.\u001b[0m\u001b[0mclose\u001b[0m\u001b[0;34m(\u001b[0m\u001b[0;34m)\u001b[0m\u001b[0;34m\u001b[0m\u001b[0m\n\u001b[1;32m    248\u001b[0m             \u001b[0mself\u001b[0m\u001b[0;34m.\u001b[0m\u001b[0m_spiketrains\u001b[0m \u001b[0;34m=\u001b[0m \u001b[0ms\u001b[0m\u001b[0;34m.\u001b[0m\u001b[0mspiketrains\u001b[0m\u001b[0;34m\u001b[0m\u001b[0m\n",
      "\u001b[0;32m/home/antolikjan/virt_env/mozaik/local/lib/python2.7/site-packages/neo/core/spiketrain.pyc\u001b[0m in \u001b[0;36m_new_spiketrain\u001b[0;34m(cls, signal, t_stop, units, dtype, copy, sampling_rate, t_start, waveforms, left_sweep, name, file_origin, description, array_annotations, annotations, segment, unit)\u001b[0m\n\u001b[1;32m    104\u001b[0m         \u001b[0mannotations\u001b[0m \u001b[0;34m=\u001b[0m \u001b[0;34m{\u001b[0m\u001b[0;34m}\u001b[0m\u001b[0;34m\u001b[0m\u001b[0m\n\u001b[1;32m    105\u001b[0m     obj = SpikeTrain(signal, t_stop, units, dtype, copy, sampling_rate, t_start, waveforms,\n\u001b[0;32m--> 106\u001b[0;31m                      left_sweep, name, file_origin, description, array_annotations, **annotations)\n\u001b[0m\u001b[1;32m    107\u001b[0m     \u001b[0mobj\u001b[0m\u001b[0;34m.\u001b[0m\u001b[0msegment\u001b[0m \u001b[0;34m=\u001b[0m \u001b[0msegment\u001b[0m\u001b[0;34m\u001b[0m\u001b[0m\n\u001b[1;32m    108\u001b[0m     \u001b[0mobj\u001b[0m\u001b[0;34m.\u001b[0m\u001b[0munit\u001b[0m \u001b[0;34m=\u001b[0m \u001b[0munit\u001b[0m\u001b[0;34m\u001b[0m\u001b[0m\n",
      "\u001b[0;32m/home/antolikjan/virt_env/mozaik/local/lib/python2.7/site-packages/neo/core/spiketrain.pyc\u001b[0m in \u001b[0;36m__init__\u001b[0;34m(self, times, t_stop, units, dtype, copy, sampling_rate, t_start, waveforms, left_sweep, name, file_origin, description, array_annotations, **annotations)\u001b[0m\n\u001b[1;32m    321\u001b[0m         \u001b[0;31m# attributes and sets up self.annotations\u001b[0m\u001b[0;34m\u001b[0m\u001b[0;34m\u001b[0m\u001b[0m\n\u001b[1;32m    322\u001b[0m         DataObject.__init__(self, name=name, file_origin=file_origin, description=description,\n\u001b[0;32m--> 323\u001b[0;31m                             array_annotations=array_annotations, **annotations)\n\u001b[0m\u001b[1;32m    324\u001b[0m \u001b[0;34m\u001b[0m\u001b[0m\n\u001b[1;32m    325\u001b[0m     \u001b[0;32mdef\u001b[0m \u001b[0m_repr_pretty_\u001b[0m\u001b[0;34m(\u001b[0m\u001b[0mself\u001b[0m\u001b[0;34m,\u001b[0m \u001b[0mpp\u001b[0m\u001b[0;34m,\u001b[0m \u001b[0mcycle\u001b[0m\u001b[0;34m)\u001b[0m\u001b[0;34m:\u001b[0m\u001b[0;34m\u001b[0m\u001b[0m\n",
      "\u001b[0;32m/home/antolikjan/virt_env/mozaik/local/lib/python2.7/site-packages/neo/core/dataobject.pyc\u001b[0m in \u001b[0;36m__init__\u001b[0;34m(self, name, description, file_origin, array_annotations, **annotations)\u001b[0m\n\u001b[1;32m    170\u001b[0m             \u001b[0mself\u001b[0m\u001b[0;34m.\u001b[0m\u001b[0marray_annotations\u001b[0m \u001b[0;34m=\u001b[0m \u001b[0mArrayDict\u001b[0m\u001b[0;34m(\u001b[0m\u001b[0mself\u001b[0m\u001b[0;34m.\u001b[0m\u001b[0m_get_arr_ann_length\u001b[0m\u001b[0;34m(\u001b[0m\u001b[0;34m)\u001b[0m\u001b[0;34m)\u001b[0m\u001b[0;34m\u001b[0m\u001b[0m\n\u001b[1;32m    171\u001b[0m         \u001b[0;32mif\u001b[0m \u001b[0marray_annotations\u001b[0m \u001b[0;32mis\u001b[0m \u001b[0;32mnot\u001b[0m \u001b[0mNone\u001b[0m\u001b[0;34m:\u001b[0m\u001b[0;34m\u001b[0m\u001b[0m\n\u001b[0;32m--> 172\u001b[0;31m             \u001b[0mself\u001b[0m\u001b[0;34m.\u001b[0m\u001b[0marray_annotate\u001b[0m\u001b[0;34m(\u001b[0m\u001b[0;34m**\u001b[0m\u001b[0marray_annotations\u001b[0m\u001b[0;34m)\u001b[0m\u001b[0;34m\u001b[0m\u001b[0m\n\u001b[0m\u001b[1;32m    173\u001b[0m \u001b[0;34m\u001b[0m\u001b[0m\n\u001b[1;32m    174\u001b[0m         BaseNeo.__init__(self, name=name, description=description, file_origin=file_origin,\n",
      "\u001b[0;32m/home/antolikjan/virt_env/mozaik/local/lib/python2.7/site-packages/neo/core/dataobject.pyc\u001b[0m in \u001b[0;36marray_annotate\u001b[0;34m(self, **array_annotations)\u001b[0m\n\u001b[1;32m    187\u001b[0m         \"\"\"\n\u001b[1;32m    188\u001b[0m \u001b[0;34m\u001b[0m\u001b[0m\n\u001b[0;32m--> 189\u001b[0;31m         \u001b[0mself\u001b[0m\u001b[0;34m.\u001b[0m\u001b[0marray_annotations\u001b[0m\u001b[0;34m.\u001b[0m\u001b[0mupdate\u001b[0m\u001b[0;34m(\u001b[0m\u001b[0marray_annotations\u001b[0m\u001b[0;34m)\u001b[0m\u001b[0;34m\u001b[0m\u001b[0m\n\u001b[0m\u001b[1;32m    190\u001b[0m \u001b[0;34m\u001b[0m\u001b[0m\n\u001b[1;32m    191\u001b[0m     \u001b[0;32mdef\u001b[0m \u001b[0marray_annotations_at_index\u001b[0m\u001b[0;34m(\u001b[0m\u001b[0mself\u001b[0m\u001b[0;34m,\u001b[0m \u001b[0mindex\u001b[0m\u001b[0;34m)\u001b[0m\u001b[0;34m:\u001b[0m\u001b[0;34m\u001b[0m\u001b[0m\n",
      "\u001b[0;32m/home/antolikjan/virt_env/mozaik/local/lib/python2.7/site-packages/neo/core/dataobject.pyc\u001b[0m in \u001b[0;36mupdate\u001b[0;34m(self, *args, **kwargs)\u001b[0m\n\u001b[1;32m    405\u001b[0m             \u001b[0mother\u001b[0m \u001b[0;34m=\u001b[0m \u001b[0mdict\u001b[0m\u001b[0;34m(\u001b[0m\u001b[0margs\u001b[0m\u001b[0;34m[\u001b[0m\u001b[0;36m0\u001b[0m\u001b[0;34m]\u001b[0m\u001b[0;34m)\u001b[0m\u001b[0;34m\u001b[0m\u001b[0m\n\u001b[1;32m    406\u001b[0m             \u001b[0;32mfor\u001b[0m \u001b[0mkey\u001b[0m \u001b[0;32min\u001b[0m \u001b[0mother\u001b[0m\u001b[0;34m:\u001b[0m\u001b[0;34m\u001b[0m\u001b[0m\n\u001b[0;32m--> 407\u001b[0;31m                 \u001b[0mself\u001b[0m\u001b[0;34m[\u001b[0m\u001b[0mkey\u001b[0m\u001b[0;34m]\u001b[0m \u001b[0;34m=\u001b[0m \u001b[0mother\u001b[0m\u001b[0;34m[\u001b[0m\u001b[0mkey\u001b[0m\u001b[0;34m]\u001b[0m\u001b[0;34m\u001b[0m\u001b[0m\n\u001b[0m\u001b[1;32m    408\u001b[0m         \u001b[0;32mfor\u001b[0m \u001b[0mkey\u001b[0m \u001b[0;32min\u001b[0m \u001b[0mkwargs\u001b[0m\u001b[0;34m:\u001b[0m\u001b[0;34m\u001b[0m\u001b[0m\n\u001b[1;32m    409\u001b[0m             \u001b[0mself\u001b[0m\u001b[0;34m[\u001b[0m\u001b[0mkey\u001b[0m\u001b[0;34m]\u001b[0m \u001b[0;34m=\u001b[0m \u001b[0mkwargs\u001b[0m\u001b[0;34m[\u001b[0m\u001b[0mkey\u001b[0m\u001b[0;34m]\u001b[0m\u001b[0;34m\u001b[0m\u001b[0m\n",
      "\u001b[0;32m/home/antolikjan/virt_env/mozaik/local/lib/python2.7/site-packages/neo/core/dataobject.pyc\u001b[0m in \u001b[0;36m__setitem__\u001b[0;34m(self, key, value)\u001b[0m\n\u001b[1;32m    394\u001b[0m         \u001b[0;31m# Need to wrap key and value in a dict in order to make sure\u001b[0m\u001b[0;34m\u001b[0m\u001b[0;34m\u001b[0m\u001b[0m\n\u001b[1;32m    395\u001b[0m         \u001b[0;31m# that nested dicts are detected\u001b[0m\u001b[0;34m\u001b[0m\u001b[0;34m\u001b[0m\u001b[0m\n\u001b[0;32m--> 396\u001b[0;31m         \u001b[0mvalue\u001b[0m \u001b[0;34m=\u001b[0m \u001b[0mself\u001b[0m\u001b[0;34m.\u001b[0m\u001b[0mcheck_function\u001b[0m\u001b[0;34m(\u001b[0m\u001b[0;34m{\u001b[0m\u001b[0mkey\u001b[0m\u001b[0;34m:\u001b[0m \u001b[0mvalue\u001b[0m\u001b[0;34m}\u001b[0m\u001b[0;34m,\u001b[0m \u001b[0mself\u001b[0m\u001b[0;34m.\u001b[0m\u001b[0mlength\u001b[0m\u001b[0;34m)\u001b[0m\u001b[0;34m[\u001b[0m\u001b[0mkey\u001b[0m\u001b[0;34m]\u001b[0m\u001b[0;34m\u001b[0m\u001b[0m\n\u001b[0m\u001b[1;32m    397\u001b[0m         \u001b[0msuper\u001b[0m\u001b[0;34m(\u001b[0m\u001b[0mArrayDict\u001b[0m\u001b[0;34m,\u001b[0m \u001b[0mself\u001b[0m\u001b[0;34m)\u001b[0m\u001b[0;34m.\u001b[0m\u001b[0m__setitem__\u001b[0m\u001b[0;34m(\u001b[0m\u001b[0mkey\u001b[0m\u001b[0;34m,\u001b[0m \u001b[0mvalue\u001b[0m\u001b[0;34m)\u001b[0m\u001b[0;34m\u001b[0m\u001b[0m\n\u001b[1;32m    398\u001b[0m \u001b[0;34m\u001b[0m\u001b[0m\n",
      "\u001b[0;32m/home/antolikjan/virt_env/mozaik/local/lib/python2.7/site-packages/neo/core/dataobject.pyc\u001b[0m in \u001b[0;36m_normalize_array_annotations\u001b[0;34m(value, length)\u001b[0m\n\u001b[1;32m     38\u001b[0m                 \u001b[0;32mraise\u001b[0m \u001b[0mValueError\u001b[0m\u001b[0;34m(\u001b[0m\u001b[0;34m\"Nested dicts are not allowed as array annotations\"\u001b[0m\u001b[0;34m)\u001b[0m\u001b[0;34m\u001b[0m\u001b[0m\n\u001b[1;32m     39\u001b[0m \u001b[0;34m\u001b[0m\u001b[0m\n\u001b[0;32m---> 40\u001b[0;31m             \u001b[0mvalue\u001b[0m\u001b[0;34m[\u001b[0m\u001b[0mkey\u001b[0m\u001b[0;34m]\u001b[0m \u001b[0;34m=\u001b[0m \u001b[0m_normalize_array_annotations\u001b[0m\u001b[0;34m(\u001b[0m\u001b[0mvalue\u001b[0m\u001b[0;34m[\u001b[0m\u001b[0mkey\u001b[0m\u001b[0;34m]\u001b[0m\u001b[0;34m,\u001b[0m \u001b[0mlength\u001b[0m\u001b[0;34m)\u001b[0m\u001b[0;34m\u001b[0m\u001b[0m\n\u001b[0m\u001b[1;32m     41\u001b[0m \u001b[0;34m\u001b[0m\u001b[0m\n\u001b[1;32m     42\u001b[0m     \u001b[0;32melif\u001b[0m \u001b[0mvalue\u001b[0m \u001b[0;32mis\u001b[0m \u001b[0mNone\u001b[0m\u001b[0;34m:\u001b[0m\u001b[0;34m\u001b[0m\u001b[0m\n",
      "\u001b[0;32m/home/antolikjan/virt_env/mozaik/local/lib/python2.7/site-packages/neo/core/dataobject.pyc\u001b[0m in \u001b[0;36m_normalize_array_annotations\u001b[0;34m(value, length)\u001b[0m\n\u001b[1;32m     47\u001b[0m             isinstance(value, pq.Quantity) and value.shape == ()):\n\u001b[1;32m     48\u001b[0m         \u001b[0m_check_annotations\u001b[0m\u001b[0;34m(\u001b[0m\u001b[0mvalue\u001b[0m\u001b[0;34m)\u001b[0m\u001b[0;34m\u001b[0m\u001b[0m\n\u001b[0;32m---> 49\u001b[0;31m         \u001b[0mvalue\u001b[0m \u001b[0;34m=\u001b[0m \u001b[0m_normalize_array_annotations\u001b[0m\u001b[0;34m(\u001b[0m\u001b[0mnp\u001b[0m\u001b[0;34m.\u001b[0m\u001b[0marray\u001b[0m\u001b[0;34m(\u001b[0m\u001b[0;34m[\u001b[0m\u001b[0mvalue\u001b[0m\u001b[0;34m]\u001b[0m\u001b[0;34m)\u001b[0m\u001b[0;34m,\u001b[0m \u001b[0mlength\u001b[0m\u001b[0;34m)\u001b[0m\u001b[0;34m\u001b[0m\u001b[0m\n\u001b[0m\u001b[1;32m     50\u001b[0m \u001b[0;34m\u001b[0m\u001b[0m\n\u001b[1;32m     51\u001b[0m     \u001b[0;31m# If array annotation, check for correct length, only single dimension and allowed data\u001b[0m\u001b[0;34m\u001b[0m\u001b[0;34m\u001b[0m\u001b[0m\n",
      "\u001b[0;32m/home/antolikjan/virt_env/mozaik/local/lib/python2.7/site-packages/neo/core/dataobject.pyc\u001b[0m in \u001b[0;36m_normalize_array_annotations\u001b[0;34m(value, length)\u001b[0m\n\u001b[1;32m     69\u001b[0m         \u001b[0;32mif\u001b[0m \u001b[0;32mnot\u001b[0m \u001b[0mown_length\u001b[0m \u001b[0;34m==\u001b[0m \u001b[0mval_length\u001b[0m\u001b[0;34m:\u001b[0m\u001b[0;34m\u001b[0m\u001b[0m\n\u001b[1;32m     70\u001b[0m             raise ValueError(\n\u001b[0;32m---> 71\u001b[0;31m                 \"Incorrect length of array annotation: {} != {}\".format(val_length, own_length))\n\u001b[0m\u001b[1;32m     72\u001b[0m \u001b[0;34m\u001b[0m\u001b[0m\n\u001b[1;32m     73\u001b[0m         \u001b[0;31m# Local function used to check single elements of a list or an array\u001b[0m\u001b[0;34m\u001b[0m\u001b[0;34m\u001b[0m\u001b[0m\n",
      "\u001b[0;31mValueError\u001b[0m: Incorrect length of array annotation: 1 != 186"
     ]
    }
   ],
   "source": [
    "import sys\n",
    "import numpy\n",
    "import mozaik\n",
    "from mozaik.controller import run_workflow, setup_logging\n",
    "from mozaik.storage.datastore import Hdf5DataStore,PickledDataStore\n",
    "from parameters import ParameterSet\n",
    "from mozaik.visualization.plotting import *\n",
    "from mozaik.analysis.technical import NeuronAnnotationsToPerNeuronValues\n",
    "from mozaik.tools.mozaik_parametrized import colapse, colapse_to_dictionary, MozaikParametrized\n",
    "from mozaik.analysis.analysis import *\n",
    "from mozaik.analysis.vision import *\n",
    "from mozaik.storage.queries import *\n",
    "\n",
    "setup_logging()\n",
    "data_store = PickledDataStore(load=True,parameters=ParameterSet({'root_directory':'/home/antolikjan/DATA/DomData/New10sec/ThalamoCorticalModel_data_orientation_ffw_____', 'store_stimuli': False}),replace=True)\n",
    "\n",
    "\n",
    "NeuronAnnotationsToPerNeuronValues(data_store,ParameterSet({})).analyse()\n",
    "\n",
    "analog_ids = param_filter_query(data_store,sheet_name=\"V1_Exc_L4\").get_segments()[0].get_stored_esyn_ids()\n",
    "analog_ids_inh = param_filter_query(data_store,sheet_name=\"V1_Inh_L4\").get_segments()[0].get_stored_esyn_ids()\n",
    "spike_ids = param_filter_query(data_store,sheet_name=\"V1_Exc_L4\").get_segments()[0].get_stored_spike_train_ids()\n",
    "spike_ids_inh = param_filter_query(data_store,sheet_name=\"V1_Inh_L4\").get_segments()[0].get_stored_spike_train_ids()\n",
    "\n",
    "#find neuron with preference closet to 0  \n",
    "l4_exc_or = data_store.get_analysis_result(identifier='PerNeuronValue',value_name = 'LGNAfferentOrientation', sheet_name = 'V1_Exc_L4')[0]\n",
    "l4_exc_phase = data_store.get_analysis_result(identifier='PerNeuronValue',value_name = 'LGNAfferentPhase', sheet_name = 'V1_Exc_L4')[0]\n",
    "l4_exc_or_many = numpy.array(spike_ids)[numpy.nonzero(numpy.array([circular_dist(l4_exc_or.get_value_by_id(i),0,numpy.pi)  for i in spike_ids]) < 0.4)[0]]\n",
    "\n"
   ]
  },
  {
   "cell_type": "code",
   "execution_count": 13,
   "metadata": {},
   "outputs": [
    {
     "name": "stderr",
     "output_type": "stream",
     "text": [
      "  DSV info:\n",
      "  DSV info:\n",
      "  DSV info:\n",
      "  DSV info:\n",
      "  DSV info:\n",
      "  DSV info:\n",
      "  DSV info:\n",
      "  DSV info:\n",
      "     Number of recordings: 20\n",
      "     Number of recordings: 20\n",
      "     Number of recordings: 20\n",
      "     Number of recordings: 20\n",
      "     Number of recordings: 20\n",
      "     Number of recordings: 20\n",
      "     Number of recordings: 20\n",
      "     Number of recordings: 20\n",
      "       FullfieldDriftingSinusoidalGrating : 10\n",
      "       FullfieldDriftingSinusoidalGrating : 10\n",
      "       FullfieldDriftingSinusoidalGrating : 10\n",
      "       FullfieldDriftingSinusoidalGrating : 10\n",
      "       FullfieldDriftingSinusoidalGrating : 10\n",
      "       FullfieldDriftingSinusoidalGrating : 10\n",
      "       FullfieldDriftingSinusoidalGrating : 10\n",
      "       FullfieldDriftingSinusoidalGrating : 10\n",
      "       InternalStimulus : 10\n",
      "       InternalStimulus : 10\n",
      "       InternalStimulus : 10\n",
      "       InternalStimulus : 10\n",
      "       InternalStimulus : 10\n",
      "       InternalStimulus : 10\n",
      "       InternalStimulus : 10\n",
      "       InternalStimulus : 10\n",
      "     Number of ADS: 14\n",
      "     Number of ADS: 14\n",
      "     Number of ADS: 14\n",
      "     Number of ADS: 14\n",
      "     Number of ADS: 14\n",
      "     Number of ADS: 14\n",
      "     Number of ADS: 14\n",
      "     Number of ADS: 14\n",
      "       PerNeuronValue : 14\n",
      "       PerNeuronValue : 14\n",
      "       PerNeuronValue : 14\n",
      "       PerNeuronValue : 14\n",
      "       PerNeuronValue : 14\n",
      "       PerNeuronValue : 14\n",
      "       PerNeuronValue : 14\n",
      "       PerNeuronValue : 14\n"
     ]
    }
   ],
   "source": [
    "data_store.print_content()"
   ]
  },
  {
   "cell_type": "code",
   "execution_count": 39,
   "metadata": {},
   "outputs": [],
   "source": [
    "segs = param_filter_query(data_store,sheet_name=\"V1_Exc_L4\",st_orientation=0).get_segments()\n",
    "\n",
    "spikes = [st.magnitude for st in segs[0].get_spiketrain(l4_exc_or_many)]\n",
    "\n",
    "import cPickle\n",
    "f = open('ffw','wb')\n",
    "cPickle.dump(spikes,f)\n",
    "f.close()"
   ]
  },
  {
   "cell_type": "code",
   "execution_count": 2,
   "metadata": {},
   "outputs": [
    {
     "ename": "NameError",
     "evalue": "name 'spike_ids' is not defined",
     "output_type": "error",
     "traceback": [
      "\u001b[0;31m---------------------------------------------------------------------------\u001b[0m",
      "\u001b[0;31mNameError\u001b[0m                                 Traceback (most recent call last)",
      "\u001b[0;32m<ipython-input-2-4a64a1a4ebc4>\u001b[0m in \u001b[0;36m<module>\u001b[0;34m()\u001b[0m\n\u001b[1;32m      1\u001b[0m \u001b[0mdsv\u001b[0m \u001b[0;34m=\u001b[0m \u001b[0mparam_filter_query\u001b[0m\u001b[0;34m(\u001b[0m\u001b[0mdata_store\u001b[0m\u001b[0;34m,\u001b[0m\u001b[0mst_name\u001b[0m\u001b[0;34m=\u001b[0m\u001b[0;34m[\u001b[0m\u001b[0;34m'InternalStimulus'\u001b[0m\u001b[0;34m]\u001b[0m\u001b[0;34m,\u001b[0m\u001b[0mst_direct_stimulation_name\u001b[0m\u001b[0;34m=\u001b[0m\u001b[0;34m\"None\"\u001b[0m\u001b[0;34m)\u001b[0m\u001b[0;34m\u001b[0m\u001b[0m\n\u001b[0;32m----> 2\u001b[0;31m \u001b[0mRasterPlot\u001b[0m\u001b[0;34m(\u001b[0m\u001b[0mdsv\u001b[0m\u001b[0;34m,\u001b[0m\u001b[0mParameterSet\u001b[0m\u001b[0;34m(\u001b[0m\u001b[0;34m{\u001b[0m\u001b[0;34m'sheet_name'\u001b[0m \u001b[0;34m:\u001b[0m \u001b[0;34m'V1_Exc_L4'\u001b[0m\u001b[0;34m,\u001b[0m \u001b[0;34m'neurons'\u001b[0m \u001b[0;34m:\u001b[0m \u001b[0mspike_ids\u001b[0m\u001b[0;34m,\u001b[0m\u001b[0;34m'trial_averaged_histogram'\u001b[0m\u001b[0;34m:\u001b[0m \u001b[0mFalse\u001b[0m\u001b[0;34m,\u001b[0m \u001b[0;34m'spontaneous'\u001b[0m \u001b[0;34m:\u001b[0m \u001b[0mFalse\u001b[0m\u001b[0;34m}\u001b[0m\u001b[0;34m)\u001b[0m\u001b[0;34m,\u001b[0m\u001b[0mfig_param\u001b[0m\u001b[0;34m=\u001b[0m\u001b[0;34m{\u001b[0m\u001b[0;34m'dpi'\u001b[0m \u001b[0;34m:\u001b[0m \u001b[0;36m100\u001b[0m\u001b[0;34m,\u001b[0m\u001b[0;34m'figsize'\u001b[0m\u001b[0;34m:\u001b[0m \u001b[0;34m(\u001b[0m\u001b[0;36m28\u001b[0m\u001b[0;34m,\u001b[0m\u001b[0;36m12\u001b[0m\u001b[0;34m)\u001b[0m\u001b[0;34m}\u001b[0m\u001b[0;34m,\u001b[0m\u001b[0mplot_file_name\u001b[0m\u001b[0;34m=\u001b[0m\u001b[0;34m'SSExcRasterL4.png'\u001b[0m\u001b[0;34m)\u001b[0m\u001b[0;34m.\u001b[0m\u001b[0mplot\u001b[0m\u001b[0;34m(\u001b[0m\u001b[0;34m{\u001b[0m\u001b[0;34m'SpikeRasterPlot.group_trials'\u001b[0m\u001b[0;34m:\u001b[0m\u001b[0mTrue\u001b[0m\u001b[0;34m}\u001b[0m\u001b[0;34m)\u001b[0m\u001b[0;34m\u001b[0m\u001b[0m\n\u001b[0m\u001b[1;32m      3\u001b[0m \u001b[0mdsv\u001b[0m \u001b[0;34m=\u001b[0m \u001b[0mparam_filter_query\u001b[0m\u001b[0;34m(\u001b[0m\u001b[0mdata_store\u001b[0m\u001b[0;34m,\u001b[0m\u001b[0mst_orientation\u001b[0m\u001b[0;34m=\u001b[0m\u001b[0;36m0\u001b[0m\u001b[0;34m)\u001b[0m\u001b[0;34m\u001b[0m\u001b[0m\n\u001b[1;32m      4\u001b[0m \u001b[0mRasterPlot\u001b[0m\u001b[0;34m(\u001b[0m\u001b[0mdsv\u001b[0m\u001b[0;34m,\u001b[0m\u001b[0mParameterSet\u001b[0m\u001b[0;34m(\u001b[0m\u001b[0;34m{\u001b[0m\u001b[0;34m'sheet_name'\u001b[0m \u001b[0;34m:\u001b[0m \u001b[0;34m'V1_Exc_L4'\u001b[0m\u001b[0;34m,\u001b[0m \u001b[0;34m'neurons'\u001b[0m \u001b[0;34m:\u001b[0m \u001b[0mspike_ids\u001b[0m\u001b[0;34m,\u001b[0m\u001b[0;34m'trial_averaged_histogram'\u001b[0m\u001b[0;34m:\u001b[0m \u001b[0mFalse\u001b[0m\u001b[0;34m,\u001b[0m \u001b[0;34m'spontaneous'\u001b[0m \u001b[0;34m:\u001b[0m \u001b[0mFalse\u001b[0m\u001b[0;34m}\u001b[0m\u001b[0;34m)\u001b[0m\u001b[0;34m,\u001b[0m\u001b[0mfig_param\u001b[0m\u001b[0;34m=\u001b[0m\u001b[0;34m{\u001b[0m\u001b[0;34m'dpi'\u001b[0m \u001b[0;34m:\u001b[0m \u001b[0;36m100\u001b[0m\u001b[0;34m,\u001b[0m\u001b[0;34m'figsize'\u001b[0m\u001b[0;34m:\u001b[0m \u001b[0;34m(\u001b[0m\u001b[0;36m28\u001b[0m\u001b[0;34m,\u001b[0m\u001b[0;36m12\u001b[0m\u001b[0;34m)\u001b[0m\u001b[0;34m}\u001b[0m\u001b[0;34m,\u001b[0m\u001b[0mplot_file_name\u001b[0m\u001b[0;34m=\u001b[0m\u001b[0;34m'SSExcRasterL4.png'\u001b[0m\u001b[0;34m)\u001b[0m\u001b[0;34m.\u001b[0m\u001b[0mplot\u001b[0m\u001b[0;34m(\u001b[0m\u001b[0;34m{\u001b[0m\u001b[0;34m'SpikeRasterPlot.group_trials'\u001b[0m\u001b[0;34m:\u001b[0m\u001b[0mTrue\u001b[0m\u001b[0;34m}\u001b[0m\u001b[0;34m)\u001b[0m\u001b[0;34m\u001b[0m\u001b[0m\n\u001b[1;32m      5\u001b[0m \u001b[0;34m\u001b[0m\u001b[0m\n",
      "\u001b[0;31mNameError\u001b[0m: name 'spike_ids' is not defined"
     ]
    }
   ],
   "source": [
    "dsv = param_filter_query(data_store,st_name=['InternalStimulus'],st_direct_stimulation_name=\"None\")    \n",
    "RasterPlot(dsv,ParameterSet({'sheet_name' : 'V1_Exc_L4', 'neurons' : spike_ids,'trial_averaged_histogram': False, 'spontaneous' : False}),fig_param={'dpi' : 100,'figsize': (28,12)},plot_file_name='SSExcRasterL4.png').plot({'SpikeRasterPlot.group_trials':True})\n",
    "dsv = param_filter_query(data_store,st_orientation=0)    \n",
    "RasterPlot(dsv,ParameterSet({'sheet_name' : 'V1_Exc_L4', 'neurons' : spike_ids,'trial_averaged_histogram': False, 'spontaneous' : False}),fig_param={'dpi' : 100,'figsize': (28,12)},plot_file_name='SSExcRasterL4.png').plot({'SpikeRasterPlot.group_trials':True})\n",
    "\n"
   ]
  },
  {
   "cell_type": "code",
   "execution_count": null,
   "metadata": {},
   "outputs": [],
   "source": []
  }
 ],
 "metadata": {
  "kernelspec": {
   "display_name": "Python 2",
   "language": "python",
   "name": "python2"
  },
  "language_info": {
   "codemirror_mode": {
    "name": "ipython",
    "version": 2
   },
   "file_extension": ".py",
   "mimetype": "text/x-python",
   "name": "python",
   "nbconvert_exporter": "python",
   "pygments_lexer": "ipython2",
   "version": "2.7.15+"
  }
 },
 "nbformat": 4,
 "nbformat_minor": 2
}
