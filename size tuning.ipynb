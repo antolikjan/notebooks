{
 "metadata": {
  "name": "",
  "signature": "sha256:af295d03aacfc247003b77c75dcddce09006dfaffe312bf9ec57d7ef69242898"
 },
 "nbformat": 3,
 "nbformat_minor": 0,
 "worksheets": [
  {
   "cells": [
    {
     "cell_type": "code",
     "collapsed": false,
     "input": [
      "import sys\n",
      "import matplotlib.animation\n",
      "print matplotlib.animation.writers.list()\n",
      "print sys.path\n",
      "\n",
      "sys.path.insert(0,'/home/jan/cluster/mozaik/')\n",
      "import numpy\n",
      "import mozaik\n",
      "from mozaik.controller import run_workflow, setup_logging\n",
      "from mozaik.storage.datastore import Hdf5DataStore,PickledDataStore\n",
      "from parameters import ParameterSet\n",
      "from mozaik.visualization.plotting import *\n",
      "\n",
      "from mozaik.analysis.technical import NeuronAnnotationsToPerNeuronValues\n",
      "from mozaik.tools.mozaik_parametrized import colapse, colapse_to_dictionary, MozaikParametrized\n",
      "from mozaik.analysis.analysis import *\n",
      "from mozaik.analysis.vision import *\n",
      "from mozaik.storage.queries import *\n",
      "from mozaik.visualization.helper_functions import *\n",
      "\n",
      "import sys\n",
      "sys.path.append('/home/jan/cluster/mozaik/contrib/')\n",
      "sys.path.append('/home/jan/cluster/mozaik/contrib/PushPullCCLISSOMModelSSIzL23')\n",
      "from analysis_and_visualization import perform_analysis_and_visualization\n",
      "%matplotlib inline\n",
      "\n",
      "setup_logging()\n",
      "\n",
      "data_store = PickledDataStore(load=True,parameters=ParameterSet({'root_directory':'/home/jan/cluster/mozaik/contrib/PushPullCCLISSOMModelSSIzL23/20160621-155005[param_final_l23affor_outK_fastidelay_big.defaults]CombinationParamSearch{13}/SelfSustainedPushPull_ParameterSearch_____arborization_scaler:1.0_num_samples:40_U:0.5_tau_rec:120_K:800_base_weight:0.0014_base_weight:0.0021_inhibitory_connection_ratio:0.65_l23_aff_ratio:0.4_density:800_sx:3500_rand_struct_ratio:0.85_tau_m:13.0','store_stimuli': False}),replace=True)\n",
      "                  \n",
      "NeuronAnnotationsToPerNeuronValues(data_store,ParameterSet({})).analyse()\n",
      "analog_ids = param_filter_query(data_store,sheet_name=\"V1_Exc_L4\").get_segments()[0].get_stored_esyn_ids()\n",
      "analog_ids_inh = param_filter_query(data_store,sheet_name=\"V1_Inh_L4\").get_segments()[0].get_stored_esyn_ids()\n",
      "analog_ids23 = param_filter_query(data_store,sheet_name=\"V1_Exc_L2/3\").get_segments()[0].get_stored_esyn_ids()\n",
      "analog_ids_inh23 = param_filter_query(data_store,sheet_name=\"V1_Inh_L2/3\").get_segments()[0].get_stored_esyn_ids()\n",
      "\n",
      "#find neuron with preference closet to 0  \n",
      "l4_exc_or = data_store.get_analysis_result(identifier='PerNeuronValue',value_name = 'LGNAfferentOrientation', sheet_name = 'V1_Exc_L4')[0]\n",
      "l4_exc_phase = data_store.get_analysis_result(identifier='PerNeuronValue',value_name = 'LGNAfferentPhase', sheet_name = 'V1_Exc_L4')[0]\n",
      "l4_exc = analog_ids[numpy.argmin([circular_dist(o,numpy.pi/2,numpy.pi)  for (o,p) in zip(l4_exc_or.get_value_by_id(analog_ids),l4_exc_phase.get_value_by_id(analog_ids))])]\n",
      "l4_inh_or = data_store.get_analysis_result(identifier='PerNeuronValue',value_name = 'LGNAfferentOrientation', sheet_name = 'V1_Inh_L4')[0]\n",
      "l4_inh_phase = data_store.get_analysis_result(identifier='PerNeuronValue',value_name = 'LGNAfferentPhase', sheet_name = 'V1_Inh_L4')[0]\n",
      "l4_inh = analog_ids_inh[numpy.argmin([circular_dist(o,numpy.pi/2,numpy.pi)  for (o,p) in zip(l4_inh_or.get_value_by_id(analog_ids_inh),l4_inh_phase.get_value_by_id(analog_ids_inh))])]\n",
      "l4_exc_or_many = numpy.array(l4_exc_or.ids)[numpy.nonzero(numpy.array([circular_dist(o,numpy.pi/2,numpy.pi)  for (o,p) in zip(l4_exc_or.values,l4_exc_phase.values)]) < 0.1)[0]]"
     ],
     "language": "python",
     "metadata": {},
     "outputs": [
      {
       "output_type": "stream",
       "stream": "stderr",
       "text": [
        "INFO:Mozaik:Starting NeuronAnnotationsToPerNeuronValues analysis\n"
       ]
      },
      {
       "output_type": "stream",
       "stream": "stderr",
       "text": [
        "  Starting NeuronAnnotationsToPerNeuronValues analysis\n"
       ]
      },
      {
       "output_type": "stream",
       "stream": "stderr",
       "text": [
        "INFO:Mozaik:Starting NeuronAnnotationsToPerNeuronValues Analysis\n"
       ]
      },
      {
       "output_type": "stream",
       "stream": "stderr",
       "text": [
        "  Starting NeuronAnnotationsToPerNeuronValues Analysis\n"
       ]
      },
      {
       "output_type": "stream",
       "stream": "stderr",
       "text": [
        "INFO:Mozaik:Warning: ADS with the same parametrization already added in the datastore.: {\"module_path\" :\"mozaik.analysis.data_structures\",\"analysis_algorithm\":'NeuronAnnotationsToPerNeuronValues', \"identifier\":'PerNeuronValue', \"name\":'PerNeuronValue', \"neuron\":None, \"period\":3.141592653589793, \"sheet_name\":'V1_Exc_L2/3', \"stimulus_id\":None, \"value_name\":'LGNAfferentOrientation'}\n"
       ]
      },
      {
       "output_type": "stream",
       "stream": "stderr",
       "text": [
        "  Warning: ADS with the same parametrization already added in the datastore.: {\"module_path\" :\"mozaik.analysis.data_structures\",\"analysis_algorithm\":'NeuronAnnotationsToPerNeuronValues', \"identifier\":'PerNeuronValue', \"name\":'PerNeuronValue', \"neuron\":None, \"period\":3.141592653589793, \"sheet_name\":'V1_Exc_L2/3', \"stimulus_id\":None, \"value_name\":'LGNAfferentOrientation'}\n"
       ]
      },
      {
       "output_type": "stream",
       "stream": "stderr",
       "text": [
        "INFO:Mozaik:Warning: ADS with the same parametrization already added in the datastore.: {\"module_path\" :\"mozaik.analysis.data_structures\",\"analysis_algorithm\":'NeuronAnnotationsToPerNeuronValues', \"identifier\":'PerNeuronValue', \"name\":'PerNeuronValue', \"neuron\":None, \"period\":6.283185307179586, \"sheet_name\":'V1_Exc_L4', \"stimulus_id\":None, \"value_name\":'LGNAfferentPhase'}\n"
       ]
      },
      {
       "output_type": "stream",
       "stream": "stderr",
       "text": [
        "  Warning: ADS with the same parametrization already added in the datastore.: {\"module_path\" :\"mozaik.analysis.data_structures\",\"analysis_algorithm\":'NeuronAnnotationsToPerNeuronValues', \"identifier\":'PerNeuronValue', \"name\":'PerNeuronValue', \"neuron\":None, \"period\":6.283185307179586, \"sheet_name\":'V1_Exc_L4', \"stimulus_id\":None, \"value_name\":'LGNAfferentPhase'}\n"
       ]
      },
      {
       "output_type": "stream",
       "stream": "stderr",
       "text": [
        "INFO:Mozaik:Warning: ADS with the same parametrization already added in the datastore.: {\"module_path\" :\"mozaik.analysis.data_structures\",\"analysis_algorithm\":'NeuronAnnotationsToPerNeuronValues', \"identifier\":'PerNeuronValue', \"name\":'PerNeuronValue', \"neuron\":None, \"period\":3.141592653589793, \"sheet_name\":'V1_Exc_L4', \"stimulus_id\":None, \"value_name\":'LGNAfferentOrientation'}\n"
       ]
      },
      {
       "output_type": "stream",
       "stream": "stderr",
       "text": [
        "  Warning: ADS with the same parametrization already added in the datastore.: {\"module_path\" :\"mozaik.analysis.data_structures\",\"analysis_algorithm\":'NeuronAnnotationsToPerNeuronValues', \"identifier\":'PerNeuronValue', \"name\":'PerNeuronValue', \"neuron\":None, \"period\":3.141592653589793, \"sheet_name\":'V1_Exc_L4', \"stimulus_id\":None, \"value_name\":'LGNAfferentOrientation'}\n"
       ]
      },
      {
       "output_type": "stream",
       "stream": "stderr",
       "text": [
        "INFO:Mozaik:Warning: ADS with the same parametrization already added in the datastore.: {\"module_path\" :\"mozaik.analysis.data_structures\",\"analysis_algorithm\":'NeuronAnnotationsToPerNeuronValues', \"identifier\":'PerNeuronValue', \"name\":'PerNeuronValue', \"neuron\":None, \"period\":None, \"sheet_name\":'V1_Exc_L4', \"stimulus_id\":None, \"value_name\":'LGNAfferentSize'}\n"
       ]
      },
      {
       "output_type": "stream",
       "stream": "stderr",
       "text": [
        "  Warning: ADS with the same parametrization already added in the datastore.: {\"module_path\" :\"mozaik.analysis.data_structures\",\"analysis_algorithm\":'NeuronAnnotationsToPerNeuronValues', \"identifier\":'PerNeuronValue', \"name\":'PerNeuronValue', \"neuron\":None, \"period\":None, \"sheet_name\":'V1_Exc_L4', \"stimulus_id\":None, \"value_name\":'LGNAfferentSize'}\n"
       ]
      },
      {
       "output_type": "stream",
       "stream": "stderr",
       "text": [
        "INFO:Mozaik:Warning: ADS with the same parametrization already added in the datastore.: {\"module_path\" :\"mozaik.analysis.data_structures\",\"analysis_algorithm\":'NeuronAnnotationsToPerNeuronValues', \"identifier\":'PerNeuronValue', \"name\":'PerNeuronValue', \"neuron\":None, \"period\":None, \"sheet_name\":'V1_Exc_L4', \"stimulus_id\":None, \"value_name\":'LGNAfferentY'}\n"
       ]
      },
      {
       "output_type": "stream",
       "stream": "stderr",
       "text": [
        "  Warning: ADS with the same parametrization already added in the datastore.: {\"module_path\" :\"mozaik.analysis.data_structures\",\"analysis_algorithm\":'NeuronAnnotationsToPerNeuronValues', \"identifier\":'PerNeuronValue', \"name\":'PerNeuronValue', \"neuron\":None, \"period\":None, \"sheet_name\":'V1_Exc_L4', \"stimulus_id\":None, \"value_name\":'LGNAfferentY'}\n"
       ]
      },
      {
       "output_type": "stream",
       "stream": "stderr",
       "text": [
        "INFO:Mozaik:Warning: ADS with the same parametrization already added in the datastore.: {\"module_path\" :\"mozaik.analysis.data_structures\",\"analysis_algorithm\":'NeuronAnnotationsToPerNeuronValues', \"identifier\":'PerNeuronValue', \"name\":'PerNeuronValue', \"neuron\":None, \"period\":None, \"sheet_name\":'V1_Exc_L4', \"stimulus_id\":None, \"value_name\":'LGNAfferentX'}\n"
       ]
      },
      {
       "output_type": "stream",
       "stream": "stderr",
       "text": [
        "  Warning: ADS with the same parametrization already added in the datastore.: {\"module_path\" :\"mozaik.analysis.data_structures\",\"analysis_algorithm\":'NeuronAnnotationsToPerNeuronValues', \"identifier\":'PerNeuronValue', \"name\":'PerNeuronValue', \"neuron\":None, \"period\":None, \"sheet_name\":'V1_Exc_L4', \"stimulus_id\":None, \"value_name\":'LGNAfferentX'}\n"
       ]
      },
      {
       "output_type": "stream",
       "stream": "stderr",
       "text": [
        "INFO:Mozaik:Warning: ADS with the same parametrization already added in the datastore.: {\"module_path\" :\"mozaik.analysis.data_structures\",\"analysis_algorithm\":'NeuronAnnotationsToPerNeuronValues', \"identifier\":'PerNeuronValue', \"name\":'PerNeuronValue', \"neuron\":None, \"period\":None, \"sheet_name\":'V1_Exc_L4', \"stimulus_id\":None, \"value_name\":'LGNAfferentAspectRatio'}\n"
       ]
      },
      {
       "output_type": "stream",
       "stream": "stderr",
       "text": [
        "  Warning: ADS with the same parametrization already added in the datastore.: {\"module_path\" :\"mozaik.analysis.data_structures\",\"analysis_algorithm\":'NeuronAnnotationsToPerNeuronValues', \"identifier\":'PerNeuronValue', \"name\":'PerNeuronValue', \"neuron\":None, \"period\":None, \"sheet_name\":'V1_Exc_L4', \"stimulus_id\":None, \"value_name\":'LGNAfferentAspectRatio'}\n"
       ]
      },
      {
       "output_type": "stream",
       "stream": "stderr",
       "text": [
        "INFO:Mozaik:Warning: ADS with the same parametrization already added in the datastore.: {\"module_path\" :\"mozaik.analysis.data_structures\",\"analysis_algorithm\":'NeuronAnnotationsToPerNeuronValues', \"identifier\":'PerNeuronValue', \"name\":'PerNeuronValue', \"neuron\":None, \"period\":None, \"sheet_name\":'V1_Exc_L4', \"stimulus_id\":None, \"value_name\":'LGNAfferentFrequency'}\n"
       ]
      },
      {
       "output_type": "stream",
       "stream": "stderr",
       "text": [
        "  Warning: ADS with the same parametrization already added in the datastore.: {\"module_path\" :\"mozaik.analysis.data_structures\",\"analysis_algorithm\":'NeuronAnnotationsToPerNeuronValues', \"identifier\":'PerNeuronValue', \"name\":'PerNeuronValue', \"neuron\":None, \"period\":None, \"sheet_name\":'V1_Exc_L4', \"stimulus_id\":None, \"value_name\":'LGNAfferentFrequency'}\n"
       ]
      },
      {
       "output_type": "stream",
       "stream": "stderr",
       "text": [
        "INFO:Mozaik:Warning: ADS with the same parametrization already added in the datastore.: {\"module_path\" :\"mozaik.analysis.data_structures\",\"analysis_algorithm\":'NeuronAnnotationsToPerNeuronValues', \"identifier\":'PerNeuronValue', \"name\":'PerNeuronValue', \"neuron\":None, \"period\":6.283185307179586, \"sheet_name\":'V1_Inh_L4', \"stimulus_id\":None, \"value_name\":'LGNAfferentPhase'}\n"
       ]
      },
      {
       "output_type": "stream",
       "stream": "stderr",
       "text": [
        "  Warning: ADS with the same parametrization already added in the datastore.: {\"module_path\" :\"mozaik.analysis.data_structures\",\"analysis_algorithm\":'NeuronAnnotationsToPerNeuronValues', \"identifier\":'PerNeuronValue', \"name\":'PerNeuronValue', \"neuron\":None, \"period\":6.283185307179586, \"sheet_name\":'V1_Inh_L4', \"stimulus_id\":None, \"value_name\":'LGNAfferentPhase'}\n"
       ]
      },
      {
       "output_type": "stream",
       "stream": "stderr",
       "text": [
        "INFO:Mozaik:Warning: ADS with the same parametrization already added in the datastore.: {\"module_path\" :\"mozaik.analysis.data_structures\",\"analysis_algorithm\":'NeuronAnnotationsToPerNeuronValues', \"identifier\":'PerNeuronValue', \"name\":'PerNeuronValue', \"neuron\":None, \"period\":3.141592653589793, \"sheet_name\":'V1_Inh_L4', \"stimulus_id\":None, \"value_name\":'LGNAfferentOrientation'}\n"
       ]
      },
      {
       "output_type": "stream",
       "stream": "stderr",
       "text": [
        "  Warning: ADS with the same parametrization already added in the datastore.: {\"module_path\" :\"mozaik.analysis.data_structures\",\"analysis_algorithm\":'NeuronAnnotationsToPerNeuronValues', \"identifier\":'PerNeuronValue', \"name\":'PerNeuronValue', \"neuron\":None, \"period\":3.141592653589793, \"sheet_name\":'V1_Inh_L4', \"stimulus_id\":None, \"value_name\":'LGNAfferentOrientation'}\n"
       ]
      },
      {
       "output_type": "stream",
       "stream": "stderr",
       "text": [
        "INFO:Mozaik:Warning: ADS with the same parametrization already added in the datastore.: {\"module_path\" :\"mozaik.analysis.data_structures\",\"analysis_algorithm\":'NeuronAnnotationsToPerNeuronValues', \"identifier\":'PerNeuronValue', \"name\":'PerNeuronValue', \"neuron\":None, \"period\":None, \"sheet_name\":'V1_Inh_L4', \"stimulus_id\":None, \"value_name\":'LGNAfferentSize'}\n"
       ]
      },
      {
       "output_type": "stream",
       "stream": "stderr",
       "text": [
        "  Warning: ADS with the same parametrization already added in the datastore.: {\"module_path\" :\"mozaik.analysis.data_structures\",\"analysis_algorithm\":'NeuronAnnotationsToPerNeuronValues', \"identifier\":'PerNeuronValue', \"name\":'PerNeuronValue', \"neuron\":None, \"period\":None, \"sheet_name\":'V1_Inh_L4', \"stimulus_id\":None, \"value_name\":'LGNAfferentSize'}\n"
       ]
      },
      {
       "output_type": "stream",
       "stream": "stderr",
       "text": [
        "INFO:Mozaik:Warning: ADS with the same parametrization already added in the datastore.: {\"module_path\" :\"mozaik.analysis.data_structures\",\"analysis_algorithm\":'NeuronAnnotationsToPerNeuronValues', \"identifier\":'PerNeuronValue', \"name\":'PerNeuronValue', \"neuron\":None, \"period\":None, \"sheet_name\":'V1_Inh_L4', \"stimulus_id\":None, \"value_name\":'LGNAfferentY'}\n"
       ]
      },
      {
       "output_type": "stream",
       "stream": "stderr",
       "text": [
        "  Warning: ADS with the same parametrization already added in the datastore.: {\"module_path\" :\"mozaik.analysis.data_structures\",\"analysis_algorithm\":'NeuronAnnotationsToPerNeuronValues', \"identifier\":'PerNeuronValue', \"name\":'PerNeuronValue', \"neuron\":None, \"period\":None, \"sheet_name\":'V1_Inh_L4', \"stimulus_id\":None, \"value_name\":'LGNAfferentY'}\n"
       ]
      },
      {
       "output_type": "stream",
       "stream": "stderr",
       "text": [
        "INFO:Mozaik:Warning: ADS with the same parametrization already added in the datastore.: {\"module_path\" :\"mozaik.analysis.data_structures\",\"analysis_algorithm\":'NeuronAnnotationsToPerNeuronValues', \"identifier\":'PerNeuronValue', \"name\":'PerNeuronValue', \"neuron\":None, \"period\":None, \"sheet_name\":'V1_Inh_L4', \"stimulus_id\":None, \"value_name\":'LGNAfferentX'}\n"
       ]
      },
      {
       "output_type": "stream",
       "stream": "stderr",
       "text": [
        "  Warning: ADS with the same parametrization already added in the datastore.: {\"module_path\" :\"mozaik.analysis.data_structures\",\"analysis_algorithm\":'NeuronAnnotationsToPerNeuronValues', \"identifier\":'PerNeuronValue', \"name\":'PerNeuronValue', \"neuron\":None, \"period\":None, \"sheet_name\":'V1_Inh_L4', \"stimulus_id\":None, \"value_name\":'LGNAfferentX'}\n"
       ]
      },
      {
       "output_type": "stream",
       "stream": "stderr",
       "text": [
        "INFO:Mozaik:Warning: ADS with the same parametrization already added in the datastore.: {\"module_path\" :\"mozaik.analysis.data_structures\",\"analysis_algorithm\":'NeuronAnnotationsToPerNeuronValues', \"identifier\":'PerNeuronValue', \"name\":'PerNeuronValue', \"neuron\":None, \"period\":None, \"sheet_name\":'V1_Inh_L4', \"stimulus_id\":None, \"value_name\":'LGNAfferentAspectRatio'}\n"
       ]
      },
      {
       "output_type": "stream",
       "stream": "stderr",
       "text": [
        "  Warning: ADS with the same parametrization already added in the datastore.: {\"module_path\" :\"mozaik.analysis.data_structures\",\"analysis_algorithm\":'NeuronAnnotationsToPerNeuronValues', \"identifier\":'PerNeuronValue', \"name\":'PerNeuronValue', \"neuron\":None, \"period\":None, \"sheet_name\":'V1_Inh_L4', \"stimulus_id\":None, \"value_name\":'LGNAfferentAspectRatio'}\n"
       ]
      },
      {
       "output_type": "stream",
       "stream": "stderr",
       "text": [
        "INFO:Mozaik:Warning: ADS with the same parametrization already added in the datastore.: {\"module_path\" :\"mozaik.analysis.data_structures\",\"analysis_algorithm\":'NeuronAnnotationsToPerNeuronValues', \"identifier\":'PerNeuronValue', \"name\":'PerNeuronValue', \"neuron\":None, \"period\":None, \"sheet_name\":'V1_Inh_L4', \"stimulus_id\":None, \"value_name\":'LGNAfferentFrequency'}\n"
       ]
      },
      {
       "output_type": "stream",
       "stream": "stderr",
       "text": [
        "  Warning: ADS with the same parametrization already added in the datastore.: {\"module_path\" :\"mozaik.analysis.data_structures\",\"analysis_algorithm\":'NeuronAnnotationsToPerNeuronValues', \"identifier\":'PerNeuronValue', \"name\":'PerNeuronValue', \"neuron\":None, \"period\":None, \"sheet_name\":'V1_Inh_L4', \"stimulus_id\":None, \"value_name\":'LGNAfferentFrequency'}\n"
       ]
      },
      {
       "output_type": "stream",
       "stream": "stderr",
       "text": [
        "INFO:Mozaik:Warning: ADS with the same parametrization already added in the datastore.: {\"module_path\" :\"mozaik.analysis.data_structures\",\"analysis_algorithm\":'NeuronAnnotationsToPerNeuronValues', \"identifier\":'PerNeuronValue', \"name\":'PerNeuronValue', \"neuron\":None, \"period\":3.141592653589793, \"sheet_name\":'V1_Inh_L2/3', \"stimulus_id\":None, \"value_name\":'LGNAfferentOrientation'}\n"
       ]
      },
      {
       "output_type": "stream",
       "stream": "stderr",
       "text": [
        "  Warning: ADS with the same parametrization already added in the datastore.: {\"module_path\" :\"mozaik.analysis.data_structures\",\"analysis_algorithm\":'NeuronAnnotationsToPerNeuronValues', \"identifier\":'PerNeuronValue', \"name\":'PerNeuronValue', \"neuron\":None, \"period\":3.141592653589793, \"sheet_name\":'V1_Inh_L2/3', \"stimulus_id\":None, \"value_name\":'LGNAfferentOrientation'}\n"
       ]
      },
      {
       "output_type": "stream",
       "stream": "stderr",
       "text": [
        "WARNING:Mozaik:NeuronAnnotationsToPerNeuronValues analysis took: 9.31462097168seconds\n"
       ]
      },
      {
       "output_type": "stream",
       "stream": "stderr",
       "text": [
        "NeuronAnnotationsToPerNeuronValues analysis took: 9.31462097168seconds\n"
       ]
      },
      {
       "output_type": "stream",
       "stream": "stdout",
       "text": [
        "[u'imagemagick_file', u'imagemagick', u'avconv', u'avconv_file']\n",
        "['', '/home/jan/.virtualenvs/mozaik/lib/python2.7/site-packages', '', '/home/jan/projects/notebooks', '/home/jan/.virtualenvs/ess-pynn0.7/installs/symap2ic/lib', '/usr/lib/python2.7', '/usr/lib/python2.7/plat-x86_64-linux-gnu', '/usr/lib/python2.7/lib-tk', '/usr/lib/python2.7/lib-old', '/usr/lib/python2.7/lib-dynload', '/home/jan/.local/lib/python2.7/site-packages', '/usr/local/lib/python2.7/dist-packages', '/usr/lib/python2.7/dist-packages', '/usr/lib/python2.7/dist-packages/PILcompat', '/usr/lib/python2.7/dist-packages/gtk-2.0', '/usr/lib/pymodules/python2.7', '/usr/lib/python2.7/dist-packages/ubuntu-sso-client', '/usr/lib/python2.7/dist-packages/IPython/extensions']\n"
       ]
      }
     ],
     "prompt_number": 1
    },
    {
     "cell_type": "code",
     "collapsed": false,
     "input": [
      "%matplotlib inline\n",
      "analog_ids = param_filter_query(data_store,sheet_name=\"V1_Exc_L4\").get_segments()[0].get_stored_esyn_ids()\n",
      "analog_ids_inh = param_filter_query(data_store,sheet_name=\"V1_Inh_L4\").get_segments()[0].get_stored_esyn_ids()\n",
      "spike_ids = param_filter_query(data_store,sheet_name=\"V1_Exc_L4\").get_segments()[0].get_stored_spike_train_ids()\n",
      "spike_ids_inh = param_filter_query(data_store,sheet_name=\"V1_Inh_L4\").get_segments()[0].get_stored_spike_train_ids()\n",
      "\n",
      "analog_ids23 = param_filter_query(data_store,sheet_name=\"V1_Exc_L2/3\").get_segments()[0].get_stored_esyn_ids()\n",
      "analog_ids_inh23 = param_filter_query(data_store,sheet_name=\"V1_Inh_L2/3\").get_segments()[0].get_stored_esyn_ids()\n",
      "spike_ids23 = param_filter_query(data_store,sheet_name=\"V1_Exc_L2/3\").get_segments()[0].get_stored_spike_train_ids()\n",
      "spike_ids_inh23 = param_filter_query(data_store,sheet_name=\"V1_Inh_L2/3\").get_segments()[0].get_stored_spike_train_ids()\n",
      "\n",
      "\n",
      "l4_exc_or = data_store.get_analysis_result(identifier='PerNeuronValue',value_name = 'LGNAfferentOrientation', sheet_name = 'V1_Exc_L4')[0]\n",
      "l23_exc_or = data_store.get_analysis_result(identifier='PerNeuronValue',value_name = 'LGNAfferentOrientation', sheet_name = 'V1_Exc_L2/3')[0]\n",
      "\n",
      "l4_exc_or_many = numpy.array(spike_ids)[numpy.nonzero(numpy.array([circular_dist(l4_exc_or.get_value_by_id(i),0,numpy.pi)  for i in spike_ids]) < 0.1)[0]]\n",
      "l23_exc_or_many = numpy.array(spike_ids23)[numpy.nonzero(numpy.array([circular_dist(l23_exc_or.get_value_by_id(i),0,numpy.pi)  for i in spike_ids23]) < 0.1)[0]]\n",
      "\n",
      "\n",
      "idx23 = data_store.get_sheet_indexes(sheet_name='V1_Exc_L2/3',neuron_ids=l23_exc_or_many)\n",
      "idx4 = data_store.get_sheet_indexes(sheet_name='V1_Exc_L4',neuron_ids=l4_exc_or_many)\n",
      "\n",
      "x = data_store.get_neuron_postions()['V1_Exc_L4'][0][idx4]\n",
      "y = data_store.get_neuron_postions()['V1_Exc_L4'][1][idx4]\n",
      "center4 = l4_exc_or_many[numpy.nonzero(numpy.sqrt(numpy.multiply(x,x)+numpy.multiply(y,y)) < 0.2)[0]]\n",
      "x = data_store.get_neuron_postions()['V1_Exc_L2/3'][0][idx23]\n",
      "y = data_store.get_neuron_postions()['V1_Exc_L2/3'][1][idx23]\n",
      "center23 = l23_exc_or_many[numpy.nonzero(numpy.sqrt(numpy.multiply(x,x)+numpy.multiply(y,y)) < 0.2)[0]]\n",
      "    \n",
      "analog_center4 = set(center4).intersection(analog_ids)\n",
      "analog_center23 = set(center23).intersection(analog_ids23)\n",
      "\n",
      "print len(analog_center4)\n",
      "print len(analog_center23)\n",
      "print len(center4)\n",
      "print len(center23)\n",
      "\n",
      "\n"
     ],
     "language": "python",
     "metadata": {},
     "outputs": [
      {
       "output_type": "stream",
       "stream": "stdout",
       "text": [
        "46\n",
        "35\n",
        "90\n",
        "41\n"
       ]
      }
     ],
     "prompt_number": 4
    },
    {
     "cell_type": "code",
     "collapsed": false,
     "input": [
      "dsv = param_filter_query(data_store,st_name='DriftingSinusoidalGratingDisk',analysis_algorithm='TrialAveragedFiringRate')    \n",
      "SizeTuningAnalysis(dsv,ParameterSet({'neurons' : center4.tolist(), 'sheet_name' : 'V1_Exc_L4'})).analyse()"
     ],
     "language": "python",
     "metadata": {},
     "outputs": [
      {
       "output_type": "stream",
       "stream": "stderr",
       "text": [
        "INFO:Mozaik:Starting SizeTuningAnalysis analysis\n"
       ]
      },
      {
       "output_type": "stream",
       "stream": "stderr",
       "text": [
        "  Starting SizeTuningAnalysis analysis\n"
       ]
      },
      {
       "output_type": "stream",
       "stream": "stderr",
       "text": [
        "INFO:Mozaik:17735\n"
       ]
      },
      {
       "output_type": "stream",
       "stream": "stderr",
       "text": [
        "  17735\n"
       ]
      },
      {
       "output_type": "stream",
       "stream": "stderr",
       "text": [
        "INFO:Mozaik:(0.0, 0.13333333333333333, 0.26666666666666666, 0.4, 0.5333333333333333, 0.6666666666666666, 0.8, 0.9333333333333333, 1.0666666666666667, 1.2, 1.3333333333333333, 1.4666666666666666, 1.6, 1.7333333333333334, 1.8666666666666667, 2.0)\n"
       ]
      },
      {
       "output_type": "stream",
       "stream": "stderr",
       "text": [
        "  (0.0, 0.13333333333333333, 0.26666666666666666, 0.4, 0.5333333333333333, 0.6666666666666666, 0.8, 0.9333333333333333, 1.0666666666666667, 1.2, 1.3333333333333333, 1.4666666666666666, 1.6, 1.7333333333333334, 1.8666666666666667, 2.0)\n"
       ]
      },
      {
       "output_type": "stream",
       "stream": "stderr",
       "text": [
        "INFO:Mozaik:(0.29154518950437319, 1.3605442176870741, 2.8182701652089412, 1.263362487852284, 1.9436345966958211, 4.0816326530612255, 3.7900874635568522, 5.053449951409136, 6.1224489795918373, 5.3449951409135092, 6.0252672497570456, 4.9562682215743452, 4.4703595724003895, 6.6083576287657921, 6.1224489795918373, 5.4421768707483)\n"
       ]
      },
      {
       "output_type": "stream",
       "stream": "stderr",
       "text": [
        "  (0.29154518950437319, 1.3605442176870741, 2.8182701652089412, 1.263362487852284, 1.9436345966958211, 4.0816326530612255, 3.7900874635568522, 5.053449951409136, 6.1224489795918373, 5.3449951409135092, 6.0252672497570456, 4.9562682215743452, 4.4703595724003895, 6.6083576287657921, 6.1224489795918373, 5.4421768707483)\n"
       ]
      },
      {
       "output_type": "stream",
       "stream": "stderr",
       "text": [
        "INFO:Mozaik:13\n"
       ]
      },
      {
       "output_type": "stream",
       "stream": "stderr",
       "text": [
        "  13\n"
       ]
      },
      {
       "output_type": "stream",
       "stream": "stderr",
       "text": [
        "INFO:Mozaik:14\n"
       ]
      },
      {
       "output_type": "stream",
       "stream": "stderr",
       "text": [
        "  14\n"
       ]
      },
      {
       "output_type": "stream",
       "stream": "stderr",
       "text": [
        "INFO:Mozaik:6.60835762877\n"
       ]
      },
      {
       "output_type": "stream",
       "stream": "stderr",
       "text": [
        "  6.60835762877\n"
       ]
      },
      {
       "output_type": "stream",
       "stream": "stderr",
       "text": [
        "INFO:Mozaik:6.12244897959\n"
       ]
      },
      {
       "output_type": "stream",
       "stream": "stderr",
       "text": [
        "  6.12244897959\n"
       ]
      },
      {
       "output_type": "stream",
       "stream": "stderr",
       "text": [
        "INFO:Mozaik:0.0735294117647\n"
       ]
      },
      {
       "output_type": "stream",
       "stream": "stderr",
       "text": [
        "  0.0735294117647\n"
       ]
      },
      {
       "output_type": "stream",
       "stream": "stderr",
       "text": [
        "INFO:Mozaik:19955\n"
       ]
      },
      {
       "output_type": "stream",
       "stream": "stderr",
       "text": [
        "  19955\n"
       ]
      },
      {
       "output_type": "stream",
       "stream": "stderr",
       "text": [
        "INFO:Mozaik:(0.0, 0.13333333333333333, 0.26666666666666666, 0.4, 0.5333333333333333, 0.6666666666666666, 0.8, 0.9333333333333333, 1.0666666666666667, 1.2, 1.3333333333333333, 1.4666666666666666, 1.6, 1.7333333333333334, 1.8666666666666667, 2.0)\n"
       ]
      },
      {
       "output_type": "stream",
       "stream": "stderr",
       "text": [
        "  (0.0, 0.13333333333333333, 0.26666666666666666, 0.4, 0.5333333333333333, 0.6666666666666666, 0.8, 0.9333333333333333, 1.0666666666666667, 1.2, 1.3333333333333333, 1.4666666666666666, 1.6, 1.7333333333333334, 1.8666666666666667, 2.0)\n"
       ]
      },
      {
       "output_type": "stream",
       "stream": "stderr",
       "text": [
        "INFO:Mozaik:(0.58309037900874638, 1.068999028182702, 3.7900874635568536, 1.652089407191448, 2.1379980563654035, 3.3041788143828961, 3.8872691933916421, 4.6647230320699702, 4.4703595724003886, 4.9562682215743452, 4.8590864917395535, 5.053449951409136, 4.4703595724003886, 5.5393586005830908, 6.1224489795918355, 3.8872691933916421)\n"
       ]
      },
      {
       "output_type": "stream",
       "stream": "stderr",
       "text": [
        "  (0.58309037900874638, 1.068999028182702, 3.7900874635568536, 1.652089407191448, 2.1379980563654035, 3.3041788143828961, 3.8872691933916421, 4.6647230320699702, 4.4703595724003886, 4.9562682215743452, 4.8590864917395535, 5.053449951409136, 4.4703595724003886, 5.5393586005830908, 6.1224489795918355, 3.8872691933916421)\n"
       ]
      },
      {
       "output_type": "stream",
       "stream": "stderr",
       "text": [
        "INFO:Mozaik:14\n"
       ]
      },
      {
       "output_type": "stream",
       "stream": "stderr",
       "text": [
        "  14\n"
       ]
      },
      {
       "output_type": "stream",
       "stream": "stderr",
       "text": [
        "INFO:Mozaik:15\n"
       ]
      },
      {
       "output_type": "stream",
       "stream": "stderr",
       "text": [
        "  15\n"
       ]
      },
      {
       "output_type": "stream",
       "stream": "stderr",
       "text": [
        "INFO:Mozaik:6.12244897959\n"
       ]
      },
      {
       "output_type": "stream",
       "stream": "stderr",
       "text": [
        "  6.12244897959\n"
       ]
      },
      {
       "output_type": "stream",
       "stream": "stderr",
       "text": [
        "INFO:Mozaik:3.88726919339\n"
       ]
      },
      {
       "output_type": "stream",
       "stream": "stderr",
       "text": [
        "  3.88726919339\n"
       ]
      },
      {
       "output_type": "stream",
       "stream": "stderr",
       "text": [
        "INFO:Mozaik:0.365079365079\n"
       ]
      },
      {
       "output_type": "stream",
       "stream": "stderr",
       "text": [
        "  0.365079365079\n"
       ]
      },
      {
       "output_type": "stream",
       "stream": "stderr",
       "text": [
        "INFO:Mozaik:21638\n"
       ]
      },
      {
       "output_type": "stream",
       "stream": "stderr",
       "text": [
        "  21638\n"
       ]
      },
      {
       "output_type": "stream",
       "stream": "stderr",
       "text": [
        "INFO:Mozaik:(0.0, 0.13333333333333333, 0.26666666666666666, 0.4, 0.5333333333333333, 0.6666666666666666, 0.8, 0.9333333333333333, 1.0666666666666667, 1.2, 1.3333333333333333, 1.4666666666666666, 1.6, 1.7333333333333334, 1.8666666666666667, 2.0)\n"
       ]
      },
      {
       "output_type": "stream",
       "stream": "stderr",
       "text": [
        "  (0.0, 0.13333333333333333, 0.26666666666666666, 0.4, 0.5333333333333333, 0.6666666666666666, 0.8, 0.9333333333333333, 1.0666666666666667, 1.2, 1.3333333333333333, 1.4666666666666666, 1.6, 1.7333333333333334, 1.8666666666666667, 2.0)\n"
       ]
      },
      {
       "output_type": "stream",
       "stream": "stderr",
       "text": [
        "INFO:Mozaik:(0.0, 0.29154518950437319, 0.38872691933916426, 0.87463556851311952, 1.166180758017493, 2.2351797862001943, 1.8464528668610303, 1.263362487852284, 1.554907677356657, 0.97181729834791075, 1.8464528668610307, 0.87463556851311952, 1.5549076773566575, 0.87463556851311952, 1.166180758017493, 1.457725947521866)\n"
       ]
      },
      {
       "output_type": "stream",
       "stream": "stderr",
       "text": [
        "  (0.0, 0.29154518950437319, 0.38872691933916426, 0.87463556851311952, 1.166180758017493, 2.2351797862001943, 1.8464528668610303, 1.263362487852284, 1.554907677356657, 0.97181729834791075, 1.8464528668610307, 0.87463556851311952, 1.5549076773566575, 0.87463556851311952, 1.166180758017493, 1.457725947521866)\n"
       ]
      },
      {
       "output_type": "stream",
       "stream": "stderr",
       "text": [
        "INFO:Mozaik:5\n"
       ]
      },
      {
       "output_type": "stream",
       "stream": "stderr",
       "text": [
        "  5\n"
       ]
      },
      {
       "output_type": "stream",
       "stream": "stderr",
       "text": [
        "INFO:Mozaik:10\n"
       ]
      },
      {
       "output_type": "stream",
       "stream": "stderr",
       "text": [
        "  10\n"
       ]
      },
      {
       "output_type": "stream",
       "stream": "stderr",
       "text": [
        "INFO:Mozaik:2.2351797862\n"
       ]
      },
      {
       "output_type": "stream",
       "stream": "stderr",
       "text": [
        "  2.2351797862\n"
       ]
      },
      {
       "output_type": "stream",
       "stream": "stderr",
       "text": [
        "INFO:Mozaik:1.84645286686\n"
       ]
      },
      {
       "output_type": "stream",
       "stream": "stderr",
       "text": [
        "  1.84645286686\n"
       ]
      },
      {
       "output_type": "stream",
       "stream": "stderr",
       "text": [
        "INFO:Mozaik:0.173913043478\n"
       ]
      },
      {
       "output_type": "stream",
       "stream": "stderr",
       "text": [
        "  0.173913043478\n"
       ]
      },
      {
       "output_type": "stream",
       "stream": "stderr",
       "text": [
        "INFO:Mozaik:21748\n"
       ]
      },
      {
       "output_type": "stream",
       "stream": "stderr",
       "text": [
        "  21748\n"
       ]
      },
      {
       "output_type": "stream",
       "stream": "stderr",
       "text": [
        "INFO:Mozaik:(0.0, 0.13333333333333333, 0.26666666666666666, 0.4, 0.5333333333333333, 0.6666666666666666, 0.8, 0.9333333333333333, 1.0666666666666667, 1.2, 1.3333333333333333, 1.4666666666666666, 1.6, 1.7333333333333334, 1.8666666666666667, 2.0)\n"
       ]
      },
      {
       "output_type": "stream",
       "stream": "stderr",
       "text": [
        "  (0.0, 0.13333333333333333, 0.26666666666666666, 0.4, 0.5333333333333333, 0.6666666666666666, 0.8, 0.9333333333333333, 1.0666666666666667, 1.2, 1.3333333333333333, 1.4666666666666666, 1.6, 1.7333333333333334, 1.8666666666666667, 2.0)\n"
       ]
      },
      {
       "output_type": "stream",
       "stream": "stderr",
       "text": [
        "INFO:Mozaik:(0.19436345966958213, 0.6802721088435375, 0.19436345966958213, 0.38872691933916426, 1.263362487852284, 1.263362487852284, 2.2351797862001948, 1.360544217687075, 2.6239067055393592, 1.652089407191448, 2.4295432458697768, 2.526724975704568, 3.0126336248785233, 2.6239067055393588, 2.6239067055393592, 2.332361516034986)\n"
       ]
      },
      {
       "output_type": "stream",
       "stream": "stderr",
       "text": [
        "  (0.19436345966958213, 0.6802721088435375, 0.19436345966958213, 0.38872691933916426, 1.263362487852284, 1.263362487852284, 2.2351797862001948, 1.360544217687075, 2.6239067055393592, 1.652089407191448, 2.4295432458697768, 2.526724975704568, 3.0126336248785233, 2.6239067055393588, 2.6239067055393592, 2.332361516034986)\n"
       ]
      },
      {
       "output_type": "stream",
       "stream": "stderr",
       "text": [
        "INFO:Mozaik:12\n"
       ]
      },
      {
       "output_type": "stream",
       "stream": "stderr",
       "text": [
        "  12\n"
       ]
      },
      {
       "output_type": "stream",
       "stream": "stderr",
       "text": [
        "INFO:Mozaik:14\n"
       ]
      },
      {
       "output_type": "stream",
       "stream": "stderr",
       "text": [
        "  14\n"
       ]
      },
      {
       "output_type": "stream",
       "stream": "stderr",
       "text": [
        "INFO:Mozaik:3.01263362488\n"
       ]
      },
      {
       "output_type": "stream",
       "stream": "stderr",
       "text": [
        "  3.01263362488\n"
       ]
      },
      {
       "output_type": "stream",
       "stream": "stderr",
       "text": [
        "INFO:Mozaik:2.62390670554\n"
       ]
      },
      {
       "output_type": "stream",
       "stream": "stderr",
       "text": [
        "  2.62390670554\n"
       ]
      },
      {
       "output_type": "stream",
       "stream": "stderr",
       "text": [
        "INFO:Mozaik:0.129032258065\n"
       ]
      },
      {
       "output_type": "stream",
       "stream": "stderr",
       "text": [
        "  0.129032258065\n"
       ]
      },
      {
       "output_type": "stream",
       "stream": "stderr",
       "text": [
        "INFO:Mozaik:25955\n"
       ]
      },
      {
       "output_type": "stream",
       "stream": "stderr",
       "text": [
        "  25955\n"
       ]
      },
      {
       "output_type": "stream",
       "stream": "stderr",
       "text": [
        "INFO:Mozaik:(0.0, 0.13333333333333333, 0.26666666666666666, 0.4, 0.5333333333333333, 0.6666666666666666, 0.8, 0.9333333333333333, 1.0666666666666667, 1.2, 1.3333333333333333, 1.4666666666666666, 1.6, 1.7333333333333334, 1.8666666666666667, 2.0)\n"
       ]
      },
      {
       "output_type": "stream",
       "stream": "stderr",
       "text": [
        "  (0.0, 0.13333333333333333, 0.26666666666666666, 0.4, 0.5333333333333333, 0.6666666666666666, 0.8, 0.9333333333333333, 1.0666666666666667, 1.2, 1.3333333333333333, 1.4666666666666666, 1.6, 1.7333333333333334, 1.8666666666666667, 2.0)\n"
       ]
      },
      {
       "output_type": "stream",
       "stream": "stderr",
       "text": [
        "INFO:Mozaik:(0.0, 0.29154518950437319, 0.29154518950437319, 0.19436345966958213, 0.29154518950437319, 0.58309037900874638, 0.38872691933916426, 0.48590864917395538, 0.58309037900874638, 0.48590864917395538, 0.6802721088435375, 0.0, 0.58309037900874638, 0.48590864917395538, 0.58309037900874638, 1.263362487852284)\n"
       ]
      },
      {
       "output_type": "stream",
       "stream": "stderr",
       "text": [
        "  (0.0, 0.29154518950437319, 0.29154518950437319, 0.19436345966958213, 0.29154518950437319, 0.58309037900874638, 0.38872691933916426, 0.48590864917395538, 0.58309037900874638, 0.48590864917395538, 0.6802721088435375, 0.0, 0.58309037900874638, 0.48590864917395538, 0.58309037900874638, 1.263362487852284)\n"
       ]
      },
      {
       "output_type": "stream",
       "stream": "stderr",
       "text": [
        "INFO:Mozaik:15\n"
       ]
      },
      {
       "output_type": "stream",
       "stream": "stderr",
       "text": [
        "  15\n"
       ]
      },
      {
       "output_type": "stream",
       "stream": "stderr",
       "text": [
        "INFO:Mozaik:15\n"
       ]
      },
      {
       "output_type": "stream",
       "stream": "stderr",
       "text": [
        "  15\n"
       ]
      },
      {
       "output_type": "stream",
       "stream": "stderr",
       "text": [
        "INFO:Mozaik:1.26336248785\n"
       ]
      },
      {
       "output_type": "stream",
       "stream": "stderr",
       "text": [
        "  1.26336248785\n"
       ]
      },
      {
       "output_type": "stream",
       "stream": "stderr",
       "text": [
        "INFO:Mozaik:1.26336248785\n"
       ]
      },
      {
       "output_type": "stream",
       "stream": "stderr",
       "text": [
        "  1.26336248785\n"
       ]
      },
      {
       "output_type": "stream",
       "stream": "stderr",
       "text": [
        "INFO:Mozaik:0.0\n"
       ]
      },
      {
       "output_type": "stream",
       "stream": "stderr",
       "text": [
        "  0.0\n"
       ]
      },
      {
       "output_type": "stream",
       "stream": "stderr",
       "text": [
        "INFO:Mozaik:Warning: ADS with the same parametrization already added in the datastore.: {\"module_path\" :\"mozaik.analysis.data_structures\",\"analysis_algorithm\":'SizeTuningAnalysis', \"identifier\":'PerNeuronValue', \"name\":'PerNeuronValue', \"neuron\":None, \"period\":None, \"sheet_name\":'V1_Exc_L4', \"stimulus_id\":'{\"module_path\" :\"mozaik.stimuli.vision.topographica_based\",\"background_luminance\":50.0, \"contrast\":5, \"density\":6.000000000002401, \"direct_stimulation_name\":\\'None\\', \"duration\":1029, \"frame_duration\":7, \"location_x\":0.0, \"location_y\":0.0, \"name\":\\'DriftingSinusoidalGratingDisk\\', \"orientation\":0, \"radius\":None, \"size_x\":10.0, \"size_y\":10.0, \"spatial_frequency\":0.8, \"temporal_frequency\":2, \"trial\":None}', \"value_name\":'Max. facilitation radius of Firing rate'}\n"
       ]
      },
      {
       "output_type": "stream",
       "stream": "stderr",
       "text": [
        "  Warning: ADS with the same parametrization already added in the datastore.: {\"module_path\" :\"mozaik.analysis.data_structures\",\"analysis_algorithm\":'SizeTuningAnalysis', \"identifier\":'PerNeuronValue', \"name\":'PerNeuronValue', \"neuron\":None, \"period\":None, \"sheet_name\":'V1_Exc_L4', \"stimulus_id\":'{\"module_path\" :\"mozaik.stimuli.vision.topographica_based\",\"background_luminance\":50.0, \"contrast\":5, \"density\":6.000000000002401, \"direct_stimulation_name\":\\'None\\', \"duration\":1029, \"frame_duration\":7, \"location_x\":0.0, \"location_y\":0.0, \"name\":\\'DriftingSinusoidalGratingDisk\\', \"orientation\":0, \"radius\":None, \"size_x\":10.0, \"size_y\":10.0, \"spatial_frequency\":0.8, \"temporal_frequency\":2, \"trial\":None}', \"value_name\":'Max. facilitation radius of Firing rate'}\n"
       ]
      },
      {
       "output_type": "stream",
       "stream": "stderr",
       "text": [
        "INFO:Mozaik:Warning: ADS with the same parametrization already added in the datastore.: {\"module_path\" :\"mozaik.analysis.data_structures\",\"analysis_algorithm\":'SizeTuningAnalysis', \"identifier\":'PerNeuronValue', \"name\":'PerNeuronValue', \"neuron\":None, \"period\":None, \"sheet_name\":'V1_Exc_L4', \"stimulus_id\":'{\"module_path\" :\"mozaik.stimuli.vision.topographica_based\",\"background_luminance\":50.0, \"contrast\":5, \"density\":6.000000000002401, \"direct_stimulation_name\":\\'None\\', \"duration\":1029, \"frame_duration\":7, \"location_x\":0.0, \"location_y\":0.0, \"name\":\\'DriftingSinusoidalGratingDisk\\', \"orientation\":0, \"radius\":None, \"size_x\":10.0, \"size_y\":10.0, \"spatial_frequency\":0.8, \"temporal_frequency\":2, \"trial\":None}', \"value_name\":'Max. suppressive radius of Firing rate'}\n"
       ]
      },
      {
       "output_type": "stream",
       "stream": "stderr",
       "text": [
        "  Warning: ADS with the same parametrization already added in the datastore.: {\"module_path\" :\"mozaik.analysis.data_structures\",\"analysis_algorithm\":'SizeTuningAnalysis', \"identifier\":'PerNeuronValue', \"name\":'PerNeuronValue', \"neuron\":None, \"period\":None, \"sheet_name\":'V1_Exc_L4', \"stimulus_id\":'{\"module_path\" :\"mozaik.stimuli.vision.topographica_based\",\"background_luminance\":50.0, \"contrast\":5, \"density\":6.000000000002401, \"direct_stimulation_name\":\\'None\\', \"duration\":1029, \"frame_duration\":7, \"location_x\":0.0, \"location_y\":0.0, \"name\":\\'DriftingSinusoidalGratingDisk\\', \"orientation\":0, \"radius\":None, \"size_x\":10.0, \"size_y\":10.0, \"spatial_frequency\":0.8, \"temporal_frequency\":2, \"trial\":None}', \"value_name\":'Max. suppressive radius of Firing rate'}\n"
       ]
      },
      {
       "output_type": "stream",
       "stream": "stderr",
       "text": [
        "INFO:Mozaik:Warning: ADS with the same parametrization already added in the datastore.: {\"module_path\" :\"mozaik.analysis.data_structures\",\"analysis_algorithm\":'SizeTuningAnalysis', \"identifier\":'PerNeuronValue', \"name\":'PerNeuronValue', \"neuron\":None, \"period\":None, \"sheet_name\":'V1_Exc_L4', \"stimulus_id\":'{\"module_path\" :\"mozaik.stimuli.vision.topographica_based\",\"background_luminance\":50.0, \"contrast\":5, \"density\":6.000000000002401, \"direct_stimulation_name\":\\'None\\', \"duration\":1029, \"frame_duration\":7, \"location_x\":0.0, \"location_y\":0.0, \"name\":\\'DriftingSinusoidalGratingDisk\\', \"orientation\":0, \"radius\":None, \"size_x\":10.0, \"size_y\":10.0, \"spatial_frequency\":0.8, \"temporal_frequency\":2, \"trial\":None}', \"value_name\":'Suppression index of Firing rate'}\n"
       ]
      },
      {
       "output_type": "stream",
       "stream": "stderr",
       "text": [
        "  Warning: ADS with the same parametrization already added in the datastore.: {\"module_path\" :\"mozaik.analysis.data_structures\",\"analysis_algorithm\":'SizeTuningAnalysis', \"identifier\":'PerNeuronValue', \"name\":'PerNeuronValue', \"neuron\":None, \"period\":None, \"sheet_name\":'V1_Exc_L4', \"stimulus_id\":'{\"module_path\" :\"mozaik.stimuli.vision.topographica_based\",\"background_luminance\":50.0, \"contrast\":5, \"density\":6.000000000002401, \"direct_stimulation_name\":\\'None\\', \"duration\":1029, \"frame_duration\":7, \"location_x\":0.0, \"location_y\":0.0, \"name\":\\'DriftingSinusoidalGratingDisk\\', \"orientation\":0, \"radius\":None, \"size_x\":10.0, \"size_y\":10.0, \"spatial_frequency\":0.8, \"temporal_frequency\":2, \"trial\":None}', \"value_name\":'Suppression index of Firing rate'}\n"
       ]
      },
      {
       "output_type": "stream",
       "stream": "stderr",
       "text": [
        "INFO:Mozaik:17735\n"
       ]
      },
      {
       "output_type": "stream",
       "stream": "stderr",
       "text": [
        "  17735\n"
       ]
      },
      {
       "output_type": "stream",
       "stream": "stderr",
       "text": [
        "INFO:Mozaik:(0.0, 0.13333333333333333, 0.26666666666666666, 0.4, 0.5333333333333333, 0.6666666666666666, 0.8, 0.9333333333333333, 1.0666666666666667, 1.2, 1.3333333333333333, 1.4666666666666666, 1.6, 1.7333333333333334, 1.8666666666666667, 2.0)\n"
       ]
      },
      {
       "output_type": "stream",
       "stream": "stderr",
       "text": [
        "  (0.0, 0.13333333333333333, 0.26666666666666666, 0.4, 0.5333333333333333, 0.6666666666666666, 0.8, 0.9333333333333333, 1.0666666666666667, 1.2, 1.3333333333333333, 1.4666666666666666, 1.6, 1.7333333333333334, 1.8666666666666667, 2.0)\n"
       ]
      },
      {
       "output_type": "stream",
       "stream": "stderr",
       "text": [
        "INFO:Mozaik:(0.19436345966958213, 2.4295432458697763, 2.4295432458697768, 3.5957240038872698, 6.0252672497570448, 6.219630709426629, 7.1914480077745377, 6.9970845481049562, 6.9970845481049562, 6.7055393586005838, 8.1632653061224492, 8.6491739552964049, 7.8717201166180759, 9.4266277939747329, 9.5238095238095255, 6.8999028182701663)\n"
       ]
      },
      {
       "output_type": "stream",
       "stream": "stderr",
       "text": [
        "  (0.19436345966958213, 2.4295432458697763, 2.4295432458697768, 3.5957240038872698, 6.0252672497570448, 6.219630709426629, 7.1914480077745377, 6.9970845481049562, 6.9970845481049562, 6.7055393586005838, 8.1632653061224492, 8.6491739552964049, 7.8717201166180759, 9.4266277939747329, 9.5238095238095255, 6.8999028182701663)\n"
       ]
      },
      {
       "output_type": "stream",
       "stream": "stderr",
       "text": [
        "INFO:Mozaik:14\n"
       ]
      },
      {
       "output_type": "stream",
       "stream": "stderr",
       "text": [
        "  14\n"
       ]
      },
      {
       "output_type": "stream",
       "stream": "stderr",
       "text": [
        "INFO:Mozaik:15\n"
       ]
      },
      {
       "output_type": "stream",
       "stream": "stderr",
       "text": [
        "  15\n"
       ]
      },
      {
       "output_type": "stream",
       "stream": "stderr",
       "text": [
        "INFO:Mozaik:9.52380952381\n"
       ]
      },
      {
       "output_type": "stream",
       "stream": "stderr",
       "text": [
        "  9.52380952381\n"
       ]
      },
      {
       "output_type": "stream",
       "stream": "stderr",
       "text": [
        "INFO:Mozaik:6.89990281827\n"
       ]
      },
      {
       "output_type": "stream",
       "stream": "stderr",
       "text": [
        "  6.89990281827\n"
       ]
      },
      {
       "output_type": "stream",
       "stream": "stderr",
       "text": [
        "INFO:Mozaik:0.275510204082\n"
       ]
      },
      {
       "output_type": "stream",
       "stream": "stderr",
       "text": [
        "  0.275510204082\n"
       ]
      },
      {
       "output_type": "stream",
       "stream": "stderr",
       "text": [
        "INFO:Mozaik:19955\n"
       ]
      },
      {
       "output_type": "stream",
       "stream": "stderr",
       "text": [
        "  19955\n"
       ]
      },
      {
       "output_type": "stream",
       "stream": "stderr",
       "text": [
        "INFO:Mozaik:(0.0, 0.13333333333333333, 0.26666666666666666, 0.4, 0.5333333333333333, 0.6666666666666666, 0.8, 0.9333333333333333, 1.0666666666666667, 1.2, 1.3333333333333333, 1.4666666666666666, 1.6, 1.7333333333333334, 1.8666666666666667, 2.0)\n"
       ]
      },
      {
       "output_type": "stream",
       "stream": "stderr",
       "text": [
        "  (0.0, 0.13333333333333333, 0.26666666666666666, 0.4, 0.5333333333333333, 0.6666666666666666, 0.8, 0.9333333333333333, 1.0666666666666667, 1.2, 1.3333333333333333, 1.4666666666666666, 1.6, 1.7333333333333334, 1.8666666666666667, 2.0)\n"
       ]
      },
      {
       "output_type": "stream",
       "stream": "stderr",
       "text": [
        "INFO:Mozaik:(0.48590864917395538, 1.554907677356657, 3.0126336248785233, 4.7619047619047628, 5.2478134110787176, 4.8590864917395526, 6.0252672497570448, 5.7337220602526724, 5.9280855199222549, 4.1788143828960163, 6.4139941690962106, 5.1506316812439268, 5.053449951409136, 6.1224489795918373, 5.8309037900874641, 4.5675413022351803)\n"
       ]
      },
      {
       "output_type": "stream",
       "stream": "stderr",
       "text": [
        "  (0.48590864917395538, 1.554907677356657, 3.0126336248785233, 4.7619047619047628, 5.2478134110787176, 4.8590864917395526, 6.0252672497570448, 5.7337220602526724, 5.9280855199222549, 4.1788143828960163, 6.4139941690962106, 5.1506316812439268, 5.053449951409136, 6.1224489795918373, 5.8309037900874641, 4.5675413022351803)\n"
       ]
      },
      {
       "output_type": "stream",
       "stream": "stderr",
       "text": [
        "INFO:Mozaik:10\n"
       ]
      },
      {
       "output_type": "stream",
       "stream": "stderr",
       "text": [
        "  10\n"
       ]
      },
      {
       "output_type": "stream",
       "stream": "stderr",
       "text": [
        "INFO:Mozaik:13\n"
       ]
      },
      {
       "output_type": "stream",
       "stream": "stderr",
       "text": [
        "  13\n"
       ]
      },
      {
       "output_type": "stream",
       "stream": "stderr",
       "text": [
        "INFO:Mozaik:6.4139941691\n"
       ]
      },
      {
       "output_type": "stream",
       "stream": "stderr",
       "text": [
        "  6.4139941691\n"
       ]
      },
      {
       "output_type": "stream",
       "stream": "stderr",
       "text": [
        "INFO:Mozaik:6.12244897959\n"
       ]
      },
      {
       "output_type": "stream",
       "stream": "stderr",
       "text": [
        "  6.12244897959\n"
       ]
      },
      {
       "output_type": "stream",
       "stream": "stderr",
       "text": [
        "INFO:Mozaik:0.0454545454545\n"
       ]
      },
      {
       "output_type": "stream",
       "stream": "stderr",
       "text": [
        "  0.0454545454545\n"
       ]
      },
      {
       "output_type": "stream",
       "stream": "stderr",
       "text": [
        "INFO:Mozaik:21638\n"
       ]
      },
      {
       "output_type": "stream",
       "stream": "stderr",
       "text": [
        "  21638\n"
       ]
      },
      {
       "output_type": "stream",
       "stream": "stderr",
       "text": [
        "INFO:Mozaik:(0.0, 0.13333333333333333, 0.26666666666666666, 0.4, 0.5333333333333333, 0.6666666666666666, 0.8, 0.9333333333333333, 1.0666666666666667, 1.2, 1.3333333333333333, 1.4666666666666666, 1.6, 1.7333333333333334, 1.8666666666666667, 2.0)\n"
       ]
      },
      {
       "output_type": "stream",
       "stream": "stderr",
       "text": [
        "  (0.0, 0.13333333333333333, 0.26666666666666666, 0.4, 0.5333333333333333, 0.6666666666666666, 0.8, 0.9333333333333333, 1.0666666666666667, 1.2, 1.3333333333333333, 1.4666666666666666, 1.6, 1.7333333333333334, 1.8666666666666667, 2.0)\n"
       ]
      },
      {
       "output_type": "stream",
       "stream": "stderr",
       "text": [
        "INFO:Mozaik:(0.29154518950437319, 1.0689990281827018, 1.652089407191448, 2.5267249757045676, 4.0816326530612255, 1.457725947521866, 1.9436345966958217, 1.2633624878522838, 1.0689990281827018, 0.87463556851311952, 1.263362487852284, 0.97181729834791075, 1.6520894071914483, 1.360544217687075, 1.4577259475218662, 1.263362487852284)\n"
       ]
      },
      {
       "output_type": "stream",
       "stream": "stderr",
       "text": [
        "  (0.29154518950437319, 1.0689990281827018, 1.652089407191448, 2.5267249757045676, 4.0816326530612255, 1.457725947521866, 1.9436345966958217, 1.2633624878522838, 1.0689990281827018, 0.87463556851311952, 1.263362487852284, 0.97181729834791075, 1.6520894071914483, 1.360544217687075, 1.4577259475218662, 1.263362487852284)\n"
       ]
      },
      {
       "output_type": "stream",
       "stream": "stderr",
       "text": [
        "INFO:Mozaik:4\n"
       ]
      },
      {
       "output_type": "stream",
       "stream": "stderr",
       "text": [
        "  4\n"
       ]
      },
      {
       "output_type": "stream",
       "stream": "stderr",
       "text": [
        "INFO:Mozaik:6\n"
       ]
      },
      {
       "output_type": "stream",
       "stream": "stderr",
       "text": [
        "  6\n"
       ]
      },
      {
       "output_type": "stream",
       "stream": "stderr",
       "text": [
        "INFO:Mozaik:4.08163265306\n"
       ]
      },
      {
       "output_type": "stream",
       "stream": "stderr",
       "text": [
        "  4.08163265306\n"
       ]
      },
      {
       "output_type": "stream",
       "stream": "stderr",
       "text": [
        "INFO:Mozaik:1.9436345967\n"
       ]
      },
      {
       "output_type": "stream",
       "stream": "stderr",
       "text": [
        "  1.9436345967\n"
       ]
      },
      {
       "output_type": "stream",
       "stream": "stderr",
       "text": [
        "INFO:Mozaik:0.52380952381\n"
       ]
      },
      {
       "output_type": "stream",
       "stream": "stderr",
       "text": [
        "  0.52380952381\n"
       ]
      },
      {
       "output_type": "stream",
       "stream": "stderr",
       "text": [
        "INFO:Mozaik:21748\n"
       ]
      },
      {
       "output_type": "stream",
       "stream": "stderr",
       "text": [
        "  21748\n"
       ]
      },
      {
       "output_type": "stream",
       "stream": "stderr",
       "text": [
        "INFO:Mozaik:(0.0, 0.13333333333333333, 0.26666666666666666, 0.4, 0.5333333333333333, 0.6666666666666666, 0.8, 0.9333333333333333, 1.0666666666666667, 1.2, 1.3333333333333333, 1.4666666666666666, 1.6, 1.7333333333333334, 1.8666666666666667, 2.0)\n"
       ]
      },
      {
       "output_type": "stream",
       "stream": "stderr",
       "text": [
        "  (0.0, 0.13333333333333333, 0.26666666666666666, 0.4, 0.5333333333333333, 0.6666666666666666, 0.8, 0.9333333333333333, 1.0666666666666667, 1.2, 1.3333333333333333, 1.4666666666666666, 1.6, 1.7333333333333334, 1.8666666666666667, 2.0)\n"
       ]
      },
      {
       "output_type": "stream",
       "stream": "stderr",
       "text": [
        "INFO:Mozaik:(0.29154518950437319, 1.457725947521866, 1.2633624878522838, 3.0126336248785228, 3.1098153547133136, 1.9436345966958215, 1.0689990281827018, 1.360544217687075, 1.360544217687075, 1.6520894071914483, 2.8182701652089412, 3.2069970845481053, 4.3731778425655978, 3.4985422740524781, 4.1788143828960163, 4.275996112730807)\n"
       ]
      },
      {
       "output_type": "stream",
       "stream": "stderr",
       "text": [
        "  (0.29154518950437319, 1.457725947521866, 1.2633624878522838, 3.0126336248785228, 3.1098153547133136, 1.9436345966958215, 1.0689990281827018, 1.360544217687075, 1.360544217687075, 1.6520894071914483, 2.8182701652089412, 3.2069970845481053, 4.3731778425655978, 3.4985422740524781, 4.1788143828960163, 4.275996112730807)\n"
       ]
      },
      {
       "output_type": "stream",
       "stream": "stderr",
       "text": [
        "INFO:Mozaik:12\n"
       ]
      },
      {
       "output_type": "stream",
       "stream": "stderr",
       "text": [
        "  12\n"
       ]
      },
      {
       "output_type": "stream",
       "stream": "stderr",
       "text": [
        "INFO:Mozaik:15\n"
       ]
      },
      {
       "output_type": "stream",
       "stream": "stderr",
       "text": [
        "  15\n"
       ]
      },
      {
       "output_type": "stream",
       "stream": "stderr",
       "text": [
        "INFO:Mozaik:4.37317784257\n"
       ]
      },
      {
       "output_type": "stream",
       "stream": "stderr",
       "text": [
        "  4.37317784257\n"
       ]
      },
      {
       "output_type": "stream",
       "stream": "stderr",
       "text": [
        "INFO:Mozaik:4.27599611273\n"
       ]
      },
      {
       "output_type": "stream",
       "stream": "stderr",
       "text": [
        "  4.27599611273\n"
       ]
      },
      {
       "output_type": "stream",
       "stream": "stderr",
       "text": [
        "INFO:Mozaik:0.0222222222222\n"
       ]
      },
      {
       "output_type": "stream",
       "stream": "stderr",
       "text": [
        "  0.0222222222222\n"
       ]
      },
      {
       "output_type": "stream",
       "stream": "stderr",
       "text": [
        "INFO:Mozaik:25955\n"
       ]
      },
      {
       "output_type": "stream",
       "stream": "stderr",
       "text": [
        "  25955\n"
       ]
      },
      {
       "output_type": "stream",
       "stream": "stderr",
       "text": [
        "INFO:Mozaik:(0.0, 0.13333333333333333, 0.26666666666666666, 0.4, 0.5333333333333333, 0.6666666666666666, 0.8, 0.9333333333333333, 1.0666666666666667, 1.2, 1.3333333333333333, 1.4666666666666666, 1.6, 1.7333333333333334, 1.8666666666666667, 2.0)\n"
       ]
      },
      {
       "output_type": "stream",
       "stream": "stderr",
       "text": [
        "  (0.0, 0.13333333333333333, 0.26666666666666666, 0.4, 0.5333333333333333, 0.6666666666666666, 0.8, 0.9333333333333333, 1.0666666666666667, 1.2, 1.3333333333333333, 1.4666666666666666, 1.6, 1.7333333333333334, 1.8666666666666667, 2.0)\n"
       ]
      },
      {
       "output_type": "stream",
       "stream": "stderr",
       "text": [
        "INFO:Mozaik:(0.097181729834791064, 0.58309037900874638, 0.38872691933916426, 0.29154518950437319, 0.97181729834791075, 0.29154518950437319, 0.29154518950437319, 0.29154518950437319, 0.097181729834791064, 0.29154518950437319, 0.19436345966958213, 0.19436345966958213, 0.48590864917395538, 0.19436345966958213, 0.097181729834791064, 0.58309037900874638)\n"
       ]
      },
      {
       "output_type": "stream",
       "stream": "stderr",
       "text": [
        "  (0.097181729834791064, 0.58309037900874638, 0.38872691933916426, 0.29154518950437319, 0.97181729834791075, 0.29154518950437319, 0.29154518950437319, 0.29154518950437319, 0.097181729834791064, 0.29154518950437319, 0.19436345966958213, 0.19436345966958213, 0.48590864917395538, 0.19436345966958213, 0.097181729834791064, 0.58309037900874638)\n"
       ]
      },
      {
       "output_type": "stream",
       "stream": "stderr",
       "text": [
        "INFO:Mozaik:4\n"
       ]
      },
      {
       "output_type": "stream",
       "stream": "stderr",
       "text": [
        "  4\n"
       ]
      },
      {
       "output_type": "stream",
       "stream": "stderr",
       "text": [
        "INFO:Mozaik:15\n"
       ]
      },
      {
       "output_type": "stream",
       "stream": "stderr",
       "text": [
        "  15\n"
       ]
      },
      {
       "output_type": "stream",
       "stream": "stderr",
       "text": [
        "INFO:Mozaik:0.971817298348\n"
       ]
      },
      {
       "output_type": "stream",
       "stream": "stderr",
       "text": [
        "  0.971817298348\n"
       ]
      },
      {
       "output_type": "stream",
       "stream": "stderr",
       "text": [
        "INFO:Mozaik:0.583090379009\n"
       ]
      },
      {
       "output_type": "stream",
       "stream": "stderr",
       "text": [
        "  0.583090379009\n"
       ]
      },
      {
       "output_type": "stream",
       "stream": "stderr",
       "text": [
        "INFO:Mozaik:0.4\n"
       ]
      },
      {
       "output_type": "stream",
       "stream": "stderr",
       "text": [
        "  0.4\n"
       ]
      },
      {
       "output_type": "stream",
       "stream": "stderr",
       "text": [
        "INFO:Mozaik:Warning: ADS with the same parametrization already added in the datastore.: {\"module_path\" :\"mozaik.analysis.data_structures\",\"analysis_algorithm\":'SizeTuningAnalysis', \"identifier\":'PerNeuronValue', \"name\":'PerNeuronValue', \"neuron\":None, \"period\":None, \"sheet_name\":'V1_Exc_L4', \"stimulus_id\":'{\"module_path\" :\"mozaik.stimuli.vision.topographica_based\",\"background_luminance\":50.0, \"contrast\":100, \"density\":6.000000000002401, \"direct_stimulation_name\":\\'None\\', \"duration\":1029, \"frame_duration\":7, \"location_x\":0.0, \"location_y\":0.0, \"name\":\\'DriftingSinusoidalGratingDisk\\', \"orientation\":0, \"radius\":None, \"size_x\":10.0, \"size_y\":10.0, \"spatial_frequency\":0.8, \"temporal_frequency\":2, \"trial\":None}', \"value_name\":'Max. facilitation radius of Firing rate'}\n"
       ]
      },
      {
       "output_type": "stream",
       "stream": "stderr",
       "text": [
        "  Warning: ADS with the same parametrization already added in the datastore.: {\"module_path\" :\"mozaik.analysis.data_structures\",\"analysis_algorithm\":'SizeTuningAnalysis', \"identifier\":'PerNeuronValue', \"name\":'PerNeuronValue', \"neuron\":None, \"period\":None, \"sheet_name\":'V1_Exc_L4', \"stimulus_id\":'{\"module_path\" :\"mozaik.stimuli.vision.topographica_based\",\"background_luminance\":50.0, \"contrast\":100, \"density\":6.000000000002401, \"direct_stimulation_name\":\\'None\\', \"duration\":1029, \"frame_duration\":7, \"location_x\":0.0, \"location_y\":0.0, \"name\":\\'DriftingSinusoidalGratingDisk\\', \"orientation\":0, \"radius\":None, \"size_x\":10.0, \"size_y\":10.0, \"spatial_frequency\":0.8, \"temporal_frequency\":2, \"trial\":None}', \"value_name\":'Max. facilitation radius of Firing rate'}\n"
       ]
      },
      {
       "output_type": "stream",
       "stream": "stderr",
       "text": [
        "INFO:Mozaik:Warning: ADS with the same parametrization already added in the datastore.: {\"module_path\" :\"mozaik.analysis.data_structures\",\"analysis_algorithm\":'SizeTuningAnalysis', \"identifier\":'PerNeuronValue', \"name\":'PerNeuronValue', \"neuron\":None, \"period\":None, \"sheet_name\":'V1_Exc_L4', \"stimulus_id\":'{\"module_path\" :\"mozaik.stimuli.vision.topographica_based\",\"background_luminance\":50.0, \"contrast\":100, \"density\":6.000000000002401, \"direct_stimulation_name\":\\'None\\', \"duration\":1029, \"frame_duration\":7, \"location_x\":0.0, \"location_y\":0.0, \"name\":\\'DriftingSinusoidalGratingDisk\\', \"orientation\":0, \"radius\":None, \"size_x\":10.0, \"size_y\":10.0, \"spatial_frequency\":0.8, \"temporal_frequency\":2, \"trial\":None}', \"value_name\":'Max. suppressive radius of Firing rate'}\n"
       ]
      },
      {
       "output_type": "stream",
       "stream": "stderr",
       "text": [
        "  Warning: ADS with the same parametrization already added in the datastore.: {\"module_path\" :\"mozaik.analysis.data_structures\",\"analysis_algorithm\":'SizeTuningAnalysis', \"identifier\":'PerNeuronValue', \"name\":'PerNeuronValue', \"neuron\":None, \"period\":None, \"sheet_name\":'V1_Exc_L4', \"stimulus_id\":'{\"module_path\" :\"mozaik.stimuli.vision.topographica_based\",\"background_luminance\":50.0, \"contrast\":100, \"density\":6.000000000002401, \"direct_stimulation_name\":\\'None\\', \"duration\":1029, \"frame_duration\":7, \"location_x\":0.0, \"location_y\":0.0, \"name\":\\'DriftingSinusoidalGratingDisk\\', \"orientation\":0, \"radius\":None, \"size_x\":10.0, \"size_y\":10.0, \"spatial_frequency\":0.8, \"temporal_frequency\":2, \"trial\":None}', \"value_name\":'Max. suppressive radius of Firing rate'}\n"
       ]
      },
      {
       "output_type": "stream",
       "stream": "stderr",
       "text": [
        "INFO:Mozaik:Warning: ADS with the same parametrization already added in the datastore.: {\"module_path\" :\"mozaik.analysis.data_structures\",\"analysis_algorithm\":'SizeTuningAnalysis', \"identifier\":'PerNeuronValue', \"name\":'PerNeuronValue', \"neuron\":None, \"period\":None, \"sheet_name\":'V1_Exc_L4', \"stimulus_id\":'{\"module_path\" :\"mozaik.stimuli.vision.topographica_based\",\"background_luminance\":50.0, \"contrast\":100, \"density\":6.000000000002401, \"direct_stimulation_name\":\\'None\\', \"duration\":1029, \"frame_duration\":7, \"location_x\":0.0, \"location_y\":0.0, \"name\":\\'DriftingSinusoidalGratingDisk\\', \"orientation\":0, \"radius\":None, \"size_x\":10.0, \"size_y\":10.0, \"spatial_frequency\":0.8, \"temporal_frequency\":2, \"trial\":None}', \"value_name\":'Suppression index of Firing rate'}\n"
       ]
      },
      {
       "output_type": "stream",
       "stream": "stderr",
       "text": [
        "  Warning: ADS with the same parametrization already added in the datastore.: {\"module_path\" :\"mozaik.analysis.data_structures\",\"analysis_algorithm\":'SizeTuningAnalysis', \"identifier\":'PerNeuronValue', \"name\":'PerNeuronValue', \"neuron\":None, \"period\":None, \"sheet_name\":'V1_Exc_L4', \"stimulus_id\":'{\"module_path\" :\"mozaik.stimuli.vision.topographica_based\",\"background_luminance\":50.0, \"contrast\":100, \"density\":6.000000000002401, \"direct_stimulation_name\":\\'None\\', \"duration\":1029, \"frame_duration\":7, \"location_x\":0.0, \"location_y\":0.0, \"name\":\\'DriftingSinusoidalGratingDisk\\', \"orientation\":0, \"radius\":None, \"size_x\":10.0, \"size_y\":10.0, \"spatial_frequency\":0.8, \"temporal_frequency\":2, \"trial\":None}', \"value_name\":'Suppression index of Firing rate'}\n"
       ]
      },
      {
       "output_type": "stream",
       "stream": "stderr",
       "text": [
        "WARNING:Mozaik:SizeTuningAnalysis analysis took: 3.44416594505seconds\n"
       ]
      },
      {
       "output_type": "stream",
       "stream": "stderr",
       "text": [
        "SizeTuningAnalysis analysis took: 3.44416594505seconds\n"
       ]
      }
     ],
     "prompt_number": 12
    },
    {
     "cell_type": "code",
     "collapsed": false,
     "input": [
      "SizeTuningAnalysis(dsv,ParameterSet({'neurons' : center23.tolist(), 'sheet_name' : 'V1_Exc_L2/3'})).analyse()     "
     ],
     "language": "python",
     "metadata": {},
     "outputs": [
      {
       "output_type": "stream",
       "stream": "stderr",
       "text": [
        "INFO:Mozaik:Starting SizeTuningAnalysis analysis\n"
       ]
      },
      {
       "output_type": "stream",
       "stream": "stderr",
       "text": [
        "  Starting SizeTuningAnalysis analysis\n"
       ]
      },
      {
       "output_type": "stream",
       "stream": "stderr",
       "text": [
        "INFO:Mozaik:32543\n"
       ]
      },
      {
       "output_type": "stream",
       "stream": "stderr",
       "text": [
        "  32543\n"
       ]
      },
      {
       "output_type": "stream",
       "stream": "stderr",
       "text": [
        "INFO:Mozaik:(0.0, 0.13333333333333333, 0.26666666666666666, 0.4, 0.5333333333333333, 0.6666666666666666, 0.8, 0.9333333333333333, 1.0666666666666667, 1.2, 1.3333333333333333, 1.4666666666666666, 1.6, 1.7333333333333334, 1.8666666666666667, 2.0)\n"
       ]
      },
      {
       "output_type": "stream",
       "stream": "stderr",
       "text": [
        "  (0.0, 0.13333333333333333, 0.26666666666666666, 0.4, 0.5333333333333333, 0.6666666666666666, 0.8, 0.9333333333333333, 1.0666666666666667, 1.2, 1.3333333333333333, 1.4666666666666666, 1.6, 1.7333333333333334, 1.8666666666666667, 2.0)\n"
       ]
      },
      {
       "output_type": "stream",
       "stream": "stderr",
       "text": [
        "INFO:Mozaik:(0.48590864917395538, 0.58309037900874638, 0.77745383867832885, 0.6802721088435375, 0.58309037900874638, 1.0689990281827018, 1.1661807580174928, 1.0689990281827018, 0.97181729834791075, 1.5549076773566572, 0.6802721088435375, 0.97181729834791075, 1.5549076773566575, 0.77745383867832851, 0.97181729834791075, 1.8464528668610307)\n"
       ]
      },
      {
       "output_type": "stream",
       "stream": "stderr",
       "text": [
        "  (0.48590864917395538, 0.58309037900874638, 0.77745383867832885, 0.6802721088435375, 0.58309037900874638, 1.0689990281827018, 1.1661807580174928, 1.0689990281827018, 0.97181729834791075, 1.5549076773566572, 0.6802721088435375, 0.97181729834791075, 1.5549076773566575, 0.77745383867832851, 0.97181729834791075, 1.8464528668610307)\n"
       ]
      },
      {
       "output_type": "stream",
       "stream": "stderr",
       "text": [
        "INFO:Mozaik:15\n"
       ]
      },
      {
       "output_type": "stream",
       "stream": "stderr",
       "text": [
        "  15\n"
       ]
      },
      {
       "output_type": "stream",
       "stream": "stderr",
       "text": [
        "INFO:Mozaik:15\n"
       ]
      },
      {
       "output_type": "stream",
       "stream": "stderr",
       "text": [
        "  15\n"
       ]
      },
      {
       "output_type": "stream",
       "stream": "stderr",
       "text": [
        "INFO:Mozaik:1.84645286686\n"
       ]
      },
      {
       "output_type": "stream",
       "stream": "stderr",
       "text": [
        "  1.84645286686\n"
       ]
      },
      {
       "output_type": "stream",
       "stream": "stderr",
       "text": [
        "INFO:Mozaik:1.84645286686\n"
       ]
      },
      {
       "output_type": "stream",
       "stream": "stderr",
       "text": [
        "  1.84645286686\n"
       ]
      },
      {
       "output_type": "stream",
       "stream": "stderr",
       "text": [
        "INFO:Mozaik:0.0\n"
       ]
      },
      {
       "output_type": "stream",
       "stream": "stderr",
       "text": [
        "  0.0\n"
       ]
      },
      {
       "output_type": "stream",
       "stream": "stderr",
       "text": [
        "INFO:Mozaik:33736\n"
       ]
      },
      {
       "output_type": "stream",
       "stream": "stderr",
       "text": [
        "  33736\n"
       ]
      },
      {
       "output_type": "stream",
       "stream": "stderr",
       "text": [
        "INFO:Mozaik:(0.0, 0.13333333333333333, 0.26666666666666666, 0.4, 0.5333333333333333, 0.6666666666666666, 0.8, 0.9333333333333333, 1.0666666666666667, 1.2, 1.3333333333333333, 1.4666666666666666, 1.6, 1.7333333333333334, 1.8666666666666667, 2.0)\n"
       ]
      },
      {
       "output_type": "stream",
       "stream": "stderr",
       "text": [
        "  (0.0, 0.13333333333333333, 0.26666666666666666, 0.4, 0.5333333333333333, 0.6666666666666666, 0.8, 0.9333333333333333, 1.0666666666666667, 1.2, 1.3333333333333333, 1.4666666666666666, 1.6, 1.7333333333333334, 1.8666666666666667, 2.0)\n"
       ]
      },
      {
       "output_type": "stream",
       "stream": "stderr",
       "text": [
        "INFO:Mozaik:(0.29154518950437319, 0.58309037900874638, 0.77745383867832962, 0.29154518950437319, 0.48590864917395538, 0.77745383867832851, 1.1661807580174928, 1.1661807580174928, 1.4577259475218662, 1.6520894071914483, 1.652089407191448, 1.166180758017493, 1.1661807580174928, 1.360544217687075, 2.0408163265306127, 1.5549076773566575)\n"
       ]
      },
      {
       "output_type": "stream",
       "stream": "stderr",
       "text": [
        "  (0.29154518950437319, 0.58309037900874638, 0.77745383867832962, 0.29154518950437319, 0.48590864917395538, 0.77745383867832851, 1.1661807580174928, 1.1661807580174928, 1.4577259475218662, 1.6520894071914483, 1.652089407191448, 1.166180758017493, 1.1661807580174928, 1.360544217687075, 2.0408163265306127, 1.5549076773566575)\n"
       ]
      },
      {
       "output_type": "stream",
       "stream": "stderr",
       "text": [
        "INFO:Mozaik:14\n"
       ]
      },
      {
       "output_type": "stream",
       "stream": "stderr",
       "text": [
        "  14\n"
       ]
      },
      {
       "output_type": "stream",
       "stream": "stderr",
       "text": [
        "INFO:Mozaik:15\n"
       ]
      },
      {
       "output_type": "stream",
       "stream": "stderr",
       "text": [
        "  15\n"
       ]
      },
      {
       "output_type": "stream",
       "stream": "stderr",
       "text": [
        "INFO:Mozaik:2.04081632653\n"
       ]
      },
      {
       "output_type": "stream",
       "stream": "stderr",
       "text": [
        "  2.04081632653\n"
       ]
      },
      {
       "output_type": "stream",
       "stream": "stderr",
       "text": [
        "INFO:Mozaik:1.55490767736\n"
       ]
      },
      {
       "output_type": "stream",
       "stream": "stderr",
       "text": [
        "  1.55490767736\n"
       ]
      },
      {
       "output_type": "stream",
       "stream": "stderr",
       "text": [
        "INFO:Mozaik:0.238095238095\n"
       ]
      },
      {
       "output_type": "stream",
       "stream": "stderr",
       "text": [
        "  0.238095238095\n"
       ]
      },
      {
       "output_type": "stream",
       "stream": "stderr",
       "text": [
        "INFO:Mozaik:33756\n"
       ]
      },
      {
       "output_type": "stream",
       "stream": "stderr",
       "text": [
        "  33756\n"
       ]
      },
      {
       "output_type": "stream",
       "stream": "stderr",
       "text": [
        "INFO:Mozaik:(0.0, 0.13333333333333333, 0.26666666666666666, 0.4, 0.5333333333333333, 0.6666666666666666, 0.8, 0.9333333333333333, 1.0666666666666667, 1.2, 1.3333333333333333, 1.4666666666666666, 1.6, 1.7333333333333334, 1.8666666666666667, 2.0)\n"
       ]
      },
      {
       "output_type": "stream",
       "stream": "stderr",
       "text": [
        "  (0.0, 0.13333333333333333, 0.26666666666666666, 0.4, 0.5333333333333333, 0.6666666666666666, 0.8, 0.9333333333333333, 1.0666666666666667, 1.2, 1.3333333333333333, 1.4666666666666666, 1.6, 1.7333333333333334, 1.8666666666666667, 2.0)\n"
       ]
      },
      {
       "output_type": "stream",
       "stream": "stderr",
       "text": [
        "INFO:Mozaik:(0.0, 0.29154518950437319, 0.87463556851311997, 0.38872691933916426, 0.6802721088435375, 1.360544217687075, 1.0689990281827018, 1.2633624878522842, 0.97181729834791075, 1.0689990281827018, 1.554907677356657, 0.97181729834791075, 1.2633624878522842, 0.97181729834791075, 1.1661807580174928, 1.7492711370262395)\n"
       ]
      },
      {
       "output_type": "stream",
       "stream": "stderr",
       "text": [
        "  (0.0, 0.29154518950437319, 0.87463556851311997, 0.38872691933916426, 0.6802721088435375, 1.360544217687075, 1.0689990281827018, 1.2633624878522842, 0.97181729834791075, 1.0689990281827018, 1.554907677356657, 0.97181729834791075, 1.2633624878522842, 0.97181729834791075, 1.1661807580174928, 1.7492711370262395)\n"
       ]
      },
      {
       "output_type": "stream",
       "stream": "stderr",
       "text": [
        "INFO:Mozaik:15\n"
       ]
      },
      {
       "output_type": "stream",
       "stream": "stderr",
       "text": [
        "  15\n"
       ]
      },
      {
       "output_type": "stream",
       "stream": "stderr",
       "text": [
        "INFO:Mozaik:15\n"
       ]
      },
      {
       "output_type": "stream",
       "stream": "stderr",
       "text": [
        "  15\n"
       ]
      },
      {
       "output_type": "stream",
       "stream": "stderr",
       "text": [
        "INFO:Mozaik:1.74927113703\n"
       ]
      },
      {
       "output_type": "stream",
       "stream": "stderr",
       "text": [
        "  1.74927113703\n"
       ]
      },
      {
       "output_type": "stream",
       "stream": "stderr",
       "text": [
        "INFO:Mozaik:1.74927113703\n"
       ]
      },
      {
       "output_type": "stream",
       "stream": "stderr",
       "text": [
        "  1.74927113703\n"
       ]
      },
      {
       "output_type": "stream",
       "stream": "stderr",
       "text": [
        "INFO:Mozaik:0.0\n"
       ]
      },
      {
       "output_type": "stream",
       "stream": "stderr",
       "text": [
        "  0.0\n"
       ]
      },
      {
       "output_type": "stream",
       "stream": "stderr",
       "text": [
        "INFO:Mozaik:34096\n"
       ]
      },
      {
       "output_type": "stream",
       "stream": "stderr",
       "text": [
        "  34096\n"
       ]
      },
      {
       "output_type": "stream",
       "stream": "stderr",
       "text": [
        "INFO:Mozaik:(0.0, 0.13333333333333333, 0.26666666666666666, 0.4, 0.5333333333333333, 0.6666666666666666, 0.8, 0.9333333333333333, 1.0666666666666667, 1.2, 1.3333333333333333, 1.4666666666666666, 1.6, 1.7333333333333334, 1.8666666666666667, 2.0)\n"
       ]
      },
      {
       "output_type": "stream",
       "stream": "stderr",
       "text": [
        "  (0.0, 0.13333333333333333, 0.26666666666666666, 0.4, 0.5333333333333333, 0.6666666666666666, 0.8, 0.9333333333333333, 1.0666666666666667, 1.2, 1.3333333333333333, 1.4666666666666666, 1.6, 1.7333333333333334, 1.8666666666666667, 2.0)\n"
       ]
      },
      {
       "output_type": "stream",
       "stream": "stderr",
       "text": [
        "INFO:Mozaik:(0.097181729834791064, 0.19436345966958213, 0.29154518950437319, 0.097181729834791064, 0.19436345966958213, 0.0, 0.58309037900874638, 0.6802721088435375, 0.6802721088435375, 0.58309037900874638, 0.77745383867832851, 0.38872691933916426, 0.58309037900874638, 0.29154518950437319, 0.6802721088435375, 0.77745383867832851)\n"
       ]
      },
      {
       "output_type": "stream",
       "stream": "stderr",
       "text": [
        "  (0.097181729834791064, 0.19436345966958213, 0.29154518950437319, 0.097181729834791064, 0.19436345966958213, 0.0, 0.58309037900874638, 0.6802721088435375, 0.6802721088435375, 0.58309037900874638, 0.77745383867832851, 0.38872691933916426, 0.58309037900874638, 0.29154518950437319, 0.6802721088435375, 0.77745383867832851)\n"
       ]
      },
      {
       "output_type": "stream",
       "stream": "stderr",
       "text": [
        "INFO:Mozaik:10\n"
       ]
      },
      {
       "output_type": "stream",
       "stream": "stderr",
       "text": [
        "  10\n"
       ]
      },
      {
       "output_type": "stream",
       "stream": "stderr",
       "text": [
        "INFO:Mozaik:15\n"
       ]
      },
      {
       "output_type": "stream",
       "stream": "stderr",
       "text": [
        "  15\n"
       ]
      },
      {
       "output_type": "stream",
       "stream": "stderr",
       "text": [
        "INFO:Mozaik:0.777453838678\n"
       ]
      },
      {
       "output_type": "stream",
       "stream": "stderr",
       "text": [
        "  0.777453838678\n"
       ]
      },
      {
       "output_type": "stream",
       "stream": "stderr",
       "text": [
        "INFO:Mozaik:0.777453838678\n"
       ]
      },
      {
       "output_type": "stream",
       "stream": "stderr",
       "text": [
        "  0.777453838678\n"
       ]
      },
      {
       "output_type": "stream",
       "stream": "stderr",
       "text": [
        "INFO:Mozaik:0.0\n"
       ]
      },
      {
       "output_type": "stream",
       "stream": "stderr",
       "text": [
        "  0.0\n"
       ]
      },
      {
       "output_type": "stream",
       "stream": "stderr",
       "text": [
        "INFO:Mozaik:35285\n"
       ]
      },
      {
       "output_type": "stream",
       "stream": "stderr",
       "text": [
        "  35285\n"
       ]
      },
      {
       "output_type": "stream",
       "stream": "stderr",
       "text": [
        "INFO:Mozaik:(0.0, 0.13333333333333333, 0.26666666666666666, 0.4, 0.5333333333333333, 0.6666666666666666, 0.8, 0.9333333333333333, 1.0666666666666667, 1.2, 1.3333333333333333, 1.4666666666666666, 1.6, 1.7333333333333334, 1.8666666666666667, 2.0)\n"
       ]
      },
      {
       "output_type": "stream",
       "stream": "stderr",
       "text": [
        "  (0.0, 0.13333333333333333, 0.26666666666666666, 0.4, 0.5333333333333333, 0.6666666666666666, 0.8, 0.9333333333333333, 1.0666666666666667, 1.2, 1.3333333333333333, 1.4666666666666666, 1.6, 1.7333333333333334, 1.8666666666666667, 2.0)\n"
       ]
      },
      {
       "output_type": "stream",
       "stream": "stderr",
       "text": [
        "INFO:Mozaik:(0.38872691933916426, 0.29154518950437319, 0.97181729834791075, 0.48590864917395538, 0.48590864917395538, 1.6520894071914483, 1.652089407191448, 1.457725947521866, 1.749271137026239, 1.1661807580174928, 1.9436345966958215, 1.457725947521866, 1.8464528668610307, 0.87463556851311952, 1.7492711370262395, 2.0408163265306123)\n"
       ]
      },
      {
       "output_type": "stream",
       "stream": "stderr",
       "text": [
        "  (0.38872691933916426, 0.29154518950437319, 0.97181729834791075, 0.48590864917395538, 0.48590864917395538, 1.6520894071914483, 1.652089407191448, 1.457725947521866, 1.749271137026239, 1.1661807580174928, 1.9436345966958215, 1.457725947521866, 1.8464528668610307, 0.87463556851311952, 1.7492711370262395, 2.0408163265306123)\n"
       ]
      },
      {
       "output_type": "stream",
       "stream": "stderr",
       "text": [
        "INFO:Mozaik:15\n"
       ]
      },
      {
       "output_type": "stream",
       "stream": "stderr",
       "text": [
        "  15\n"
       ]
      },
      {
       "output_type": "stream",
       "stream": "stderr",
       "text": [
        "INFO:Mozaik:15\n"
       ]
      },
      {
       "output_type": "stream",
       "stream": "stderr",
       "text": [
        "  15\n"
       ]
      },
      {
       "output_type": "stream",
       "stream": "stderr",
       "text": [
        "INFO:Mozaik:2.04081632653\n"
       ]
      },
      {
       "output_type": "stream",
       "stream": "stderr",
       "text": [
        "  2.04081632653\n"
       ]
      },
      {
       "output_type": "stream",
       "stream": "stderr",
       "text": [
        "INFO:Mozaik:2.04081632653\n"
       ]
      },
      {
       "output_type": "stream",
       "stream": "stderr",
       "text": [
        "  2.04081632653\n"
       ]
      },
      {
       "output_type": "stream",
       "stream": "stderr",
       "text": [
        "INFO:Mozaik:0.0\n"
       ]
      },
      {
       "output_type": "stream",
       "stream": "stderr",
       "text": [
        "  0.0\n"
       ]
      },
      {
       "output_type": "stream",
       "stream": "stderr",
       "text": [
        "INFO:Mozaik:35601\n"
       ]
      },
      {
       "output_type": "stream",
       "stream": "stderr",
       "text": [
        "  35601\n"
       ]
      },
      {
       "output_type": "stream",
       "stream": "stderr",
       "text": [
        "INFO:Mozaik:(0.0, 0.13333333333333333, 0.26666666666666666, 0.4, 0.5333333333333333, 0.6666666666666666, 0.8, 0.9333333333333333, 1.0666666666666667, 1.2, 1.3333333333333333, 1.4666666666666666, 1.6, 1.7333333333333334, 1.8666666666666667, 2.0)\n"
       ]
      },
      {
       "output_type": "stream",
       "stream": "stderr",
       "text": [
        "  (0.0, 0.13333333333333333, 0.26666666666666666, 0.4, 0.5333333333333333, 0.6666666666666666, 0.8, 0.9333333333333333, 1.0666666666666667, 1.2, 1.3333333333333333, 1.4666666666666666, 1.6, 1.7333333333333334, 1.8666666666666667, 2.0)\n"
       ]
      },
      {
       "output_type": "stream",
       "stream": "stderr",
       "text": [
        "INFO:Mozaik:(0.29154518950437319, 0.29154518950437319, 0.97181729834791075, 0.87463556851311952, 0.58309037900874638, 1.0689990281827018, 1.360544217687075, 1.6520894071914483, 1.1661807580174928, 1.749271137026239, 1.9436345966958215, 1.652089407191448, 1.749271137026239, 1.9436345966958215, 1.457725947521866, 2.1379980563654035)\n"
       ]
      },
      {
       "output_type": "stream",
       "stream": "stderr",
       "text": [
        "  (0.29154518950437319, 0.29154518950437319, 0.97181729834791075, 0.87463556851311952, 0.58309037900874638, 1.0689990281827018, 1.360544217687075, 1.6520894071914483, 1.1661807580174928, 1.749271137026239, 1.9436345966958215, 1.652089407191448, 1.749271137026239, 1.9436345966958215, 1.457725947521866, 2.1379980563654035)\n"
       ]
      },
      {
       "output_type": "stream",
       "stream": "stderr",
       "text": [
        "INFO:Mozaik:15\n"
       ]
      },
      {
       "output_type": "stream",
       "stream": "stderr",
       "text": [
        "  15\n"
       ]
      },
      {
       "output_type": "stream",
       "stream": "stderr",
       "text": [
        "INFO:Mozaik:15\n"
       ]
      },
      {
       "output_type": "stream",
       "stream": "stderr",
       "text": [
        "  15\n"
       ]
      },
      {
       "output_type": "stream",
       "stream": "stderr",
       "text": [
        "INFO:Mozaik:2.13799805637\n"
       ]
      },
      {
       "output_type": "stream",
       "stream": "stderr",
       "text": [
        "  2.13799805637\n"
       ]
      },
      {
       "output_type": "stream",
       "stream": "stderr",
       "text": [
        "INFO:Mozaik:2.13799805637\n"
       ]
      },
      {
       "output_type": "stream",
       "stream": "stderr",
       "text": [
        "  2.13799805637\n"
       ]
      },
      {
       "output_type": "stream",
       "stream": "stderr",
       "text": [
        "INFO:Mozaik:0.0\n"
       ]
      },
      {
       "output_type": "stream",
       "stream": "stderr",
       "text": [
        "  0.0\n"
       ]
      },
      {
       "output_type": "stream",
       "stream": "stderr",
       "text": [
        "INFO:Mozaik:Warning: ADS with the same parametrization already added in the datastore.: {\"module_path\" :\"mozaik.analysis.data_structures\",\"analysis_algorithm\":'SizeTuningAnalysis', \"identifier\":'PerNeuronValue', \"name\":'PerNeuronValue', \"neuron\":None, \"period\":None, \"sheet_name\":'V1_Exc_L2/3', \"stimulus_id\":'{\"module_path\" :\"mozaik.stimuli.vision.topographica_based\",\"background_luminance\":50.0, \"contrast\":5, \"density\":6.000000000002401, \"direct_stimulation_name\":\\'None\\', \"duration\":1029, \"frame_duration\":7, \"location_x\":0.0, \"location_y\":0.0, \"name\":\\'DriftingSinusoidalGratingDisk\\', \"orientation\":0, \"radius\":None, \"size_x\":10.0, \"size_y\":10.0, \"spatial_frequency\":0.8, \"temporal_frequency\":2, \"trial\":None}', \"value_name\":'Max. facilitation radius of Firing rate'}\n"
       ]
      },
      {
       "output_type": "stream",
       "stream": "stderr",
       "text": [
        "  Warning: ADS with the same parametrization already added in the datastore.: {\"module_path\" :\"mozaik.analysis.data_structures\",\"analysis_algorithm\":'SizeTuningAnalysis', \"identifier\":'PerNeuronValue', \"name\":'PerNeuronValue', \"neuron\":None, \"period\":None, \"sheet_name\":'V1_Exc_L2/3', \"stimulus_id\":'{\"module_path\" :\"mozaik.stimuli.vision.topographica_based\",\"background_luminance\":50.0, \"contrast\":5, \"density\":6.000000000002401, \"direct_stimulation_name\":\\'None\\', \"duration\":1029, \"frame_duration\":7, \"location_x\":0.0, \"location_y\":0.0, \"name\":\\'DriftingSinusoidalGratingDisk\\', \"orientation\":0, \"radius\":None, \"size_x\":10.0, \"size_y\":10.0, \"spatial_frequency\":0.8, \"temporal_frequency\":2, \"trial\":None}', \"value_name\":'Max. facilitation radius of Firing rate'}\n"
       ]
      },
      {
       "output_type": "stream",
       "stream": "stderr",
       "text": [
        "INFO:Mozaik:Warning: ADS with the same parametrization already added in the datastore.: {\"module_path\" :\"mozaik.analysis.data_structures\",\"analysis_algorithm\":'SizeTuningAnalysis', \"identifier\":'PerNeuronValue', \"name\":'PerNeuronValue', \"neuron\":None, \"period\":None, \"sheet_name\":'V1_Exc_L2/3', \"stimulus_id\":'{\"module_path\" :\"mozaik.stimuli.vision.topographica_based\",\"background_luminance\":50.0, \"contrast\":5, \"density\":6.000000000002401, \"direct_stimulation_name\":\\'None\\', \"duration\":1029, \"frame_duration\":7, \"location_x\":0.0, \"location_y\":0.0, \"name\":\\'DriftingSinusoidalGratingDisk\\', \"orientation\":0, \"radius\":None, \"size_x\":10.0, \"size_y\":10.0, \"spatial_frequency\":0.8, \"temporal_frequency\":2, \"trial\":None}', \"value_name\":'Max. suppressive radius of Firing rate'}\n"
       ]
      },
      {
       "output_type": "stream",
       "stream": "stderr",
       "text": [
        "  Warning: ADS with the same parametrization already added in the datastore.: {\"module_path\" :\"mozaik.analysis.data_structures\",\"analysis_algorithm\":'SizeTuningAnalysis', \"identifier\":'PerNeuronValue', \"name\":'PerNeuronValue', \"neuron\":None, \"period\":None, \"sheet_name\":'V1_Exc_L2/3', \"stimulus_id\":'{\"module_path\" :\"mozaik.stimuli.vision.topographica_based\",\"background_luminance\":50.0, \"contrast\":5, \"density\":6.000000000002401, \"direct_stimulation_name\":\\'None\\', \"duration\":1029, \"frame_duration\":7, \"location_x\":0.0, \"location_y\":0.0, \"name\":\\'DriftingSinusoidalGratingDisk\\', \"orientation\":0, \"radius\":None, \"size_x\":10.0, \"size_y\":10.0, \"spatial_frequency\":0.8, \"temporal_frequency\":2, \"trial\":None}', \"value_name\":'Max. suppressive radius of Firing rate'}\n"
       ]
      },
      {
       "output_type": "stream",
       "stream": "stderr",
       "text": [
        "INFO:Mozaik:Warning: ADS with the same parametrization already added in the datastore.: {\"module_path\" :\"mozaik.analysis.data_structures\",\"analysis_algorithm\":'SizeTuningAnalysis', \"identifier\":'PerNeuronValue', \"name\":'PerNeuronValue', \"neuron\":None, \"period\":None, \"sheet_name\":'V1_Exc_L2/3', \"stimulus_id\":'{\"module_path\" :\"mozaik.stimuli.vision.topographica_based\",\"background_luminance\":50.0, \"contrast\":5, \"density\":6.000000000002401, \"direct_stimulation_name\":\\'None\\', \"duration\":1029, \"frame_duration\":7, \"location_x\":0.0, \"location_y\":0.0, \"name\":\\'DriftingSinusoidalGratingDisk\\', \"orientation\":0, \"radius\":None, \"size_x\":10.0, \"size_y\":10.0, \"spatial_frequency\":0.8, \"temporal_frequency\":2, \"trial\":None}', \"value_name\":'Suppression index of Firing rate'}\n"
       ]
      },
      {
       "output_type": "stream",
       "stream": "stderr",
       "text": [
        "  Warning: ADS with the same parametrization already added in the datastore.: {\"module_path\" :\"mozaik.analysis.data_structures\",\"analysis_algorithm\":'SizeTuningAnalysis', \"identifier\":'PerNeuronValue', \"name\":'PerNeuronValue', \"neuron\":None, \"period\":None, \"sheet_name\":'V1_Exc_L2/3', \"stimulus_id\":'{\"module_path\" :\"mozaik.stimuli.vision.topographica_based\",\"background_luminance\":50.0, \"contrast\":5, \"density\":6.000000000002401, \"direct_stimulation_name\":\\'None\\', \"duration\":1029, \"frame_duration\":7, \"location_x\":0.0, \"location_y\":0.0, \"name\":\\'DriftingSinusoidalGratingDisk\\', \"orientation\":0, \"radius\":None, \"size_x\":10.0, \"size_y\":10.0, \"spatial_frequency\":0.8, \"temporal_frequency\":2, \"trial\":None}', \"value_name\":'Suppression index of Firing rate'}\n"
       ]
      },
      {
       "output_type": "stream",
       "stream": "stderr",
       "text": [
        "INFO:Mozaik:32543\n"
       ]
      },
      {
       "output_type": "stream",
       "stream": "stderr",
       "text": [
        "  32543\n"
       ]
      },
      {
       "output_type": "stream",
       "stream": "stderr",
       "text": [
        "INFO:Mozaik:(0.0, 0.13333333333333333, 0.26666666666666666, 0.4, 0.5333333333333333, 0.6666666666666666, 0.8, 0.9333333333333333, 1.0666666666666667, 1.2, 1.3333333333333333, 1.4666666666666666, 1.6, 1.7333333333333334, 1.8666666666666667, 2.0)\n"
       ]
      },
      {
       "output_type": "stream",
       "stream": "stderr",
       "text": [
        "  (0.0, 0.13333333333333333, 0.26666666666666666, 0.4, 0.5333333333333333, 0.6666666666666666, 0.8, 0.9333333333333333, 1.0666666666666667, 1.2, 1.3333333333333333, 1.4666666666666666, 1.6, 1.7333333333333334, 1.8666666666666667, 2.0)\n"
       ]
      },
      {
       "output_type": "stream",
       "stream": "stderr",
       "text": [
        "INFO:Mozaik:(0.48590864917395538, 1.166180758017493, 0.97181729834791075, 1.263362487852284, 2.1379980563654035, 1.9436345966958215, 1.1661807580174928, 1.457725947521866, 1.6520894071914483, 1.457725947521866, 0.97181729834791075, 1.749271137026239, 1.1661807580174928, 1.0689990281827018, 0.77745383867832851, 1.5549076773566572)\n"
       ]
      },
      {
       "output_type": "stream",
       "stream": "stderr",
       "text": [
        "  (0.48590864917395538, 1.166180758017493, 0.97181729834791075, 1.263362487852284, 2.1379980563654035, 1.9436345966958215, 1.1661807580174928, 1.457725947521866, 1.6520894071914483, 1.457725947521866, 0.97181729834791075, 1.749271137026239, 1.1661807580174928, 1.0689990281827018, 0.77745383867832851, 1.5549076773566572)\n"
       ]
      },
      {
       "output_type": "stream",
       "stream": "stderr",
       "text": [
        "INFO:Mozaik:4\n"
       ]
      },
      {
       "output_type": "stream",
       "stream": "stderr",
       "text": [
        "  4\n"
       ]
      },
      {
       "output_type": "stream",
       "stream": "stderr",
       "text": [
        "INFO:Mozaik:5\n"
       ]
      },
      {
       "output_type": "stream",
       "stream": "stderr",
       "text": [
        "  5\n"
       ]
      },
      {
       "output_type": "stream",
       "stream": "stderr",
       "text": [
        "INFO:Mozaik:2.13799805637\n"
       ]
      },
      {
       "output_type": "stream",
       "stream": "stderr",
       "text": [
        "  2.13799805637\n"
       ]
      },
      {
       "output_type": "stream",
       "stream": "stderr",
       "text": [
        "INFO:Mozaik:1.9436345967\n"
       ]
      },
      {
       "output_type": "stream",
       "stream": "stderr",
       "text": [
        "  1.9436345967\n"
       ]
      },
      {
       "output_type": "stream",
       "stream": "stderr",
       "text": [
        "INFO:Mozaik:0.0909090909091\n"
       ]
      },
      {
       "output_type": "stream",
       "stream": "stderr",
       "text": [
        "  0.0909090909091\n"
       ]
      },
      {
       "output_type": "stream",
       "stream": "stderr",
       "text": [
        "INFO:Mozaik:33736\n"
       ]
      },
      {
       "output_type": "stream",
       "stream": "stderr",
       "text": [
        "  33736\n"
       ]
      },
      {
       "output_type": "stream",
       "stream": "stderr",
       "text": [
        "INFO:Mozaik:(0.0, 0.13333333333333333, 0.26666666666666666, 0.4, 0.5333333333333333, 0.6666666666666666, 0.8, 0.9333333333333333, 1.0666666666666667, 1.2, 1.3333333333333333, 1.4666666666666666, 1.6, 1.7333333333333334, 1.8666666666666667, 2.0)\n"
       ]
      },
      {
       "output_type": "stream",
       "stream": "stderr",
       "text": [
        "  (0.0, 0.13333333333333333, 0.26666666666666666, 0.4, 0.5333333333333333, 0.6666666666666666, 0.8, 0.9333333333333333, 1.0666666666666667, 1.2, 1.3333333333333333, 1.4666666666666666, 1.6, 1.7333333333333334, 1.8666666666666667, 2.0)\n"
       ]
      },
      {
       "output_type": "stream",
       "stream": "stderr",
       "text": [
        "INFO:Mozaik:(0.48590864917395538, 0.87463556851311952, 1.0689990281827018, 1.554907677356657, 2.6239067055393592, 1.8464528668610303, 1.1661807580174928, 1.4577259475218662, 2.0408163265306127, 1.7492711370262395, 1.6520894071914483, 1.263362487852284, 1.8464528668610303, 1.6520894071914483, 1.652089407191448, 1.7492711370262395)\n"
       ]
      },
      {
       "output_type": "stream",
       "stream": "stderr",
       "text": [
        "  (0.48590864917395538, 0.87463556851311952, 1.0689990281827018, 1.554907677356657, 2.6239067055393592, 1.8464528668610303, 1.1661807580174928, 1.4577259475218662, 2.0408163265306127, 1.7492711370262395, 1.6520894071914483, 1.263362487852284, 1.8464528668610303, 1.6520894071914483, 1.652089407191448, 1.7492711370262395)\n"
       ]
      },
      {
       "output_type": "stream",
       "stream": "stderr",
       "text": [
        "INFO:Mozaik:4\n"
       ]
      },
      {
       "output_type": "stream",
       "stream": "stderr",
       "text": [
        "  4\n"
       ]
      },
      {
       "output_type": "stream",
       "stream": "stderr",
       "text": [
        "INFO:Mozaik:8\n"
       ]
      },
      {
       "output_type": "stream",
       "stream": "stderr",
       "text": [
        "  8\n"
       ]
      },
      {
       "output_type": "stream",
       "stream": "stderr",
       "text": [
        "INFO:Mozaik:2.62390670554\n"
       ]
      },
      {
       "output_type": "stream",
       "stream": "stderr",
       "text": [
        "  2.62390670554\n"
       ]
      },
      {
       "output_type": "stream",
       "stream": "stderr",
       "text": [
        "INFO:Mozaik:2.04081632653\n"
       ]
      },
      {
       "output_type": "stream",
       "stream": "stderr",
       "text": [
        "  2.04081632653\n"
       ]
      },
      {
       "output_type": "stream",
       "stream": "stderr",
       "text": [
        "INFO:Mozaik:0.222222222222\n"
       ]
      },
      {
       "output_type": "stream",
       "stream": "stderr",
       "text": [
        "  0.222222222222\n"
       ]
      },
      {
       "output_type": "stream",
       "stream": "stderr",
       "text": [
        "INFO:Mozaik:33756\n"
       ]
      },
      {
       "output_type": "stream",
       "stream": "stderr",
       "text": [
        "  33756\n"
       ]
      },
      {
       "output_type": "stream",
       "stream": "stderr",
       "text": [
        "INFO:Mozaik:(0.0, 0.13333333333333333, 0.26666666666666666, 0.4, 0.5333333333333333, 0.6666666666666666, 0.8, 0.9333333333333333, 1.0666666666666667, 1.2, 1.3333333333333333, 1.4666666666666666, 1.6, 1.7333333333333334, 1.8666666666666667, 2.0)\n"
       ]
      },
      {
       "output_type": "stream",
       "stream": "stderr",
       "text": [
        "  (0.0, 0.13333333333333333, 0.26666666666666666, 0.4, 0.5333333333333333, 0.6666666666666666, 0.8, 0.9333333333333333, 1.0666666666666667, 1.2, 1.3333333333333333, 1.4666666666666666, 1.6, 1.7333333333333334, 1.8666666666666667, 2.0)\n"
       ]
      },
      {
       "output_type": "stream",
       "stream": "stderr",
       "text": [
        "INFO:Mozaik:(0.38872691933916426, 1.1661807580174928, 0.97181729834791075, 1.360544217687075, 2.1379980563654035, 1.652089407191448, 1.6520894071914483, 1.2633624878522842, 1.360544217687075, 1.5549076773566575, 2.0408163265306127, 1.1661807580174928, 1.6520894071914483, 1.0689990281827018, 1.5549076773566572, 1.360544217687075)\n"
       ]
      },
      {
       "output_type": "stream",
       "stream": "stderr",
       "text": [
        "  (0.38872691933916426, 1.1661807580174928, 0.97181729834791075, 1.360544217687075, 2.1379980563654035, 1.652089407191448, 1.6520894071914483, 1.2633624878522842, 1.360544217687075, 1.5549076773566575, 2.0408163265306127, 1.1661807580174928, 1.6520894071914483, 1.0689990281827018, 1.5549076773566572, 1.360544217687075)\n"
       ]
      },
      {
       "output_type": "stream",
       "stream": "stderr",
       "text": [
        "INFO:Mozaik:4\n"
       ]
      },
      {
       "output_type": "stream",
       "stream": "stderr",
       "text": [
        "  4\n"
       ]
      },
      {
       "output_type": "stream",
       "stream": "stderr",
       "text": [
        "INFO:Mozaik:10\n"
       ]
      },
      {
       "output_type": "stream",
       "stream": "stderr",
       "text": [
        "  10\n"
       ]
      },
      {
       "output_type": "stream",
       "stream": "stderr",
       "text": [
        "INFO:Mozaik:2.13799805637\n"
       ]
      },
      {
       "output_type": "stream",
       "stream": "stderr",
       "text": [
        "  2.13799805637\n"
       ]
      },
      {
       "output_type": "stream",
       "stream": "stderr",
       "text": [
        "INFO:Mozaik:2.04081632653\n"
       ]
      },
      {
       "output_type": "stream",
       "stream": "stderr",
       "text": [
        "  2.04081632653\n"
       ]
      },
      {
       "output_type": "stream",
       "stream": "stderr",
       "text": [
        "INFO:Mozaik:0.0454545454545\n"
       ]
      },
      {
       "output_type": "stream",
       "stream": "stderr",
       "text": [
        "  0.0454545454545\n"
       ]
      },
      {
       "output_type": "stream",
       "stream": "stderr",
       "text": [
        "INFO:Mozaik:34096\n"
       ]
      },
      {
       "output_type": "stream",
       "stream": "stderr",
       "text": [
        "  34096\n"
       ]
      },
      {
       "output_type": "stream",
       "stream": "stderr",
       "text": [
        "INFO:Mozaik:(0.0, 0.13333333333333333, 0.26666666666666666, 0.4, 0.5333333333333333, 0.6666666666666666, 0.8, 0.9333333333333333, 1.0666666666666667, 1.2, 1.3333333333333333, 1.4666666666666666, 1.6, 1.7333333333333334, 1.8666666666666667, 2.0)\n"
       ]
      },
      {
       "output_type": "stream",
       "stream": "stderr",
       "text": [
        "  (0.0, 0.13333333333333333, 0.26666666666666666, 0.4, 0.5333333333333333, 0.6666666666666666, 0.8, 0.9333333333333333, 1.0666666666666667, 1.2, 1.3333333333333333, 1.4666666666666666, 1.6, 1.7333333333333334, 1.8666666666666667, 2.0)\n"
       ]
      },
      {
       "output_type": "stream",
       "stream": "stderr",
       "text": [
        "INFO:Mozaik:(0.097181729834791064, 0.77745383867832851, 0.48590864917395538, 0.97181729834791075, 1.8464528668610307, 1.554907677356657, 0.48590864917395538, 1.263362487852284, 0.6802721088435375, 0.6802721088435375, 0.87463556851311952, 0.38872691933916426, 0.97181729834791075, 0.48590864917395538, 0.29154518950437319, 0.48590864917395538)\n"
       ]
      },
      {
       "output_type": "stream",
       "stream": "stderr",
       "text": [
        "  (0.097181729834791064, 0.77745383867832851, 0.48590864917395538, 0.97181729834791075, 1.8464528668610307, 1.554907677356657, 0.48590864917395538, 1.263362487852284, 0.6802721088435375, 0.6802721088435375, 0.87463556851311952, 0.38872691933916426, 0.97181729834791075, 0.48590864917395538, 0.29154518950437319, 0.48590864917395538)\n"
       ]
      },
      {
       "output_type": "stream",
       "stream": "stderr",
       "text": [
        "INFO:Mozaik:4\n"
       ]
      },
      {
       "output_type": "stream",
       "stream": "stderr",
       "text": [
        "  4\n"
       ]
      },
      {
       "output_type": "stream",
       "stream": "stderr",
       "text": [
        "INFO:Mozaik:5\n"
       ]
      },
      {
       "output_type": "stream",
       "stream": "stderr",
       "text": [
        "  5\n"
       ]
      },
      {
       "output_type": "stream",
       "stream": "stderr",
       "text": [
        "INFO:Mozaik:1.84645286686\n"
       ]
      },
      {
       "output_type": "stream",
       "stream": "stderr",
       "text": [
        "  1.84645286686\n"
       ]
      },
      {
       "output_type": "stream",
       "stream": "stderr",
       "text": [
        "INFO:Mozaik:1.55490767736\n"
       ]
      },
      {
       "output_type": "stream",
       "stream": "stderr",
       "text": [
        "  1.55490767736\n"
       ]
      },
      {
       "output_type": "stream",
       "stream": "stderr",
       "text": [
        "INFO:Mozaik:0.157894736842\n"
       ]
      },
      {
       "output_type": "stream",
       "stream": "stderr",
       "text": [
        "  0.157894736842\n"
       ]
      },
      {
       "output_type": "stream",
       "stream": "stderr",
       "text": [
        "INFO:Mozaik:35285\n"
       ]
      },
      {
       "output_type": "stream",
       "stream": "stderr",
       "text": [
        "  35285\n"
       ]
      },
      {
       "output_type": "stream",
       "stream": "stderr",
       "text": [
        "INFO:Mozaik:(0.0, 0.13333333333333333, 0.26666666666666666, 0.4, 0.5333333333333333, 0.6666666666666666, 0.8, 0.9333333333333333, 1.0666666666666667, 1.2, 1.3333333333333333, 1.4666666666666666, 1.6, 1.7333333333333334, 1.8666666666666667, 2.0)\n"
       ]
      },
      {
       "output_type": "stream",
       "stream": "stderr",
       "text": [
        "  (0.0, 0.13333333333333333, 0.26666666666666666, 0.4, 0.5333333333333333, 0.6666666666666666, 0.8, 0.9333333333333333, 1.0666666666666667, 1.2, 1.3333333333333333, 1.4666666666666666, 1.6, 1.7333333333333334, 1.8666666666666667, 2.0)\n"
       ]
      },
      {
       "output_type": "stream",
       "stream": "stderr",
       "text": [
        "INFO:Mozaik:(0.29154518950437319, 1.457725947521866, 0.87463556851311952, 1.749271137026239, 1.7492711370262395, 1.8464528668610303, 1.360544217687075, 0.97181729834791075, 1.749271137026239, 1.8464528668610303, 2.3323615160349851, 2.0408163265306127, 1.457725947521866, 2.0408163265306127, 1.0689990281827018, 1.749271137026239)\n"
       ]
      },
      {
       "output_type": "stream",
       "stream": "stderr",
       "text": [
        "  (0.29154518950437319, 1.457725947521866, 0.87463556851311952, 1.749271137026239, 1.7492711370262395, 1.8464528668610303, 1.360544217687075, 0.97181729834791075, 1.749271137026239, 1.8464528668610303, 2.3323615160349851, 2.0408163265306127, 1.457725947521866, 2.0408163265306127, 1.0689990281827018, 1.749271137026239)\n"
       ]
      },
      {
       "output_type": "stream",
       "stream": "stderr",
       "text": [
        "INFO:Mozaik:10\n"
       ]
      },
      {
       "output_type": "stream",
       "stream": "stderr",
       "text": [
        "  10\n"
       ]
      },
      {
       "output_type": "stream",
       "stream": "stderr",
       "text": [
        "INFO:Mozaik:11\n"
       ]
      },
      {
       "output_type": "stream",
       "stream": "stderr",
       "text": [
        "  11\n"
       ]
      },
      {
       "output_type": "stream",
       "stream": "stderr",
       "text": [
        "INFO:Mozaik:2.33236151603\n"
       ]
      },
      {
       "output_type": "stream",
       "stream": "stderr",
       "text": [
        "  2.33236151603\n"
       ]
      },
      {
       "output_type": "stream",
       "stream": "stderr",
       "text": [
        "INFO:Mozaik:2.04081632653\n"
       ]
      },
      {
       "output_type": "stream",
       "stream": "stderr",
       "text": [
        "  2.04081632653\n"
       ]
      },
      {
       "output_type": "stream",
       "stream": "stderr",
       "text": [
        "INFO:Mozaik:0.125\n"
       ]
      },
      {
       "output_type": "stream",
       "stream": "stderr",
       "text": [
        "  0.125\n"
       ]
      },
      {
       "output_type": "stream",
       "stream": "stderr",
       "text": [
        "INFO:Mozaik:35601\n"
       ]
      },
      {
       "output_type": "stream",
       "stream": "stderr",
       "text": [
        "  35601\n"
       ]
      },
      {
       "output_type": "stream",
       "stream": "stderr",
       "text": [
        "INFO:Mozaik:(0.0, 0.13333333333333333, 0.26666666666666666, 0.4, 0.5333333333333333, 0.6666666666666666, 0.8, 0.9333333333333333, 1.0666666666666667, 1.2, 1.3333333333333333, 1.4666666666666666, 1.6, 1.7333333333333334, 1.8666666666666667, 2.0)\n"
       ]
      },
      {
       "output_type": "stream",
       "stream": "stderr",
       "text": [
        "  (0.0, 0.13333333333333333, 0.26666666666666666, 0.4, 0.5333333333333333, 0.6666666666666666, 0.8, 0.9333333333333333, 1.0666666666666667, 1.2, 1.3333333333333333, 1.4666666666666666, 1.6, 1.7333333333333334, 1.8666666666666667, 2.0)\n"
       ]
      },
      {
       "output_type": "stream",
       "stream": "stderr",
       "text": [
        "INFO:Mozaik:(0.097181729834791064, 1.1661807580174928, 1.0689990281827018, 1.6520894071914483, 2.2351797862001948, 1.7492711370262395, 1.360544217687075, 0.6802721088435375, 1.360544217687075, 1.457725947521866, 2.1379980563654035, 2.2351797862001943, 1.6520894071914483, 1.5549076773566572, 1.0689990281827018, 1.8464528668610307)\n"
       ]
      },
      {
       "output_type": "stream",
       "stream": "stderr",
       "text": [
        "  (0.097181729834791064, 1.1661807580174928, 1.0689990281827018, 1.6520894071914483, 2.2351797862001948, 1.7492711370262395, 1.360544217687075, 0.6802721088435375, 1.360544217687075, 1.457725947521866, 2.1379980563654035, 2.2351797862001943, 1.6520894071914483, 1.5549076773566572, 1.0689990281827018, 1.8464528668610307)\n"
       ]
      },
      {
       "output_type": "stream",
       "stream": "stderr",
       "text": [
        "INFO:Mozaik:4\n"
       ]
      },
      {
       "output_type": "stream",
       "stream": "stderr",
       "text": [
        "  4\n"
       ]
      },
      {
       "output_type": "stream",
       "stream": "stderr",
       "text": [
        "INFO:Mozaik:11\n"
       ]
      },
      {
       "output_type": "stream",
       "stream": "stderr",
       "text": [
        "  11\n"
       ]
      },
      {
       "output_type": "stream",
       "stream": "stderr",
       "text": [
        "INFO:Mozaik:2.2351797862\n"
       ]
      },
      {
       "output_type": "stream",
       "stream": "stderr",
       "text": [
        "  2.2351797862\n"
       ]
      },
      {
       "output_type": "stream",
       "stream": "stderr",
       "text": [
        "INFO:Mozaik:2.2351797862\n"
       ]
      },
      {
       "output_type": "stream",
       "stream": "stderr",
       "text": [
        "  2.2351797862\n"
       ]
      },
      {
       "output_type": "stream",
       "stream": "stderr",
       "text": [
        "INFO:Mozaik:1.98681650842e-16\n"
       ]
      },
      {
       "output_type": "stream",
       "stream": "stderr",
       "text": [
        "  1.98681650842e-16\n"
       ]
      },
      {
       "output_type": "stream",
       "stream": "stderr",
       "text": [
        "INFO:Mozaik:Warning: ADS with the same parametrization already added in the datastore.: {\"module_path\" :\"mozaik.analysis.data_structures\",\"analysis_algorithm\":'SizeTuningAnalysis', \"identifier\":'PerNeuronValue', \"name\":'PerNeuronValue', \"neuron\":None, \"period\":None, \"sheet_name\":'V1_Exc_L2/3', \"stimulus_id\":'{\"module_path\" :\"mozaik.stimuli.vision.topographica_based\",\"background_luminance\":50.0, \"contrast\":100, \"density\":6.000000000002401, \"direct_stimulation_name\":\\'None\\', \"duration\":1029, \"frame_duration\":7, \"location_x\":0.0, \"location_y\":0.0, \"name\":\\'DriftingSinusoidalGratingDisk\\', \"orientation\":0, \"radius\":None, \"size_x\":10.0, \"size_y\":10.0, \"spatial_frequency\":0.8, \"temporal_frequency\":2, \"trial\":None}', \"value_name\":'Max. facilitation radius of Firing rate'}\n"
       ]
      },
      {
       "output_type": "stream",
       "stream": "stderr",
       "text": [
        "  Warning: ADS with the same parametrization already added in the datastore.: {\"module_path\" :\"mozaik.analysis.data_structures\",\"analysis_algorithm\":'SizeTuningAnalysis', \"identifier\":'PerNeuronValue', \"name\":'PerNeuronValue', \"neuron\":None, \"period\":None, \"sheet_name\":'V1_Exc_L2/3', \"stimulus_id\":'{\"module_path\" :\"mozaik.stimuli.vision.topographica_based\",\"background_luminance\":50.0, \"contrast\":100, \"density\":6.000000000002401, \"direct_stimulation_name\":\\'None\\', \"duration\":1029, \"frame_duration\":7, \"location_x\":0.0, \"location_y\":0.0, \"name\":\\'DriftingSinusoidalGratingDisk\\', \"orientation\":0, \"radius\":None, \"size_x\":10.0, \"size_y\":10.0, \"spatial_frequency\":0.8, \"temporal_frequency\":2, \"trial\":None}', \"value_name\":'Max. facilitation radius of Firing rate'}\n"
       ]
      },
      {
       "output_type": "stream",
       "stream": "stderr",
       "text": [
        "INFO:Mozaik:Warning: ADS with the same parametrization already added in the datastore.: {\"module_path\" :\"mozaik.analysis.data_structures\",\"analysis_algorithm\":'SizeTuningAnalysis', \"identifier\":'PerNeuronValue', \"name\":'PerNeuronValue', \"neuron\":None, \"period\":None, \"sheet_name\":'V1_Exc_L2/3', \"stimulus_id\":'{\"module_path\" :\"mozaik.stimuli.vision.topographica_based\",\"background_luminance\":50.0, \"contrast\":100, \"density\":6.000000000002401, \"direct_stimulation_name\":\\'None\\', \"duration\":1029, \"frame_duration\":7, \"location_x\":0.0, \"location_y\":0.0, \"name\":\\'DriftingSinusoidalGratingDisk\\', \"orientation\":0, \"radius\":None, \"size_x\":10.0, \"size_y\":10.0, \"spatial_frequency\":0.8, \"temporal_frequency\":2, \"trial\":None}', \"value_name\":'Max. suppressive radius of Firing rate'}\n"
       ]
      },
      {
       "output_type": "stream",
       "stream": "stderr",
       "text": [
        "  Warning: ADS with the same parametrization already added in the datastore.: {\"module_path\" :\"mozaik.analysis.data_structures\",\"analysis_algorithm\":'SizeTuningAnalysis', \"identifier\":'PerNeuronValue', \"name\":'PerNeuronValue', \"neuron\":None, \"period\":None, \"sheet_name\":'V1_Exc_L2/3', \"stimulus_id\":'{\"module_path\" :\"mozaik.stimuli.vision.topographica_based\",\"background_luminance\":50.0, \"contrast\":100, \"density\":6.000000000002401, \"direct_stimulation_name\":\\'None\\', \"duration\":1029, \"frame_duration\":7, \"location_x\":0.0, \"location_y\":0.0, \"name\":\\'DriftingSinusoidalGratingDisk\\', \"orientation\":0, \"radius\":None, \"size_x\":10.0, \"size_y\":10.0, \"spatial_frequency\":0.8, \"temporal_frequency\":2, \"trial\":None}', \"value_name\":'Max. suppressive radius of Firing rate'}\n"
       ]
      },
      {
       "output_type": "stream",
       "stream": "stderr",
       "text": [
        "INFO:Mozaik:Warning: ADS with the same parametrization already added in the datastore.: {\"module_path\" :\"mozaik.analysis.data_structures\",\"analysis_algorithm\":'SizeTuningAnalysis', \"identifier\":'PerNeuronValue', \"name\":'PerNeuronValue', \"neuron\":None, \"period\":None, \"sheet_name\":'V1_Exc_L2/3', \"stimulus_id\":'{\"module_path\" :\"mozaik.stimuli.vision.topographica_based\",\"background_luminance\":50.0, \"contrast\":100, \"density\":6.000000000002401, \"direct_stimulation_name\":\\'None\\', \"duration\":1029, \"frame_duration\":7, \"location_x\":0.0, \"location_y\":0.0, \"name\":\\'DriftingSinusoidalGratingDisk\\', \"orientation\":0, \"radius\":None, \"size_x\":10.0, \"size_y\":10.0, \"spatial_frequency\":0.8, \"temporal_frequency\":2, \"trial\":None}', \"value_name\":'Suppression index of Firing rate'}\n"
       ]
      },
      {
       "output_type": "stream",
       "stream": "stderr",
       "text": [
        "  Warning: ADS with the same parametrization already added in the datastore.: {\"module_path\" :\"mozaik.analysis.data_structures\",\"analysis_algorithm\":'SizeTuningAnalysis', \"identifier\":'PerNeuronValue', \"name\":'PerNeuronValue', \"neuron\":None, \"period\":None, \"sheet_name\":'V1_Exc_L2/3', \"stimulus_id\":'{\"module_path\" :\"mozaik.stimuli.vision.topographica_based\",\"background_luminance\":50.0, \"contrast\":100, \"density\":6.000000000002401, \"direct_stimulation_name\":\\'None\\', \"duration\":1029, \"frame_duration\":7, \"location_x\":0.0, \"location_y\":0.0, \"name\":\\'DriftingSinusoidalGratingDisk\\', \"orientation\":0, \"radius\":None, \"size_x\":10.0, \"size_y\":10.0, \"spatial_frequency\":0.8, \"temporal_frequency\":2, \"trial\":None}', \"value_name\":'Suppression index of Firing rate'}\n"
       ]
      },
      {
       "output_type": "stream",
       "stream": "stderr",
       "text": [
        "WARNING:Mozaik:SizeTuningAnalysis analysis took: 3.23609304428seconds\n"
       ]
      },
      {
       "output_type": "stream",
       "stream": "stderr",
       "text": [
        "SizeTuningAnalysis analysis took: 3.23609304428seconds\n"
       ]
      }
     ],
     "prompt_number": 13
    },
    {
     "cell_type": "code",
     "collapsed": false,
     "input": [
      "from contrib import lsv1m_paper\n",
      "reload(lsv1m_paper)\n",
      "lsv1m_paper.SizeTuningOverview(data_store,ParameterSet({'l4_neurons' : list(center4),'l23_neurons' : list(center23),'l4_neurons_analog' : list(analog_center4),'l23_neurons_analog' : list(analog_center23)}),plot_file_name='SizeTuningOverview.png',fig_param={'dpi' : 300,'figsize': (18,8)}).plot()"
     ],
     "language": "python",
     "metadata": {},
     "outputs": [
      {
       "output_type": "stream",
       "stream": "stdout",
       "text": [
        "0.836236933798\n",
        "36.0\n",
        "40\n",
        "1.96515679443\n",
        "36.0\n",
        "40\n",
        "0.971428571429"
       ]
      },
      {
       "output_type": "stream",
       "stream": "stdout",
       "text": [
        "\n",
        "36.0\n",
        "40\n",
        "1.55714285714\n",
        "36.0\n",
        "40\n",
        "0.173427591571"
       ]
      },
      {
       "output_type": "stream",
       "stream": "stdout",
       "text": [
        "\n",
        "36.0\n",
        "40\n",
        "0.145040407741\n",
        "36.0\n",
        "40\n",
        "0.182755112233"
       ]
      },
      {
       "output_type": "stream",
       "stream": "stderr",
       "text": [
        "WARNING:Mozaik:SizeTuningOverview plotting took: 24.8259339333seconds\n"
       ]
      },
      {
       "output_type": "stream",
       "stream": "stderr",
       "text": [
        "SizeTuningOverview plotting took: 24.8259339333seconds\n"
       ]
      },
      {
       "output_type": "stream",
       "stream": "stdout",
       "text": [
        "\n",
        "36.0\n",
        "40\n",
        "0.12298242232\n",
        "36.0\n",
        "40\n"
       ]
      },
      {
       "metadata": {},
       "output_type": "display_data",
       "png": "[encoded data removed]",
       "text": [
        "<matplotlib.figure.Figure at 0x7fb9e9a22ad0>"
       ]
      }
     ],
     "prompt_number": 7
    },
    {
     "cell_type": "code",
     "collapsed": false,
     "input": [],
     "language": "python",
     "metadata": {},
     "outputs": []
    }
   ],
   "metadata": {}
  }
 ]
}