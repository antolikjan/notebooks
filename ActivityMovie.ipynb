{
 "cells": [
  {
   "cell_type": "code",
   "execution_count": 5,
   "metadata": {},
   "outputs": [
    {
     "name": "stdout",
     "output_type": "stream",
     "text": [
      "[u'imagemagick_file', u'imagemagick', u'ffmpeg', u'ffmpeg_file', u'avconv', u'avconv_file']\n"
     ]
    }
   ],
   "source": [
    "import matplotlib.animation\n",
    "print matplotlib.animation.writers.list()\n",
    "import sys\n",
    "sys.path.append('/home/jan/cluster/dev/pkg/mozaik/mozaik/')\n",
    "import numpy\n",
    "import mozaik\n",
    "from mozaik.controller import run_workflow, setup_logging\n",
    "from mozaik.storage.datastore import Hdf5DataStore,PickledDataStore\n",
    "from parameters import ParameterSet\n",
    "from mozaik.visualization.plotting import *\n",
    "\n",
    "from mozaik.analysis.technical import NeuronAnnotationsToPerNeuronValues\n",
    "from mozaik.tools.mozaik_parametrized import colapse, colapse_to_dictionary, MozaikParametrized\n",
    "from mozaik.analysis.analysis import *\n",
    "from mozaik.analysis.vision import *\n",
    "from mozaik.storage.queries import *\n",
    "import sys\n",
    "sys.path.append('/home/jan/cluster/dev/pkg/mozaik/mozaik/contrib/PushPullCCLISSOMModelSSIzL23')\n",
    "sys.path.append('/home/jan/cluster/dev/pkg/mozaik/mozaik/contrib/')\n",
    "#from analysis_and_visualization import perform_analysis_and_visualization\n",
    "\n",
    "setup_logging()\n",
    "\n",
    "data_store = PickledDataStore(load=True,parameters=ParameterSet({'root_directory':'/home/antolikjan/remote/cluster/projects/mozaik/contrib/MorganTaylorModel/20170918-170532[param_random_and_fast_afferent_delay.defaults]CombinationParamSearch{14}/MorganTaylorModel_ParameterSearch_____size:0.15_tau_rec:1_sigma:1.6_base_weight:0.0021_inhibitory_connection_ratio:0.75_tau_syn_I:1.9_v_thresh:-56_density:4000_gain:20_contrast_scaler:200000_luminance_gain:0.0_stdev:2.2_sigma_c:0.2_sigma_s:0.5', 'store_stimuli': False}),replace=True)\n",
    "\n",
    "                  \n",
    "\n"
   ]
  },
  {
   "cell_type": "code",
   "execution_count": 6,
   "metadata": {
    "collapsed": true
   },
   "outputs": [],
   "source": [
    "dsv = queries.param_filter_query(data_store,st_name='FlashedBar')\n",
    "for ads in dsv.get_analysis_result():\n",
    "            sid = MozaikParametrized.idd(ads.stimulus_id)\n",
    "            sid.x=0\n",
    "            ads.stimulus_id = str(sid)\n",
    "for seg in dsv.get_segments():    \n",
    "            sid = MozaikParametrized.idd(seg.annotations['stimulus'])\n",
    "            sid.x=0\n",
    "            seg.annotations['stimulus'] = str(sid)\n"
   ]
  },
  {
   "cell_type": "code",
   "execution_count": 8,
   "metadata": {},
   "outputs": [
    {
     "name": "stderr",
     "output_type": "stream",
     "text": [
      "ActivityMovie plotting took: 47.6876089573seconds\n",
      "ActivityMovie plotting took: 47.6876089573seconds\n"
     ]
    }
   ],
   "source": [
    "reload(mozaik.visualization.plotting)\n",
    "#dsv = param_filter_query(data_store,st_name='DriftingSinusoidalGratingCenterSurroundStimulus')   \n",
    "#dsv = param_filter_query(data_store,st_name='DriftingSinusoidalGratingDisk',st_radius=[0.77777777777777779,1.5555555555555556])   \n",
    "#dsv = param_filter_query(data_store,st_direct_stimulation_name=\"None\")   \n",
    "dsv = param_filter_query(data_store,st_name=\"FlashedBar\",st_relative_luminance=1.0,st_y=[0.55147058823529393479,0.11029411764705887578,-0.77205882352941168634,0.99264705882352943789,-0.55147058823529415683,0.77205882352941168634,0.33088235294117662733,-0.33088235294117662733,-0.99264705882352943789,-0.11029411764705887578])   \n",
    "mozaik.visualization.plotting.ActivityMovie(dsv,ParameterSet({'bin_width': 100.0,'scatter':  True,'resolution': 10,'sheet_name': 'X_OFF','exp_time_constant' : 0}),fig_param={'dpi' : 100,'figsize': (13,6)},plot_file_name='stc4').plot()\n",
    "#mozaik.visualization.plotting.ActivityMovie(dsv,ParameterSet({'bin_width': 5.0,'scatter':  True,'resolution': 10,'sheet_name': 'V1_Exc_L2/3'}),fig_param={'dpi' : 100,'figsize': (13,6)},plot_file_name='stc23').plot()"
   ]
  },
  {
   "cell_type": "code",
   "execution_count": null,
   "metadata": {
    "collapsed": true
   },
   "outputs": [],
   "source": []
  }
 ],
 "metadata": {
  "kernelspec": {
   "display_name": "Python 2",
   "language": "python",
   "name": "python2"
  },
  "language_info": {
   "codemirror_mode": {
    "name": "ipython",
    "version": 2
   },
   "file_extension": ".py",
   "mimetype": "text/x-python",
   "name": "python",
   "nbconvert_exporter": "python",
   "pygments_lexer": "ipython2",
   "version": "2.7.15+"
  }
 },
 "nbformat": 4,
 "nbformat_minor": 1
}
