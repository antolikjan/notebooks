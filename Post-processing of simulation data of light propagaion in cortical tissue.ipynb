{
 "cells": [
  {
   "cell_type": "code",
   "execution_count": 1,
   "metadata": {},
   "outputs": [],
   "source": [
    "import numpy as np\n",
    "import pylab\n",
    "import scipy.interpolate\n",
    "import pyexcel as pe"
   ]
  },
  {
   "cell_type": "code",
   "execution_count": 6,
   "metadata": {},
   "outputs": [
    {
     "name": "stdout",
     "output_type": "stream",
     "text": [
      "0\n",
      "-60\n",
      "-120\n",
      "-180\n",
      "-240\n",
      "-300\n",
      "-360\n",
      "-420\n",
      "-480\n",
      "-540\n",
      "-600\n",
      "-660\n",
      "-720\n",
      "-780\n",
      "-840\n",
      "-900\n",
      "-960\n",
      "-1020\n",
      "Deprecated usage. Please use [row, column]\n",
      "[u'Y\\\\X', u'-299.7', u'-299.101', u'-298.501', u'-297.902', u'-297.303', u'-296.703', u'-296.104', u'-295.504', u'-294.905', u'-294.306', u'-293.706', u'-293.107', u'-292.507', u'-291.908', u'-291.309', u'-290.709', u'-290.11', u'-289.51', u'-288.911', u'-288.312', u'-287.712', u'-287.113', u'-286.513', u'-285.914', u'-285.315', u'-284.715', u'-284.116', u'-283.516', u'-282.917', u'-282.318', u'-281.718', u'-281.119', u'-280.519', u'-279.92', u'-279.321', u'-278.721', u'-278.122', u'-277.522', u'-276.923', u'-276.324', u'-275.724', u'-275.125', u'-274.525', u'-273.926', u'-273.327', u'-272.727', u'-272.128', u'-271.528', u'-270.929', u'-270.33', u'-269.73', u'-269.131', u'-268.531', u'-267.932', u'-267.333', u'-266.733', u'-266.134', u'-265.534', u'-264.935', u'-264.336', u'-263.736', u'-263.137', u'-262.537', u'-261.938', u'-261.339', u'-260.739', u'-260.14', u'-259.54', u'-258.941', u'-258.342', u'-257.742', u'-257.143', u'-256.543', u'-255.944', u'-255.345', u'-254.745', u'-254.146', u'-253.546', u'-252.947', u'-252.348', u'-251.748', u'-251.149', u'-250.549', u'-249.95', u'-249.351', u'-248.751', u'-248.152', u'-247.552', u'-246.953', u'-246.354', u'-245.754', u'-245.155', u'-244.555', u'-243.956', u'-243.357', u'-242.757', u'-242.158', u'-241.558', u'-240.959', u'-240.36', u'-239.76', u'-239.161', u'-238.561', u'-237.962', u'-237.363', u'-236.763', u'-236.164', u'-235.564', u'-234.965', u'-234.366', u'-233.766', u'-233.167', u'-232.567', u'-231.968', u'-231.369', u'-230.769', u'-230.17', u'-229.57', u'-228.971', u'-228.372', u'-227.772', u'-227.173', u'-226.573', u'-225.974', u'-225.375', u'-224.775', u'-224.176', u'-223.576', u'-222.977', u'-222.378', u'-221.778', u'-221.179', u'-220.579', u'-219.98', u'-219.381', u'-218.781', u'-218.182', u'-217.582', u'-216.983', u'-216.384', u'-215.784', u'-215.185', u'-214.585', u'-213.986', u'-213.387', u'-212.787', u'-212.188', u'-211.588', u'-210.989', u'-210.39', u'-209.79', u'-209.191', u'-208.591', u'-207.992', u'-207.393', u'-206.793', u'-206.194', u'-205.594', u'-204.995', u'-204.396', u'-203.796', u'-203.197', u'-202.597', u'-201.998', u'-201.399', u'-200.799', u'-200.2', u'-199.6', u'-199.001', u'-198.402', u'-197.802', u'-197.203', u'-196.603', u'-196.004', u'-195.405', u'-194.805', u'-194.206', u'-193.606', u'-193.007', u'-192.408', u'-191.808', u'-191.209', u'-190.609', u'-190.01', u'-189.411', u'-188.811', u'-188.212', u'-187.612', u'-187.013', u'-186.414', u'-185.814', u'-185.215', u'-184.615', u'-184.016', u'-183.417', u'-182.817', u'-182.218', u'-181.618', u'-181.019', u'-180.42', u'-179.82', u'-179.221', u'-178.621', u'-178.022', u'-177.423', u'-176.823', u'-176.224', u'-175.624', u'-175.025', u'-174.426', u'-173.826', u'-173.227', u'-172.627', u'-172.028', u'-171.429', u'-170.829', u'-170.23', u'-169.63', u'-169.031', u'-168.432', u'-167.832', u'-167.233', u'-166.633', u'-166.034', u'-165.435', u'-164.835', u'-164.236', u'-163.636', u'-163.037', u'-162.438', u'-161.838', u'-161.239', u'-160.639', u'-160.04', u'-159.441', u'-158.841', u'-158.242', u'-157.642', u'-157.043', u'-156.444', u'-155.844', u'-155.245', u'-154.645', u'-154.046', u'-153.447', u'-152.847', u'-152.248', u'-151.648', u'-151.049', u'-150.45', u'-149.85', u'-149.251', u'-148.651', u'-148.052', u'-147.453', u'-146.853', u'-146.254', u'-145.654', u'-145.055', u'-144.456', u'-143.856', u'-143.257', u'-142.657', u'-142.058', u'-141.459', u'-140.859', u'-140.26', u'-139.66', u'-139.061', u'-138.462', u'-137.862', u'-137.263', u'-136.663', u'-136.064', u'-135.465', u'-134.865', u'-134.266', u'-133.666', u'-133.067', u'-132.468', u'-131.868', u'-131.269', u'-130.669', u'-130.07', u'-129.471', u'-128.871', u'-128.272', u'-127.672', u'-127.073', u'-126.474', u'-125.874', u'-125.275', u'-124.675', u'-124.076', u'-123.477', u'-122.877', u'-122.278', u'-121.678', u'-121.079', u'-120.48', u'-119.88', u'-119.281', u'-118.681', u'-118.082', u'-117.483', u'-116.883', u'-116.284', u'-115.684', u'-115.085', u'-114.486', u'-113.886', u'-113.287', u'-112.687', u'-112.088', u'-111.489', u'-110.889', u'-110.29', u'-109.69', u'-109.091', u'-108.492', u'-107.892', u'-107.293', u'-106.693', u'-106.094', u'-105.495', u'-104.895', u'-104.296', u'-103.696', u'-103.097', u'-102.498', u'-101.898', u'-101.299', u'-100.699', u'-100.1', u'-99.5005', u'-98.9011', u'-98.3017', u'-97.7023', u'-97.1029', u'-96.5035', u'-95.9041', u'-95.3047', u'-94.7053', u'-94.1059', u'-93.5065', u'-92.9071', u'-92.3077', u'-91.7083', u'-91.1089', u'-90.5095', u'-89.9101', u'-89.3107', u'-88.7113', u'-88.1119', u'-87.5125', u'-86.9131', u'-86.3137', u'-85.7143', u'-85.1149', u'-84.5155', u'-83.9161', u'-83.3167', u'-82.7173', u'-82.1179', u'-81.5185', u'-80.9191', u'-80.3197', u'-79.7203', u'-79.1209', u'-78.5215', u'-77.9221', u'-77.3227', u'-76.7233', u'-76.1239', u'-75.5245', u'-74.9251', u'-74.3257', u'-73.7263', u'-73.1269', u'-72.5275', u'-71.9281', u'-71.3287', u'-70.7293', u'-70.1299', u'-69.5305', u'-68.9311', u'-68.3317', u'-67.7323', u'-67.1329', u'-66.5335', u'-65.9341', u'-65.3347', u'-64.7353', u'-64.1359', u'-63.5365', u'-62.9371', u'-62.3377', u'-61.7383', u'-61.1389', u'-60.5395', u'-59.9401', u'-59.3407', u'-58.7413', u'-58.1419', u'-57.5425', u'-56.9431', u'-56.3437', u'-55.7443', u'-55.1449', u'-54.5455', u'-53.9461', u'-53.3467', u'-52.7473', u'-52.1479', u'-51.5485', u'-50.9491', u'-50.3497', u'-49.7502', u'-49.1508', u'-48.5514', u'-47.952', u'-47.3526', u'-46.7532', u'-46.1538', u'-45.5544', u'-44.955', u'-44.3556', u'-43.7562', u'-43.1568', u'-42.5574', u'-41.958', u'-41.3586', u'-40.7592', u'-40.1598', u'-39.5604', u'-38.961', u'-38.3616', u'-37.7622', u'-37.1628', u'-36.5634', u'-35.964', u'-35.3646', u'-34.7652', u'-34.1658', u'-33.5664', u'-32.967', u'-32.3676', u'-31.7682', u'-31.1688', u'-30.5694', u'-29.97', u'-29.3706', u'-28.7712', u'-28.1718', u'-27.5724', u'-26.973', u'-26.3736', u'-25.7742', u'-25.1748', u'-24.5754', u'-23.976', u'-23.3766', u'-22.7772', u'-22.1778', u'-21.5784', u'-20.979', u'-20.3796', u'-19.7802', u'-19.1808', u'-18.5814', u'-17.982', u'-17.3826', u'-16.7832', u'-16.1838', u'-15.5844', u'-14.985', u'-14.3856', u'-13.7862', u'-13.1868', u'-12.5874', u'-11.988', u'-11.3886', u'-10.7892', u'-10.1898', u'-9.59041', u'-8.99101', u'-8.39161', u'-7.79221', u'-7.19281', u'-6.59341', u'-5.99401', u'-5.39461', u'-4.7952', u'-4.1958', u'-3.5964', u'-2.997', u'-2.3976', u'-1.7982', u'-1.1988', u'-0.599401', u'2.55063e-012', u'0.599401', u'1.1988', u'1.7982', u'2.3976', u'2.997', u'3.5964', u'4.1958', u'4.7952', u'5.39461', u'5.99401', u'6.59341', u'7.19281', u'7.79221', u'8.39161', u'8.99101', u'9.59041', u'10.1898', u'10.7892', u'11.3886', u'11.988', u'12.5874', u'13.1868', u'13.7862', u'14.3856', u'14.985', u'15.5844', u'16.1838', u'16.7832', u'17.3826', u'17.982', u'18.5814', u'19.1808', u'19.7802', u'20.3796', u'20.979', u'21.5784', u'22.1778', u'22.7772', u'23.3766', u'23.976', u'24.5754', u'25.1748', u'25.7742', u'26.3736', u'26.973', u'27.5724', u'28.1718', u'28.7712', u'29.3706', u'29.97', u'30.5694', u'31.1688', u'31.7682', u'32.3676', u'32.967', u'33.5664', u'34.1658', u'34.7652', u'35.3646', u'35.964', u'36.5634', u'37.1628', u'37.7622', u'38.3616', u'38.961', u'39.5604', u'40.1598', u'40.7592', u'41.3586', u'41.958', u'42.5574', u'43.1568', u'43.7562', u'44.3556', u'44.955', u'45.5544', u'46.1538', u'46.7532', u'47.3526', u'47.952', u'48.5514', u'49.1508', u'49.7502', u'50.3497', u'50.9491', u'51.5485', u'52.1479', u'52.7473', u'53.3467', u'53.9461', u'54.5455', u'55.1449', u'55.7443', u'56.3437', u'56.9431', u'57.5425', u'58.1419', u'58.7413', u'59.3407', u'59.9401', u'60.5395', u'61.1389', u'61.7383', u'62.3377', u'62.9371', u'63.5365', u'64.1359', u'64.7353', u'65.3347', u'65.9341', u'66.5335', u'67.1329', u'67.7323', u'68.3317', u'68.9311', u'69.5305', u'70.1299', u'70.7293', u'71.3287', u'71.9281', u'72.5275', u'73.1269', u'73.7263', u'74.3257', u'74.9251', u'75.5245', u'76.1239', u'76.7233', u'77.3227', u'77.9221', u'78.5215', u'79.1209', u'79.7203', u'80.3197', u'80.9191', u'81.5185', u'82.1179', u'82.7173', u'83.3167', u'83.9161', u'84.5155', u'85.1149', u'85.7143', u'86.3137', u'86.9131', u'87.5125', u'88.1119', u'88.7113', u'89.3107', u'89.9101', u'90.5095', u'91.1089', u'91.7083', u'92.3077', u'92.9071', u'93.5065', u'94.1059', u'94.7053', u'95.3047', u'95.9041', u'96.5035', u'97.1029', u'97.7023', u'98.3017', u'98.9011', u'99.5005', u'100.1', u'100.699', u'101.299', u'101.898', u'102.498', u'103.097', u'103.696', u'104.296', u'104.895', u'105.495', u'106.094', u'106.693', u'107.293', u'107.892', u'108.492', u'109.091', u'109.69', u'110.29', u'110.889', u'111.489', u'112.088', u'112.687', u'113.287', u'113.886', u'114.486', u'115.085', u'115.684', u'116.284', u'116.883', u'117.483', u'118.082', u'118.681', u'119.281', u'119.88', u'120.48', u'121.079', u'121.678', u'122.278', u'122.877', u'123.477', u'124.076', u'124.675', u'125.275', u'125.874', u'126.474', u'127.073', u'127.672', u'128.272', u'128.871', u'129.471', u'130.07', u'130.669', u'131.269', u'131.868', u'132.468', u'133.067', u'133.666', u'134.266', u'134.865', u'135.465', u'136.064', u'136.663', u'137.263', u'137.862', u'138.462', u'139.061', u'139.66', u'140.26', u'140.859', u'141.459', u'142.058', u'142.657', u'143.257', u'143.856', u'144.456', u'145.055', u'145.654', u'146.254', u'146.853', u'147.453', u'148.052', u'148.651', u'149.251', u'149.85', u'150.45', u'151.049', u'151.648', u'152.248', u'152.847', u'153.447', u'154.046', u'154.645', u'155.245', u'155.844', u'156.444', u'157.043', u'157.642', u'158.242', u'158.841', u'159.441', u'160.04', u'160.639', u'161.239', u'161.838', u'162.438', u'163.037', u'163.636', u'164.236', u'164.835', u'165.435', u'166.034', u'166.633', u'167.233', u'167.832', u'168.432', u'169.031', u'169.63', u'170.23', u'170.829', u'171.429', u'172.028', u'172.627', u'173.227', u'173.826', u'174.426', u'175.025', u'175.624', u'176.224', u'176.823', u'177.423', u'178.022', u'178.621', u'179.221', u'179.82', u'180.42', u'181.019', u'181.618', u'182.218', u'182.817', u'183.417', u'184.016', u'184.615', u'185.215', u'185.814', u'186.414', u'187.013', u'187.612', u'188.212', u'188.811', u'189.411', u'190.01', u'190.609', u'191.209', u'191.808', u'192.408', u'193.007', u'193.606', u'194.206', u'194.805', u'195.405', u'196.004', u'196.603', u'197.203', u'197.802', u'198.402', u'199.001', u'199.6', u'200.2', u'200.799', u'201.399', u'201.998', u'202.597', u'203.197', u'203.796', u'204.396', u'204.995', u'205.594', u'206.194', u'206.793', u'207.393', u'207.992', u'208.591', u'209.191', u'209.79', u'210.39', u'210.989', u'211.588', u'212.188', u'212.787', u'213.387', u'213.986', u'214.585', u'215.185', u'215.784', u'216.384', u'216.983', u'217.582', u'218.182', u'218.781', u'219.381', u'219.98', u'220.579', u'221.179', u'221.778', u'222.378', u'222.977', u'223.576', u'224.176', u'224.775', u'225.375', u'225.974', u'226.573', u'227.173', u'227.772', u'228.372', u'228.971', u'229.57', u'230.17', u'230.769', u'231.369', u'231.968', u'232.567', u'233.167', u'233.766', u'234.366', u'234.965', u'235.564', u'236.164', u'236.763', u'237.363', u'237.962', u'238.561', u'239.161', u'239.76', u'240.36', u'240.959', u'241.558', u'242.158', u'242.757', u'243.357', u'243.956', u'244.555', u'245.155', u'245.754', u'246.354', u'246.953', u'247.552', u'248.152', u'248.751', u'249.351', u'249.95', u'250.549', u'251.149', u'251.748', u'252.348', u'252.947', u'253.546', u'254.146', u'254.745', u'255.345', u'255.944', u'256.543', u'257.143', u'257.742', u'258.342', u'258.941', u'259.54', u'260.14', u'260.739', u'261.339', u'261.938', u'262.537', u'263.137', u'263.736', u'264.336', u'264.935', u'265.534', u'266.134', u'266.733', u'267.333', u'267.932', u'268.531', u'269.131', u'269.73', u'270.33', u'270.929', u'271.528', u'272.128', u'272.727', u'273.327', u'273.926', u'274.525', u'275.125', u'275.724', u'276.324', u'276.923', u'277.522', u'278.122', u'278.721', u'279.321', u'279.92', u'280.519', u'281.119', u'281.718', u'282.318', u'282.917', u'283.516', u'284.116', u'284.715', u'285.315', u'285.914', u'286.513', u'287.113', u'287.712', u'288.312', u'288.911', u'289.51', u'290.11', u'290.709', u'291.309', u'291.908', u'292.507', u'293.107', u'293.706', u'294.306', u'294.905', u'295.504', u'296.104', u'296.703', u'297.303', u'297.902', u'298.501', u'299.101', u'299.7']\n"
     ]
    },
    {
     "name": "stdout",
     "output_type": "stream",
     "text": [
      "(1001, 1001)\n",
      "(1001, 1001)\n",
      "(1001, 1001)\n",
      "(1001, 1001)\n",
      "(1001, 1001)\n",
      "(1001, 1001)\n",
      "(1001, 1001)\n",
      "(1001, 1001)\n",
      "(1001, 1001)\n",
      "(1001, 1001)\n",
      "(1001, 1001)\n",
      "(1001, 1001)\n",
      "(1001, 1001)\n",
      "(1001, 1001)\n",
      "(1001, 1001)\n",
      "(1001, 1001)\n",
      "(1001, 1001)\n",
      "(1001, 1001)\n"
     ]
    }
   ],
   "source": [
    "def radial_profile(data, center):\n",
    "    y, x = np.indices((data.shape))\n",
    "    r = np.sqrt((x - center[0])**2 + (y - center[1])**2)\n",
    "    r = r.astype(np.int)\n",
    "\n",
    "    tbin = np.bincount(r.ravel(), data.ravel())\n",
    "    nr = np.bincount(r.ravel())\n",
    "    radialprofile = tbin / nr\n",
    "    return radialprofile \n",
    "\n",
    "radprofs =[]\n",
    "\n",
    "#records = pe.get_book(file_name=u\"/home/antolikjan/Downloads/Results1000µm_MultipleReceivers_Hitnumber1_620nm_20-10-17.xlsx\")\n",
    "\n",
    "records = pe.get_book(file_name=u\"/home/antolikjan/Downloads/Diffusion simulation_moreReceivers_1mm_590nm_lsd300_results.xlsx\")\n",
    "\n",
    "records = [s for s in records]\n",
    "\n",
    "\n",
    "\n",
    "for sheet in records:\n",
    "    print sheet.name\n",
    "    \n",
    "    \n",
    "depths = np.arange(0,1080,60)\n",
    "\n",
    "fl = np.vectorize(lambda x : float(x))\n",
    "\n",
    "print(sheet[0])\n",
    "\n",
    "for sheet in records:\n",
    "    table = fl(np.array([row for row in sheet])[1:,1:])\n",
    "    print np.shape(table)\n",
    "    radprofs.append(radial_profile(table,[500,500])) \n",
    "\n",
    "radprofs= np.array(radprofs)/np.max(radprofs)\n"
   ]
  },
  {
   "cell_type": "code",
   "execution_count": 7,
   "metadata": {},
   "outputs": [
    {
     "data": {
      "text/plain": [
       "[<matplotlib.lines.Line2D at 0x7f3bc14b7990>]"
      ]
     },
     "execution_count": 7,
     "metadata": {},
     "output_type": "execute_result"
    },
    {
     "data": {
      "image/png": "[encoded data removed]",
      "text/plain": [
       "<matplotlib.figure.Figure at 0x7f3bc168c990>"
      ]
     },
     "metadata": {},
     "output_type": "display_data"
    }
   ],
   "source": [
    "pylab.plot(radprofs[0])"
   ]
  },
  {
   "cell_type": "code",
   "execution_count": 43,
   "metadata": {},
   "outputs": [
    {
     "data": {
      "text/plain": [
       "(17, 708)"
      ]
     },
     "execution_count": 43,
     "metadata": {},
     "output_type": "execute_result"
    }
   ],
   "source": [
    "np.shape(radprofs)"
   ]
  },
  {
   "cell_type": "code",
   "execution_count": null,
   "metadata": {},
   "outputs": [],
   "source": [
    "print np.shape(radprofs)\n",
    "pylab.plot(np.sum(radprofs,axis=1))"
   ]
  },
  {
   "cell_type": "code",
   "execution_count": 25,
   "metadata": {},
   "outputs": [
    {
     "data": {
      "text/plain": [
       "2.7889005332000001"
      ]
     },
     "execution_count": 25,
     "metadata": {},
     "output_type": "execute_result"
    }
   ],
   "source": [
    "np.sum(fl(np.array([row for row in records[1]])[1:,1:]))\n"
   ]
  },
  {
   "cell_type": "code",
   "execution_count": 79,
   "metadata": {},
   "outputs": [
    {
     "data": {
      "text/plain": [
       "(501, 501)"
      ]
     },
     "execution_count": 79,
     "metadata": {},
     "output_type": "execute_result"
    }
   ],
   "source": [
    "table.shape"
   ]
  },
  {
   "cell_type": "code",
   "execution_count": 8,
   "metadata": {},
   "outputs": [],
   "source": [
    "import pickle\n",
    "f = open('light_scattering_radial_profiles_lsd300.pickle','w')\n",
    "pickle.dump(radprofs,f)\n",
    "f.close()"
   ]
  },
  {
   "cell_type": "code",
   "execution_count": 65,
   "metadata": {},
   "outputs": [
    {
     "name": "stdout",
     "output_type": "stream",
     "text": [
      "[[-600. -500. -400. -300. -200. -100.    0.  100.  200.  300.  400.  500.\n",
      "   600.]\n",
      " [-600. -500. -400. -300. -200. -100.    0.  100.  200.  300.  400.  500.\n",
      "   600.]\n",
      " [-600. -500. -400. -300. -200. -100.    0.  100.  200.  300.  400.  500.\n",
      "   600.]\n",
      " [-600. -500. -400. -300. -200. -100.    0.  100.  200.  300.  400.  500.\n",
      "   600.]\n",
      " [-600. -500. -400. -300. -200. -100.    0.  100.  200.  300.  400.  500.\n",
      "   600.]\n",
      " [-600. -500. -400. -300. -200. -100.    0.  100.  200.  300.  400.  500.\n",
      "   600.]\n",
      " [-600. -500. -400. -300. -200. -100.    0.  100.  200.  300.  400.  500.\n",
      "   600.]\n",
      " [-600. -500. -400. -300. -200. -100.    0.  100.  200.  300.  400.  500.\n",
      "   600.]\n",
      " [-600. -500. -400. -300. -200. -100.    0.  100.  200.  300.  400.  500.\n",
      "   600.]\n",
      " [-600. -500. -400. -300. -200. -100.    0.  100.  200.  300.  400.  500.\n",
      "   600.]\n",
      " [-600. -500. -400. -300. -200. -100.    0.  100.  200.  300.  400.  500.\n",
      "   600.]\n",
      " [-600. -500. -400. -300. -200. -100.    0.  100.  200.  300.  400.  500.\n",
      "   600.]\n",
      " [-600. -500. -400. -300. -200. -100.    0.  100.  200.  300.  400.  500.\n",
      "   600.]]\n"
     ]
    }
   ],
   "source": [
    "axis_coors = numpy.arange(0,1200+100,100) - 1200/2.0 \n",
    "stimulator_coordinates = numpy.meshgrid(axis_coors,axis_coors)\n",
    "\n",
    "print stimulator_coordinates[0]"
   ]
  },
  {
   "cell_type": "code",
   "execution_count": 9,
   "metadata": {},
   "outputs": [
    {
     "ename": "NameError",
     "evalue": "name 'numpy' is not defined",
     "output_type": "error",
     "traceback": [
      "\u001b[0;31m---------------------------------------------------------------------------\u001b[0m",
      "\u001b[0;31mNameError\u001b[0m                                 Traceback (most recent call last)",
      "\u001b[0;32m<ipython-input-9-ccce376541b7>\u001b[0m in \u001b[0;36m<module>\u001b[0;34m()\u001b[0m\n\u001b[1;32m      1\u001b[0m \u001b[0ma\u001b[0m \u001b[0;34m=\u001b[0m \u001b[0mradprofs\u001b[0m\u001b[0;34m[\u001b[0m\u001b[0;36m7\u001b[0m\u001b[0;34m]\u001b[0m\u001b[0;34m\u001b[0m\u001b[0m\n\u001b[1;32m      2\u001b[0m \u001b[0mpylab\u001b[0m\u001b[0;34m.\u001b[0m\u001b[0mplot\u001b[0m\u001b[0;34m(\u001b[0m\u001b[0ma\u001b[0m\u001b[0;34m)\u001b[0m\u001b[0;34m\u001b[0m\u001b[0m\n\u001b[0;32m----> 3\u001b[0;31m \u001b[0mpylab\u001b[0m\u001b[0;34m.\u001b[0m\u001b[0mtitle\u001b[0m\u001b[0;34m(\u001b[0m\u001b[0mnumpy\u001b[0m\u001b[0;34m.\u001b[0m\u001b[0msum\u001b[0m\u001b[0;34m(\u001b[0m\u001b[0ma\u001b[0m\u001b[0;34m)\u001b[0m\u001b[0;34m)\u001b[0m\u001b[0;34m\u001b[0m\u001b[0m\n\u001b[0m",
      "\u001b[0;31mNameError\u001b[0m: name 'numpy' is not defined"
     ]
    },
    {
     "data": {
      "image/png": "[encoded data removed]",
      "text/plain": [
       "<matplotlib.figure.Figure at 0x7f3bc0a0ddd0>"
      ]
     },
     "metadata": {},
     "output_type": "display_data"
    }
   ],
   "source": [
    "a = radprofs[7]\n",
    "pylab.plot(a)\n",
    "pylab.title(numpy.sum(a))"
   ]
  },
  {
   "cell_type": "code",
   "execution_count": 10,
   "metadata": {},
   "outputs": [
    {
     "ename": "NameError",
     "evalue": "name 'numpy' is not defined",
     "output_type": "error",
     "traceback": [
      "\u001b[0;31m---------------------------------------------------------------------------\u001b[0m",
      "\u001b[0;31mNameError\u001b[0m                                 Traceback (most recent call last)",
      "\u001b[0;32m<ipython-input-10-a1cd743a0a92>\u001b[0m in \u001b[0;36m<module>\u001b[0;34m()\u001b[0m\n\u001b[1;32m      1\u001b[0m \u001b[0mpylab\u001b[0m\u001b[0;34m.\u001b[0m\u001b[0mfigure\u001b[0m\u001b[0;34m(\u001b[0m\u001b[0;34m)\u001b[0m\u001b[0;34m\u001b[0m\u001b[0m\n\u001b[0;32m----> 2\u001b[0;31m \u001b[0mpylab\u001b[0m\u001b[0;34m.\u001b[0m\u001b[0mplot\u001b[0m\u001b[0;34m(\u001b[0m\u001b[0;34m(\u001b[0m\u001b[0mnumpy\u001b[0m\u001b[0;34m.\u001b[0m\u001b[0msum\u001b[0m\u001b[0;34m(\u001b[0m\u001b[0ma\u001b[0m\u001b[0;34m)\u001b[0m\u001b[0;34m-\u001b[0m\u001b[0mnumpy\u001b[0m\u001b[0;34m.\u001b[0m\u001b[0mcumsum\u001b[0m\u001b[0;34m(\u001b[0m\u001b[0ma\u001b[0m\u001b[0;34m)\u001b[0m\u001b[0;34m)\u001b[0m\u001b[0;34m/\u001b[0m\u001b[0mnumpy\u001b[0m\u001b[0;34m.\u001b[0m\u001b[0msum\u001b[0m\u001b[0;34m(\u001b[0m\u001b[0ma\u001b[0m\u001b[0;34m)\u001b[0m\u001b[0;34m)\u001b[0m\u001b[0;34m\u001b[0m\u001b[0m\n\u001b[0m\u001b[1;32m      3\u001b[0m \u001b[0;34m\u001b[0m\u001b[0m\n\u001b[1;32m      4\u001b[0m \u001b[0mpylab\u001b[0m\u001b[0;34m.\u001b[0m\u001b[0mfigure\u001b[0m\u001b[0;34m(\u001b[0m\u001b[0;34m)\u001b[0m\u001b[0;34m\u001b[0m\u001b[0m\n\u001b[1;32m      5\u001b[0m \u001b[0mpylab\u001b[0m\u001b[0;34m.\u001b[0m\u001b[0mplot\u001b[0m\u001b[0;34m(\u001b[0m\u001b[0;34m(\u001b[0m\u001b[0mnumpy\u001b[0m\u001b[0;34m.\u001b[0m\u001b[0msum\u001b[0m\u001b[0;34m(\u001b[0m\u001b[0ma\u001b[0m\u001b[0;34m)\u001b[0m\u001b[0;34m-\u001b[0m\u001b[0mnumpy\u001b[0m\u001b[0;34m.\u001b[0m\u001b[0mcumsum\u001b[0m\u001b[0;34m(\u001b[0m\u001b[0ma\u001b[0m\u001b[0;34m)\u001b[0m\u001b[0;34m)\u001b[0m\u001b[0;34m/\u001b[0m\u001b[0mnumpy\u001b[0m\u001b[0;34m.\u001b[0m\u001b[0msum\u001b[0m\u001b[0;34m(\u001b[0m\u001b[0ma\u001b[0m\u001b[0;34m)\u001b[0m \u001b[0;34m<\u001b[0m \u001b[0;36m0.01\u001b[0m\u001b[0;34m)\u001b[0m\u001b[0;34m\u001b[0m\u001b[0m\n",
      "\u001b[0;31mNameError\u001b[0m: name 'numpy' is not defined"
     ]
    },
    {
     "data": {
      "text/plain": [
       "<matplotlib.figure.Figure at 0x7f3bb6bef110>"
      ]
     },
     "metadata": {},
     "output_type": "display_data"
    }
   ],
   "source": [
    "pylab.figure()\n",
    "pylab.plot((numpy.sum(a)-numpy.cumsum(a))/numpy.sum(a))\n",
    "\n",
    "pylab.figure()\n",
    "pylab.plot((numpy.sum(a)-numpy.cumsum(a))/numpy.sum(a) < 0.01)\n",
    "print(numpy.argmax((numpy.sum(a)-numpy.cumsum(a))/numpy.sum(a) < 0.01))"
   ]
  },
  {
   "cell_type": "code",
   "execution_count": 72,
   "metadata": {},
   "outputs": [
    {
     "data": {
      "text/plain": [
       "array([], shape=(2, 0), dtype=float64)"
      ]
     },
     "execution_count": 72,
     "metadata": {},
     "output_type": "execute_result"
    }
   ],
   "source": [
    "numpy.multiply(numpy.zeros((10,10))[3:5,-12:-15]"
   ]
  },
  {
   "cell_type": "code",
   "execution_count": 9,
   "metadata": {},
   "outputs": [
    {
     "name": "stdout",
     "output_type": "stream",
     "text": [
      "(501, 501)\n",
      "(501, 501)\n",
      "-1.78108216433e-09\n",
      "1.58946e-06\n",
      "0.598804\n"
     ]
    },
    {
     "data": {
      "image/png": "[encoded data removed]",
      "text/plain": [
       "<matplotlib.figure.Figure at 0x7efee33fd610>"
      ]
     },
     "metadata": {},
     "output_type": "display_data"
    }
   ],
   "source": [
    "%matplotlib inline\n",
    "pylab.imshow(radprofs)\n",
    "print np.shape(table)\n",
    "print np.shape(table)\n",
    "\n",
    "print np.mean(table[0][2:] - table[0][1:-1])\n",
    "print table[0][-1]\n",
    "print 149.701/250"
   ]
  },
  {
   "cell_type": "code",
   "execution_count": 8,
   "metadata": {},
   "outputs": [
    {
     "ename": "NameError",
     "evalue": "name 'numpy' is not defined",
     "output_type": "error",
     "traceback": [
      "\u001b[0;31m---------------------------------------------------------------------------\u001b[0m",
      "\u001b[0;31mNameError\u001b[0m                                 Traceback (most recent call last)",
      "\u001b[0;32m<ipython-input-8-7110a067b29d>\u001b[0m in \u001b[0;36m<module>\u001b[0;34m()\u001b[0m\n\u001b[1;32m      1\u001b[0m \u001b[0mpylab\u001b[0m\u001b[0;34m.\u001b[0m\u001b[0mfigure\u001b[0m\u001b[0;34m(\u001b[0m\u001b[0mfigsize\u001b[0m\u001b[0;34m=\u001b[0m\u001b[0;34m(\u001b[0m\u001b[0;36m10\u001b[0m\u001b[0;34m,\u001b[0m\u001b[0;36m10\u001b[0m\u001b[0;34m)\u001b[0m\u001b[0;34m)\u001b[0m\u001b[0;34m\u001b[0m\u001b[0m\n\u001b[0;32m----> 2\u001b[0;31m \u001b[0mpylab\u001b[0m\u001b[0;34m.\u001b[0m\u001b[0mimshow\u001b[0m\u001b[0;34m(\u001b[0m\u001b[0mnumpy\u001b[0m\u001b[0;34m.\u001b[0m\u001b[0marray\u001b[0m\u001b[0;34m(\u001b[0m\u001b[0mradprofs\u001b[0m\u001b[0;34m[\u001b[0m\u001b[0;36m7\u001b[0m\u001b[0;34m:\u001b[0m\u001b[0;34m]\u001b[0m\u001b[0;34m)\u001b[0m\u001b[0;34m)\u001b[0m\u001b[0;34m\u001b[0m\u001b[0m\n\u001b[0m\u001b[1;32m      3\u001b[0m \u001b[0mpylab\u001b[0m\u001b[0;34m.\u001b[0m\u001b[0mfigure\u001b[0m\u001b[0;34m(\u001b[0m\u001b[0;34m)\u001b[0m\u001b[0;34m\u001b[0m\u001b[0m\n\u001b[1;32m      4\u001b[0m \u001b[0mpylab\u001b[0m\u001b[0;34m.\u001b[0m\u001b[0mplot\u001b[0m\u001b[0;34m(\u001b[0m\u001b[0mradprofs\u001b[0m\u001b[0;34m[\u001b[0m\u001b[0;36m2\u001b[0m\u001b[0;34m]\u001b[0m\u001b[0;34m)\u001b[0m\u001b[0;34m\u001b[0m\u001b[0m\n",
      "\u001b[0;31mNameError\u001b[0m: name 'numpy' is not defined"
     ]
    },
    {
     "data": {
      "text/plain": [
       "<matplotlib.figure.Figure at 0x7fda7b7d4290>"
      ]
     },
     "metadata": {},
     "output_type": "display_data"
    }
   ],
   "source": [
    "pylab.figure(figsize=(10,10))\n",
    "pylab.imshow(numpy.array(radprofs[7:]))\n",
    "pylab.figure()\n",
    "pylab.plot(radprofs[2])"
   ]
  },
  {
   "cell_type": "code",
   "execution_count": 164,
   "metadata": {},
   "outputs": [
    {
     "data": {
      "text/plain": [
       "(1, 1, 10)"
      ]
     },
     "execution_count": 164,
     "metadata": {},
     "output_type": "execute_result"
    }
   ],
   "source": [
    "numpy.zeros((10,10,10))[2:3,2:3,:].shape"
   ]
  },
  {
   "cell_type": "code",
   "execution_count": 154,
   "metadata": {
    "collapsed": true
   },
   "outputs": [],
   "source": [
    "def lookup_light_intensity(distance,depth,radprofs,lat_distances,depths):\n",
    "    \"\"\"\n",
    "    Find the intensity of light impinging on a point *distance* far from the source, at depth *depth*,\n",
    "    based on the precomupted radial profiles in *radprofs*. The coordinates of the samples along the \n",
    "    lateral and depth axis are specified in the accordingly named parameters.\n",
    "    \"\"\"\n",
    "    lookup =  scipy.interpolate.RegularGridInterpolator((depths,lat_distances), radprofs, method='linear',bounds_error=False,fill_value=0)\n",
    "    #lookup =  scipy.interpolate.RectBivariateSpline(depths,lat_distances, numpy.array(radprofs))\n",
    "    #return lookup(depth,distance,grid=False)\n",
    "    return lookup(zip(depth,distance))"
   ]
  },
  {
   "cell_type": "code",
   "execution_count": 159,
   "metadata": {
    "collapsed": true
   },
   "outputs": [],
   "source": [
    "#x,y= np.meshgrid(np.arange(0,1000,10),np.arange(390,400,10))\n",
    "x,y= np.meshgrid(np.arange(0,10,1),np.arange(0,10,1))"
   ]
  },
  {
   "cell_type": "code",
   "execution_count": 160,
   "metadata": {},
   "outputs": [
    {
     "name": "stdout",
     "output_type": "stream",
     "text": [
      "[[0 1 2 3 4 5 6 7 8 9]\n",
      " [0 1 2 3 4 5 6 7 8 9]\n",
      " [0 1 2 3 4 5 6 7 8 9]\n",
      " [0 1 2 3 4 5 6 7 8 9]\n",
      " [0 1 2 3 4 5 6 7 8 9]\n",
      " [0 1 2 3 4 5 6 7 8 9]\n",
      " [0 1 2 3 4 5 6 7 8 9]\n",
      " [0 1 2 3 4 5 6 7 8 9]\n",
      " [0 1 2 3 4 5 6 7 8 9]\n",
      " [0 1 2 3 4 5 6 7 8 9]]\n",
      "[0 1 2 3 4 5 6 7 8 9 0 1 2 3 4 5 6 7 8 9 0 1 2 3 4 5 6 7 8 9 0 1 2 3 4 5 6\n",
      " 7 8 9 0 1 2 3 4 5 6 7 8 9 0 1 2 3 4 5 6 7 8 9 0 1 2 3 4 5 6 7 8 9 0 1 2 3\n",
      " 4 5 6 7 8 9 0 1 2 3 4 5 6 7 8 9 0 1 2 3 4 5 6 7 8 9]\n"
     ]
    }
   ],
   "source": [
    "print x\n",
    "print x.flatten()"
   ]
  },
  {
   "cell_type": "code",
   "execution_count": 141,
   "metadata": {},
   "outputs": [
    {
     "data": {
      "text/plain": [
       "354"
      ]
     },
     "execution_count": 141,
     "metadata": {},
     "output_type": "execute_result"
    }
   ],
   "source": [
    "numpy.shape(radprofs)[1]"
   ]
  },
  {
   "cell_type": "code",
   "execution_count": 155,
   "metadata": {},
   "outputs": [
    {
     "name": "stdout",
     "output_type": "stream",
     "text": [
      "[  1.45196090e+13   3.31093974e+12   2.27875947e+12   1.78378856e+12\n",
      "   1.40025910e+12   1.16692362e+12   9.66968743e+11   8.22379940e+11\n",
      "   7.23671800e+11   6.16059938e+11   5.52784524e+11   4.98599862e+11\n",
      "   4.57756898e+11   4.19900096e+11   4.00897020e+11   3.89887016e+11\n",
      "   3.73870748e+11   3.48126604e+11   3.43172535e+11   3.27399613e+11\n",
      "   3.34240055e+11   3.41231315e+11   0.00000000e+00   0.00000000e+00\n",
      "   0.00000000e+00   0.00000000e+00   0.00000000e+00   0.00000000e+00\n",
      "   0.00000000e+00   0.00000000e+00   0.00000000e+00   0.00000000e+00\n",
      "   0.00000000e+00   0.00000000e+00   0.00000000e+00   0.00000000e+00\n",
      "   0.00000000e+00   0.00000000e+00   0.00000000e+00   0.00000000e+00\n",
      "   0.00000000e+00   0.00000000e+00   0.00000000e+00   0.00000000e+00\n",
      "   0.00000000e+00   0.00000000e+00   0.00000000e+00   0.00000000e+00\n",
      "   0.00000000e+00   0.00000000e+00   0.00000000e+00   0.00000000e+00\n",
      "   0.00000000e+00   0.00000000e+00   0.00000000e+00   0.00000000e+00\n",
      "   0.00000000e+00   0.00000000e+00   0.00000000e+00   0.00000000e+00\n",
      "   0.00000000e+00   0.00000000e+00   0.00000000e+00   0.00000000e+00\n",
      "   0.00000000e+00   0.00000000e+00   0.00000000e+00   0.00000000e+00\n",
      "   0.00000000e+00   0.00000000e+00   0.00000000e+00   0.00000000e+00\n",
      "   0.00000000e+00   0.00000000e+00   0.00000000e+00   0.00000000e+00\n",
      "   0.00000000e+00   0.00000000e+00   0.00000000e+00   0.00000000e+00\n",
      "   0.00000000e+00   0.00000000e+00   0.00000000e+00   0.00000000e+00\n",
      "   0.00000000e+00   0.00000000e+00   0.00000000e+00   0.00000000e+00\n",
      "   0.00000000e+00   0.00000000e+00   0.00000000e+00   0.00000000e+00\n",
      "   0.00000000e+00   0.00000000e+00   0.00000000e+00   0.00000000e+00\n",
      "   0.00000000e+00   0.00000000e+00   0.00000000e+00   0.00000000e+00]\n"
     ]
    },
    {
     "data": {
      "text/plain": [
       "<matplotlib.colorbar.Colorbar at 0x7efed8d7f7d0>"
      ]
     },
     "execution_count": 155,
     "metadata": {},
     "output_type": "execute_result"
    },
    {
     "data": {
      "image/png": "[encoded data removed]",
      "text/plain": [
       "<matplotlib.figure.Figure at 0x7efeda604810>"
      ]
     },
     "metadata": {},
     "output_type": "display_data"
    }
   ],
   "source": [
    "W = 3.9e-10\n",
    "K = 2.97e26\n",
    "res = W*K*lookup_light_intensity(x.flatten(),y.flatten(),radprofs,numpy.linspace(0,1,numpy.shape(radprofs)[1])*149.701*numpy.sqrt(2),np.arange(0,1080,60))\n",
    "print res\n",
    "pylab.figure(figsize=(20,20))\n",
    "pylab.scatter(x.flatten(),y.flatten(),c=res,cmap='gray')\n",
    "pylab.colorbar()"
   ]
  },
  {
   "cell_type": "code",
   "execution_count": null,
   "metadata": {
    "collapsed": true
   },
   "outputs": [],
   "source": []
  }
 ],
 "metadata": {
  "kernelspec": {
   "display_name": "Python 2",
   "language": "python",
   "name": "python2"
  },
  "language_info": {
   "codemirror_mode": {
    "name": "ipython",
    "version": 2
   },
   "file_extension": ".py",
   "mimetype": "text/x-python",
   "name": "python",
   "nbconvert_exporter": "python",
   "pygments_lexer": "ipython2",
   "version": "2.7.14"
  }
 },
 "nbformat": 4,
 "nbformat_minor": 2
}
