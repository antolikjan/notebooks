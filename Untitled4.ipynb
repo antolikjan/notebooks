{
 "metadata": {
  "name": "",
  "signature": "sha256:745927134ab8aca98c4fa453a1cb7d3f07860fe57ed2f091718dae98977d9127"
 },
 "nbformat": 3,
 "nbformat_minor": 0,
 "worksheets": []
}