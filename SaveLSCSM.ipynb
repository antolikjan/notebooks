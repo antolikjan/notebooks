{
 "metadata": {
  "name": "SaveLSCSM"
 }, 
 "nbformat": 2, 
 "worksheets": [
  {
   "cells": [
    {
     "cell_type": "code", 
     "collapsed": false, 
     "input": [
      "import __main__", 
      "import pickle ", 
      "import os", 
      "sys.path.append('/home/jan/projects/topographica/')", 
      "from contrib.JanA.LSCSMNEW import loadBestResults", 
      "", 
      "__main__.__dict__.update({", 
      " 'dataset':\"2010_04_22\",", 
      " 'density':0.15,", 
      " 'CutOut':True,", 
      " 'ValidationSetFraction':50,", 
      " 'SaveFig':True,", 
      " 'norm':False,", 
      " 'Spiking':True,", 
      " 'LaplaceBias':0.0001,", 
      " 'RPILaplaceBias':0.0001,", 
      " 'SecondLayer':True,", 
      " 'NumNeurons':102,", 
      " 'EarlyStopping':False,", 
      " 'NumEpochs':100,", 
      " 'EpochSize':1000,", 
      " 'NormalizeActivities':False,", 
      " 'NormalizeInputs':False,", 
      " 'V1OF':\"LogisticLoss\",", 
      " 'NegativeLgn':True,", 
      " 'LGNTreshold':False,", 
      " 'LL':True,", 
      " 'LGNOF':\"Linear\",", 
      " 'MaxW':40000,", 
      " 'MaxWL2':4,", 
      " 'BalancedLGN':False,", 
      " 'LSCSMOLD':False,", 
      " 'save_name':\"2010_04_22.dat\",", 
      " 'A':1,", 
      " 'LgnNum':9,", 
      " 'HiddenLayerSize':0.2,", 
      " 'Seed':4324324})", 
      "", 
      "os.chdir('/home/jan/projects/topographica/')                                                                                                                    ", 
      "                                                                                                                    ", 
      "l = loadBestResults()", 
      "globals().update(l)"
     ], 
     "language": "python", 
     "outputs": [
      {
       "output_type": "stream", 
       "stream": "stdout", 
       "text": [
        "Correlation Coefficients (training/validation): 0.364613159257/0.502770367069", 
        "(1800, 103)"
       ]
      }, 
      {
       "output_type": "stream", 
       "stream": "stdout", 
       "text": [
        "", 
        "(103,)", 
        "(103,)", 
        "(103,)", 
        "Correlation Coefficients (training/validation): 0.365835600081/0.428514522892"
       ]
      }, 
      {
       "output_type": "stream", 
       "stream": "stdout", 
       "text": [
        "", 
        "(1260, 55)", 
        "(55,)", 
        "(55,)", 
        "(55,)", 
        "Correlation Coefficients (training/validation): 0.342390464514/0.456157337501"
       ]
      }, 
      {
       "output_type": "stream", 
       "stream": "stdout", 
       "text": [
        "", 
        "(1800, 102)"
       ]
      }, 
      {
       "output_type": "stream", 
       "stream": "stdout", 
       "text": [
        "", 
        "(102,)", 
        "(102,)", 
        "(102,)"
       ]
      }
     ], 
     "prompt_number": 12
    }, 
    {
     "cell_type": "code", 
     "collapsed": true, 
     "input": [
      "numpy.savetxt('lscsm_rs.txt',numpy.array(lscsm_rs))", 
      "numpy.savetxt('lscsm_rc.txt',numpy.array(lscsm_rc))"
     ], 
     "language": "python", 
     "outputs": [], 
     "prompt_number": 13
    }, 
    {
     "cell_type": "code", 
     "collapsed": false, 
     "input": [
      "f = open(\"measured_activities\",'wb')", 
      "pickle.dump(ts[0],f)", 
      "f.close()", 
      "", 
      "f = open(\"pred_activities\",'wb')", 
      "pickle.dump(pred_act[0],f)", 
      "f.close()", 
      "", 
      "print 'finished'"
     ], 
     "language": "python", 
     "outputs": [
      {
       "output_type": "stream", 
       "stream": "stdout", 
       "text": [
        "finished"
       ]
      }
     ], 
     "prompt_number": 14
    }, 
    {
     "cell_type": "code", 
     "collapsed": true, 
     "input": [], 
     "language": "python", 
     "outputs": [], 
     "prompt_number": 14
    }
   ]
  }
 ]
}