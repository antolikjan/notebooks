{
 "metadata": {
  "name": "",
  "signature": "sha256:3622e014295afbb086ffeb480cc4e747baadd20e06484bbec724e3202465fb68"
 },
 "nbformat": 3,
 "nbformat_minor": 0,
 "worksheets": [
  {
   "cells": [
    {
     "cell_type": "code",
     "collapsed": true,
     "input": [
      "del sys.path[sys.path.index('/home/jan/projects/mozaik')]\n",
      "sys.path.append('/home/jan/cluster/dev/pkg/mozaik/mozaik/contrib/')\n",
      "sys.path.append('/home/jan/cluster/dev/pkg/mozaik/mozaik/')\n",
      "import numpy\n",
      "import mozaik\n",
      "from mozaik.controller import run_workflow, setup_logging\n",
      "from mozaik.storage.datastore import Hdf5DataStore,PickledDataStore\n",
      "from parameters import ParameterSet\n",
      "from mozaik.visualization.plotting import *\n",
      "from mozaik.analysis.technical import NeuronAnnotationsToPerNeuronValues\n",
      "from mozaik.tools.mozaik_parametrized import colapse, colapse_to_dictionary, MozaikParametrized\n",
      "from mozaik.analysis.analysis import *\n",
      "from mozaik.analysis.vision import *\n",
      "from mozaik.storage.queries import *\n",
      "import sys\n",
      "import Kremkow_plots\n",
      "from Kremkow_plots import *\n",
      "\n",
      "setup_logging()\n",
      "\n",
      "            \n",
      "data_store = PickledDataStore(load=True,parameters=ParameterSet({'root_directory':'/home/jan/cluster/dev/pkg/mozaik/mozaik/contrib/PushPullCCLISSOMModelSSIzL23/20141106-133036[param_new_no_naka.defaults]CombinationParamSearch{6}/SelfSustainedPushPull_ParameterSearch_____sigma:0.5_base_weight:0.002_base_weight:0.001_sigma:0.5_base_weight:0.0003_gain:1.0', 'store_stimuli': False}),replace=True)            "
     ],
     "language": "python",
     "metadata": {},
     "outputs": [],
     "prompt_number": 1
    },
    {
     "cell_type": "code",
     "collapsed": false,
     "input": [
      "NeuronAnnotationsToPerNeuronValues(data_store,ParameterSet({})).analyse()\n",
      "analog_ids = param_filter_query(data_store,sheet_name=\"V1_Exc_L4\").get_segments()[0].get_stored_esyn_ids()\n",
      "analog_ids_inh = param_filter_query(data_store,sheet_name=\"V1_Inh_L4\").get_segments()[0].get_stored_esyn_ids()\n",
      "spike_ids = param_filter_query(data_store,sheet_name=\"V1_Exc_L4\").get_segments()[0].get_stored_spike_train_ids()\n",
      "spike_ids_inh = param_filter_query(data_store,sheet_name=\"V1_Inh_L4\").get_segments()[0].get_stored_spike_train_ids()\n",
      "\n",
      "l4_exc_or = data_store.get_analysis_result(identifier='PerNeuronValue',value_name = 'LGNAfferentOrientation', sheet_name = 'V1_Exc_L4')\n",
      "l4_exc_phase = data_store.get_analysis_result(identifier='PerNeuronValue',value_name = 'LGNAfferentPhase', sheet_name = 'V1_Exc_L4')\n",
      "\n",
      "print len(l4_exc_or)\n",
      "print len(l4_exc_phase)\n",
      "\n",
      "l4_exc = analog_ids[numpy.argmin([circular_dist(o,numpy.pi/2,numpy.pi)  for (o,p) in zip(l4_exc_or[0].get_value_by_id(analog_ids),l4_exc_phase[0].get_value_by_id(analog_ids))])]\n",
      "\n",
      "\n",
      "\n",
      "l4_inh_or = data_store.get_analysis_result(identifier='PerNeuronValue',value_name = 'LGNAfferentOrientation', sheet_name = 'V1_Inh_L4')\n",
      "l4_inh_phase = data_store.get_analysis_result(identifier='PerNeuronValue',value_name = 'LGNAfferentPhase', sheet_name = 'V1_Inh_L4')\n",
      "l4_inh = analog_ids_inh[numpy.argmin([circular_dist(o,numpy.pi/2,numpy.pi)  for (o,p) in zip(l4_inh_or[0].get_value_by_id(analog_ids_inh),l4_inh_phase[0].get_value_by_id(analog_ids_inh))])]\n",
      "l4_exc_or_many = numpy.array(l4_exc_or[0].ids)[numpy.nonzero(numpy.array([circular_dist(o,numpy.pi/2,numpy.pi)  for (o,p) in zip(l4_exc_or[0].values,l4_exc_phase[0].values)]) < 0.1)[0]]"
     ],
     "language": "python",
     "metadata": {},
     "outputs": [
      {
       "output_type": "stream",
       "stream": "stderr",
       "text": [
        "  Starting NeuronAnnotationsToPerNeuronValues analysis"
       ]
      },
      {
       "output_type": "stream",
       "stream": "stderr",
       "text": [
        "  Starting NeuronAnnotationsToPerNeuronValues Analysis"
       ]
      },
      {
       "output_type": "stream",
       "stream": "stderr",
       "text": [
        "  Warning: ADS with the same parametrization already added in the datastore.: {&quot;module_path&quot; :&quot;mozaik.analysis.data_structures&quot;,&quot;analysis_algorithm&quot;:&apos;NeuronAnnotationsToPerNeuronValues&apos;, &quot;identifier&quot;:&apos;PerNeuronValue&apos;, &quot;name&quot;:&apos;PerNeuronValue&apos;, &quot;neuron&quot;:None, &quot;period&quot;:3.141592653589793, &quot;sheet_name&quot;:&apos;V1_Exc_L2/3&apos;, &quot;stimulus_id&quot;:None, &quot;value_name&quot;:&apos;LGNAfferentOrientation&apos;}"
       ]
      },
      {
       "output_type": "stream",
       "stream": "stderr",
       "text": [
        "  Warning: ADS with the same parametrization already added in the datastore.: {&quot;module_path&quot; :&quot;mozaik.analysis.data_structures&quot;,&quot;analysis_algorithm&quot;:&apos;NeuronAnnotationsToPerNeuronValues&apos;, &quot;identifier&quot;:&apos;PerNeuronValue&apos;, &quot;name&quot;:&apos;PerNeuronValue&apos;, &quot;neuron&quot;:None, &quot;period&quot;:6.283185307179586, &quot;sheet_name&quot;:&apos;V1_Exc_L4&apos;, &quot;stimulus_id&quot;:None, &quot;value_name&quot;:&apos;LGNAfferentPhase&apos;}"
       ]
      },
      {
       "output_type": "stream",
       "stream": "stderr",
       "text": [
        "  Warning: ADS with the same parametrization already added in the datastore.: {&quot;module_path&quot; :&quot;mozaik.analysis.data_structures&quot;,&quot;analysis_algorithm&quot;:&apos;NeuronAnnotationsToPerNeuronValues&apos;, &quot;identifier&quot;:&apos;PerNeuronValue&apos;, &quot;name&quot;:&apos;PerNeuronValue&apos;, &quot;neuron&quot;:None, &quot;period&quot;:3.141592653589793, &quot;sheet_name&quot;:&apos;V1_Exc_L4&apos;, &quot;stimulus_id&quot;:None, &quot;value_name&quot;:&apos;LGNAfferentOrientation&apos;}"
       ]
      },
      {
       "output_type": "stream",
       "stream": "stderr",
       "text": [
        "  Warning: ADS with the same parametrization already added in the datastore.: {&quot;module_path&quot; :&quot;mozaik.analysis.data_structures&quot;,&quot;analysis_algorithm&quot;:&apos;NeuronAnnotationsToPerNeuronValues&apos;, &quot;identifier&quot;:&apos;PerNeuronValue&apos;, &quot;name&quot;:&apos;PerNeuronValue&apos;, &quot;neuron&quot;:None, &quot;period&quot;:None, &quot;sheet_name&quot;:&apos;V1_Exc_L4&apos;, &quot;stimulus_id&quot;:None, &quot;value_name&quot;:&apos;LGNAfferentSize&apos;}"
       ]
      },
      {
       "output_type": "stream",
       "stream": "stderr",
       "text": [
        "  Warning: ADS with the same parametrization already added in the datastore.: {&quot;module_path&quot; :&quot;mozaik.analysis.data_structures&quot;,&quot;analysis_algorithm&quot;:&apos;NeuronAnnotationsToPerNeuronValues&apos;, &quot;identifier&quot;:&apos;PerNeuronValue&apos;, &quot;name&quot;:&apos;PerNeuronValue&apos;, &quot;neuron&quot;:None, &quot;period&quot;:None, &quot;sheet_name&quot;:&apos;V1_Exc_L4&apos;, &quot;stimulus_id&quot;:None, &quot;value_name&quot;:&apos;LGNAfferentY&apos;}"
       ]
      },
      {
       "output_type": "stream",
       "stream": "stderr",
       "text": [
        "  Warning: ADS with the same parametrization already added in the datastore.: {&quot;module_path&quot; :&quot;mozaik.analysis.data_structures&quot;,&quot;analysis_algorithm&quot;:&apos;NeuronAnnotationsToPerNeuronValues&apos;, &quot;identifier&quot;:&apos;PerNeuronValue&apos;, &quot;name&quot;:&apos;PerNeuronValue&apos;, &quot;neuron&quot;:None, &quot;period&quot;:None, &quot;sheet_name&quot;:&apos;V1_Exc_L4&apos;, &quot;stimulus_id&quot;:None, &quot;value_name&quot;:&apos;LGNAfferentX&apos;}"
       ]
      },
      {
       "output_type": "stream",
       "stream": "stderr",
       "text": [
        "  Warning: ADS with the same parametrization already added in the datastore.: {&quot;module_path&quot; :&quot;mozaik.analysis.data_structures&quot;,&quot;analysis_algorithm&quot;:&apos;NeuronAnnotationsToPerNeuronValues&apos;, &quot;identifier&quot;:&apos;PerNeuronValue&apos;, &quot;name&quot;:&apos;PerNeuronValue&apos;, &quot;neuron&quot;:None, &quot;period&quot;:None, &quot;sheet_name&quot;:&apos;V1_Exc_L4&apos;, &quot;stimulus_id&quot;:None, &quot;value_name&quot;:&apos;LGNAfferentAspectRatio&apos;}"
       ]
      },
      {
       "output_type": "stream",
       "stream": "stderr",
       "text": [
        "  Warning: ADS with the same parametrization already added in the datastore.: {&quot;module_path&quot; :&quot;mozaik.analysis.data_structures&quot;,&quot;analysis_algorithm&quot;:&apos;NeuronAnnotationsToPerNeuronValues&apos;, &quot;identifier&quot;:&apos;PerNeuronValue&apos;, &quot;name&quot;:&apos;PerNeuronValue&apos;, &quot;neuron&quot;:None, &quot;period&quot;:None, &quot;sheet_name&quot;:&apos;V1_Exc_L4&apos;, &quot;stimulus_id&quot;:None, &quot;value_name&quot;:&apos;LGNAfferentFrequency&apos;}"
       ]
      },
      {
       "output_type": "stream",
       "stream": "stderr",
       "text": [
        "  Warning: ADS with the same parametrization already added in the datastore.: {&quot;module_path&quot; :&quot;mozaik.analysis.data_structures&quot;,&quot;analysis_algorithm&quot;:&apos;NeuronAnnotationsToPerNeuronValues&apos;, &quot;identifier&quot;:&apos;PerNeuronValue&apos;, &quot;name&quot;:&apos;PerNeuronValue&apos;, &quot;neuron&quot;:None, &quot;period&quot;:6.283185307179586, &quot;sheet_name&quot;:&apos;V1_Inh_L4&apos;, &quot;stimulus_id&quot;:None, &quot;value_name&quot;:&apos;LGNAfferentPhase&apos;}"
       ]
      },
      {
       "output_type": "stream",
       "stream": "stderr",
       "text": [
        "  Warning: ADS with the same parametrization already added in the datastore.: {&quot;module_path&quot; :&quot;mozaik.analysis.data_structures&quot;,&quot;analysis_algorithm&quot;:&apos;NeuronAnnotationsToPerNeuronValues&apos;, &quot;identifier&quot;:&apos;PerNeuronValue&apos;, &quot;name&quot;:&apos;PerNeuronValue&apos;, &quot;neuron&quot;:None, &quot;period&quot;:3.141592653589793, &quot;sheet_name&quot;:&apos;V1_Inh_L4&apos;, &quot;stimulus_id&quot;:None, &quot;value_name&quot;:&apos;LGNAfferentOrientation&apos;}"
       ]
      },
      {
       "output_type": "stream",
       "stream": "stderr",
       "text": [
        "  Warning: ADS with the same parametrization already added in the datastore.: {&quot;module_path&quot; :&quot;mozaik.analysis.data_structures&quot;,&quot;analysis_algorithm&quot;:&apos;NeuronAnnotationsToPerNeuronValues&apos;, &quot;identifier&quot;:&apos;PerNeuronValue&apos;, &quot;name&quot;:&apos;PerNeuronValue&apos;, &quot;neuron&quot;:None, &quot;period&quot;:None, &quot;sheet_name&quot;:&apos;V1_Inh_L4&apos;, &quot;stimulus_id&quot;:None, &quot;value_name&quot;:&apos;LGNAfferentSize&apos;}"
       ]
      },
      {
       "output_type": "stream",
       "stream": "stderr",
       "text": [
        "  Warning: ADS with the same parametrization already added in the datastore.: {&quot;module_path&quot; :&quot;mozaik.analysis.data_structures&quot;,&quot;analysis_algorithm&quot;:&apos;NeuronAnnotationsToPerNeuronValues&apos;, &quot;identifier&quot;:&apos;PerNeuronValue&apos;, &quot;name&quot;:&apos;PerNeuronValue&apos;, &quot;neuron&quot;:None, &quot;period&quot;:None, &quot;sheet_name&quot;:&apos;V1_Inh_L4&apos;, &quot;stimulus_id&quot;:None, &quot;value_name&quot;:&apos;LGNAfferentY&apos;}"
       ]
      },
      {
       "output_type": "stream",
       "stream": "stderr",
       "text": [
        "  Warning: ADS with the same parametrization already added in the datastore.: {&quot;module_path&quot; :&quot;mozaik.analysis.data_structures&quot;,&quot;analysis_algorithm&quot;:&apos;NeuronAnnotationsToPerNeuronValues&apos;, &quot;identifier&quot;:&apos;PerNeuronValue&apos;, &quot;name&quot;:&apos;PerNeuronValue&apos;, &quot;neuron&quot;:None, &quot;period&quot;:None, &quot;sheet_name&quot;:&apos;V1_Inh_L4&apos;, &quot;stimulus_id&quot;:None, &quot;value_name&quot;:&apos;LGNAfferentX&apos;}"
       ]
      },
      {
       "output_type": "stream",
       "stream": "stderr",
       "text": [
        "  Warning: ADS with the same parametrization already added in the datastore.: {&quot;module_path&quot; :&quot;mozaik.analysis.data_structures&quot;,&quot;analysis_algorithm&quot;:&apos;NeuronAnnotationsToPerNeuronValues&apos;, &quot;identifier&quot;:&apos;PerNeuronValue&apos;, &quot;name&quot;:&apos;PerNeuronValue&apos;, &quot;neuron&quot;:None, &quot;period&quot;:None, &quot;sheet_name&quot;:&apos;V1_Inh_L4&apos;, &quot;stimulus_id&quot;:None, &quot;value_name&quot;:&apos;LGNAfferentAspectRatio&apos;}"
       ]
      },
      {
       "output_type": "stream",
       "stream": "stderr",
       "text": [
        "  Warning: ADS with the same parametrization already added in the datastore.: {&quot;module_path&quot; :&quot;mozaik.analysis.data_structures&quot;,&quot;analysis_algorithm&quot;:&apos;NeuronAnnotationsToPerNeuronValues&apos;, &quot;identifier&quot;:&apos;PerNeuronValue&apos;, &quot;name&quot;:&apos;PerNeuronValue&apos;, &quot;neuron&quot;:None, &quot;period&quot;:None, &quot;sheet_name&quot;:&apos;V1_Inh_L4&apos;, &quot;stimulus_id&quot;:None, &quot;value_name&quot;:&apos;LGNAfferentFrequency&apos;}"
       ]
      },
      {
       "output_type": "stream",
       "stream": "stderr",
       "text": [
        "  Warning: ADS with the same parametrization already added in the datastore.: {&quot;module_path&quot; :&quot;mozaik.analysis.data_structures&quot;,&quot;analysis_algorithm&quot;:&apos;NeuronAnnotationsToPerNeuronValues&apos;, &quot;identifier&quot;:&apos;PerNeuronValue&apos;, &quot;name&quot;:&apos;PerNeuronValue&apos;, &quot;neuron&quot;:None, &quot;period&quot;:3.141592653589793, &quot;sheet_name&quot;:&apos;V1_Inh_L2/3&apos;, &quot;stimulus_id&quot;:None, &quot;value_name&quot;:&apos;LGNAfferentOrientation&apos;}"
       ]
      },
      {
       "output_type": "stream",
       "stream": "stderr",
       "text": [
        "NeuronAnnotationsToPerNeuronValues analysis took: 3.28029990196seconds"
       ]
      },
      {
       "output_type": "stream",
       "stream": "stdout",
       "text": [
        "1\n",
        "1"
       ]
      }
     ],
     "prompt_number": 2
    },
    {
     "cell_type": "code",
     "collapsed": true,
     "input": [
      "import MRFig\n",
      "MRfig.MRfig(dsv,ParameterSet({'SimpleSheetName' : 'V1_Exc_L4','ComplexSheetName' : 'V1_Exc_L2/3'}),fig_param={'dpi' : 100,'figsize': (19,12)}).plot()"
     ],
     "language": "python",
     "metadata": {},
     "outputs": []
    }
   ],
   "metadata": {}
  }
 ]
}